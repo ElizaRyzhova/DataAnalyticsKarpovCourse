{
 "cells": [
  {
   "cell_type": "markdown",
   "id": "375e94eb",
   "metadata": {},
   "source": [
    "# Установка библиотек, загрузка и осмотр данных."
   ]
  },
  {
   "cell_type": "code",
   "execution_count": 1,
   "id": "4Sbg4qXHfSIa",
   "metadata": {
    "id": "4Sbg4qXHfSIa"
   },
   "outputs": [],
   "source": [
    "import pandas as pd\n",
    "import numpy as np\n",
    "import seaborn as sns\n",
    "import matplotlib.pyplot as plt"
   ]
  },
  {
   "cell_type": "code",
   "execution_count": 2,
   "id": "fb9fee2c",
   "metadata": {},
   "outputs": [],
   "source": [
    "# Загружаем данные с Гугл Диска, если данных нет в рабочей директории.\n",
    "import gdown\n",
    "import os\n",
    "if not os.path.isfile('olist_customers_dataset.csv'):\n",
    "    gdown.download('https://drive.google.com/uc?id=1Jz32uuKA3js6FjzhuQ9I_oo2qtSByz40', 'olist_customers_dataset.csv')\n",
    "if not os.path.isfile('olist_orders_dataset.csv'):\n",
    "    gdown.download('https://drive.google.com/uc?id=1C6OoBtG2gm7_has5cWN85sxmua1DmZ1m', 'olist_orders_dataset.csv')\n",
    "if not os.path.isfile('olist_order_items_dataset.csv'):\n",
    "    gdown.download('https://drive.google.com/uc?id=1TspbR1PuxRXQCj7kq3M1msfVy30e16eN', 'olist_order_items_dataset.csv')"
   ]
  },
  {
   "cell_type": "code",
   "execution_count": 3,
   "id": "NNvumuAYfSIe",
   "metadata": {
    "id": "NNvumuAYfSIe"
   },
   "outputs": [],
   "source": [
    "# Таблица с уникальными идентификаторами пользователей.\n",
    "olist_customers = pd.read_csv('olist_customers_dataset.csv')"
   ]
  },
  {
   "cell_type": "code",
   "execution_count": 4,
   "id": "LvkeWhaffSIe",
   "metadata": {
    "id": "LvkeWhaffSIe"
   },
   "outputs": [],
   "source": [
    "# Таблица заказов.\n",
    "olist_order_items = pd.read_csv('olist_order_items_dataset.csv')"
   ]
  },
  {
   "cell_type": "code",
   "execution_count": 5,
   "id": "iyWEOwTwfSIf",
   "metadata": {
    "id": "iyWEOwTwfSIf"
   },
   "outputs": [],
   "source": [
    "# Таблица товаров, входящих в заказы\n",
    "# Сразу переведём временные признаки в timestamp.\n",
    "olist_orders = pd.read_csv('olist_orders_dataset.csv', parse_dates= list(range(3,8)))"
   ]
  },
  {
   "cell_type": "code",
   "execution_count": 6,
   "id": "WCepg4BUfSIf",
   "metadata": {
    "colab": {
     "base_uri": "https://localhost:8080/",
     "height": 206
    },
    "id": "WCepg4BUfSIf",
    "outputId": "b06f3b90-94ca-4a6f-883a-b60f761af1dd"
   },
   "outputs": [
    {
     "data": {
      "text/html": [
       "<div>\n",
       "<style scoped>\n",
       "    .dataframe tbody tr th:only-of-type {\n",
       "        vertical-align: middle;\n",
       "    }\n",
       "\n",
       "    .dataframe tbody tr th {\n",
       "        vertical-align: top;\n",
       "    }\n",
       "\n",
       "    .dataframe thead th {\n",
       "        text-align: right;\n",
       "    }\n",
       "</style>\n",
       "<table border=\"1\" class=\"dataframe\">\n",
       "  <thead>\n",
       "    <tr style=\"text-align: right;\">\n",
       "      <th></th>\n",
       "      <th>customer_id</th>\n",
       "      <th>customer_unique_id</th>\n",
       "      <th>customer_zip_code_prefix</th>\n",
       "      <th>customer_city</th>\n",
       "      <th>customer_state</th>\n",
       "    </tr>\n",
       "  </thead>\n",
       "  <tbody>\n",
       "    <tr>\n",
       "      <th>0</th>\n",
       "      <td>06b8999e2fba1a1fbc88172c00ba8bc7</td>\n",
       "      <td>861eff4711a542e4b93843c6dd7febb0</td>\n",
       "      <td>14409</td>\n",
       "      <td>franca</td>\n",
       "      <td>SP</td>\n",
       "    </tr>\n",
       "    <tr>\n",
       "      <th>1</th>\n",
       "      <td>18955e83d337fd6b2def6b18a428ac77</td>\n",
       "      <td>290c77bc529b7ac935b93aa66c333dc3</td>\n",
       "      <td>9790</td>\n",
       "      <td>sao bernardo do campo</td>\n",
       "      <td>SP</td>\n",
       "    </tr>\n",
       "    <tr>\n",
       "      <th>2</th>\n",
       "      <td>4e7b3e00288586ebd08712fdd0374a03</td>\n",
       "      <td>060e732b5b29e8181a18229c7b0b2b5e</td>\n",
       "      <td>1151</td>\n",
       "      <td>sao paulo</td>\n",
       "      <td>SP</td>\n",
       "    </tr>\n",
       "    <tr>\n",
       "      <th>3</th>\n",
       "      <td>b2b6027bc5c5109e529d4dc6358b12c3</td>\n",
       "      <td>259dac757896d24d7702b9acbbff3f3c</td>\n",
       "      <td>8775</td>\n",
       "      <td>mogi das cruzes</td>\n",
       "      <td>SP</td>\n",
       "    </tr>\n",
       "    <tr>\n",
       "      <th>4</th>\n",
       "      <td>4f2d8ab171c80ec8364f7c12e35b23ad</td>\n",
       "      <td>345ecd01c38d18a9036ed96c73b8d066</td>\n",
       "      <td>13056</td>\n",
       "      <td>campinas</td>\n",
       "      <td>SP</td>\n",
       "    </tr>\n",
       "  </tbody>\n",
       "</table>\n",
       "</div>"
      ],
      "text/plain": [
       "                        customer_id                customer_unique_id  \\\n",
       "0  06b8999e2fba1a1fbc88172c00ba8bc7  861eff4711a542e4b93843c6dd7febb0   \n",
       "1  18955e83d337fd6b2def6b18a428ac77  290c77bc529b7ac935b93aa66c333dc3   \n",
       "2  4e7b3e00288586ebd08712fdd0374a03  060e732b5b29e8181a18229c7b0b2b5e   \n",
       "3  b2b6027bc5c5109e529d4dc6358b12c3  259dac757896d24d7702b9acbbff3f3c   \n",
       "4  4f2d8ab171c80ec8364f7c12e35b23ad  345ecd01c38d18a9036ed96c73b8d066   \n",
       "\n",
       "   customer_zip_code_prefix          customer_city customer_state  \n",
       "0                     14409                 franca             SP  \n",
       "1                      9790  sao bernardo do campo             SP  \n",
       "2                      1151              sao paulo             SP  \n",
       "3                      8775        mogi das cruzes             SP  \n",
       "4                     13056               campinas             SP  "
      ]
     },
     "execution_count": 6,
     "metadata": {},
     "output_type": "execute_result"
    }
   ],
   "source": [
    "olist_customers.head()"
   ]
  },
  {
   "cell_type": "code",
   "execution_count": 7,
   "id": "7bdAn6HsfSIh",
   "metadata": {
    "colab": {
     "base_uri": "https://localhost:8080/"
    },
    "id": "7bdAn6HsfSIh",
    "outputId": "bea63886-c50e-4092-a47f-de601b0e3604"
   },
   "outputs": [
    {
     "name": "stdout",
     "output_type": "stream",
     "text": [
      "<class 'pandas.core.frame.DataFrame'>\n",
      "RangeIndex: 99441 entries, 0 to 99440\n",
      "Data columns (total 5 columns):\n",
      " #   Column                    Non-Null Count  Dtype \n",
      "---  ------                    --------------  ----- \n",
      " 0   customer_id               99441 non-null  object\n",
      " 1   customer_unique_id        99441 non-null  object\n",
      " 2   customer_zip_code_prefix  99441 non-null  int64 \n",
      " 3   customer_city             99441 non-null  object\n",
      " 4   customer_state            99441 non-null  object\n",
      "dtypes: int64(1), object(4)\n",
      "memory usage: 3.8+ MB\n"
     ]
    }
   ],
   "source": [
    "olist_customers.info()"
   ]
  },
  {
   "cell_type": "code",
   "execution_count": 8,
   "id": "rvUu1l2TfSIi",
   "metadata": {
    "colab": {
     "base_uri": "https://localhost:8080/",
     "height": 206
    },
    "id": "rvUu1l2TfSIi",
    "outputId": "8680166f-c4db-4c11-af47-186761f11d6a"
   },
   "outputs": [
    {
     "data": {
      "text/html": [
       "<div>\n",
       "<style scoped>\n",
       "    .dataframe tbody tr th:only-of-type {\n",
       "        vertical-align: middle;\n",
       "    }\n",
       "\n",
       "    .dataframe tbody tr th {\n",
       "        vertical-align: top;\n",
       "    }\n",
       "\n",
       "    .dataframe thead th {\n",
       "        text-align: right;\n",
       "    }\n",
       "</style>\n",
       "<table border=\"1\" class=\"dataframe\">\n",
       "  <thead>\n",
       "    <tr style=\"text-align: right;\">\n",
       "      <th></th>\n",
       "      <th>order_id</th>\n",
       "      <th>order_item_id</th>\n",
       "      <th>product_id</th>\n",
       "      <th>seller_id</th>\n",
       "      <th>shipping_limit_date</th>\n",
       "      <th>price</th>\n",
       "      <th>freight_value</th>\n",
       "    </tr>\n",
       "  </thead>\n",
       "  <tbody>\n",
       "    <tr>\n",
       "      <th>0</th>\n",
       "      <td>00010242fe8c5a6d1ba2dd792cb16214</td>\n",
       "      <td>1</td>\n",
       "      <td>4244733e06e7ecb4970a6e2683c13e61</td>\n",
       "      <td>48436dade18ac8b2bce089ec2a041202</td>\n",
       "      <td>2017-09-19 09:45:35</td>\n",
       "      <td>58.90</td>\n",
       "      <td>13.29</td>\n",
       "    </tr>\n",
       "    <tr>\n",
       "      <th>1</th>\n",
       "      <td>00018f77f2f0320c557190d7a144bdd3</td>\n",
       "      <td>1</td>\n",
       "      <td>e5f2d52b802189ee658865ca93d83a8f</td>\n",
       "      <td>dd7ddc04e1b6c2c614352b383efe2d36</td>\n",
       "      <td>2017-05-03 11:05:13</td>\n",
       "      <td>239.90</td>\n",
       "      <td>19.93</td>\n",
       "    </tr>\n",
       "    <tr>\n",
       "      <th>2</th>\n",
       "      <td>000229ec398224ef6ca0657da4fc703e</td>\n",
       "      <td>1</td>\n",
       "      <td>c777355d18b72b67abbeef9df44fd0fd</td>\n",
       "      <td>5b51032eddd242adc84c38acab88f23d</td>\n",
       "      <td>2018-01-18 14:48:30</td>\n",
       "      <td>199.00</td>\n",
       "      <td>17.87</td>\n",
       "    </tr>\n",
       "    <tr>\n",
       "      <th>3</th>\n",
       "      <td>00024acbcdf0a6daa1e931b038114c75</td>\n",
       "      <td>1</td>\n",
       "      <td>7634da152a4610f1595efa32f14722fc</td>\n",
       "      <td>9d7a1d34a5052409006425275ba1c2b4</td>\n",
       "      <td>2018-08-15 10:10:18</td>\n",
       "      <td>12.99</td>\n",
       "      <td>12.79</td>\n",
       "    </tr>\n",
       "    <tr>\n",
       "      <th>4</th>\n",
       "      <td>00042b26cf59d7ce69dfabb4e55b4fd9</td>\n",
       "      <td>1</td>\n",
       "      <td>ac6c3623068f30de03045865e4e10089</td>\n",
       "      <td>df560393f3a51e74553ab94004ba5c87</td>\n",
       "      <td>2017-02-13 13:57:51</td>\n",
       "      <td>199.90</td>\n",
       "      <td>18.14</td>\n",
       "    </tr>\n",
       "  </tbody>\n",
       "</table>\n",
       "</div>"
      ],
      "text/plain": [
       "                           order_id  order_item_id  \\\n",
       "0  00010242fe8c5a6d1ba2dd792cb16214              1   \n",
       "1  00018f77f2f0320c557190d7a144bdd3              1   \n",
       "2  000229ec398224ef6ca0657da4fc703e              1   \n",
       "3  00024acbcdf0a6daa1e931b038114c75              1   \n",
       "4  00042b26cf59d7ce69dfabb4e55b4fd9              1   \n",
       "\n",
       "                         product_id                         seller_id  \\\n",
       "0  4244733e06e7ecb4970a6e2683c13e61  48436dade18ac8b2bce089ec2a041202   \n",
       "1  e5f2d52b802189ee658865ca93d83a8f  dd7ddc04e1b6c2c614352b383efe2d36   \n",
       "2  c777355d18b72b67abbeef9df44fd0fd  5b51032eddd242adc84c38acab88f23d   \n",
       "3  7634da152a4610f1595efa32f14722fc  9d7a1d34a5052409006425275ba1c2b4   \n",
       "4  ac6c3623068f30de03045865e4e10089  df560393f3a51e74553ab94004ba5c87   \n",
       "\n",
       "   shipping_limit_date   price  freight_value  \n",
       "0  2017-09-19 09:45:35   58.90          13.29  \n",
       "1  2017-05-03 11:05:13  239.90          19.93  \n",
       "2  2018-01-18 14:48:30  199.00          17.87  \n",
       "3  2018-08-15 10:10:18   12.99          12.79  \n",
       "4  2017-02-13 13:57:51  199.90          18.14  "
      ]
     },
     "execution_count": 8,
     "metadata": {},
     "output_type": "execute_result"
    }
   ],
   "source": [
    "olist_order_items.head()"
   ]
  },
  {
   "cell_type": "code",
   "execution_count": 9,
   "id": "eq-9AW57fSIi",
   "metadata": {
    "colab": {
     "base_uri": "https://localhost:8080/"
    },
    "id": "eq-9AW57fSIi",
    "outputId": "ed80dab7-e60c-4290-9422-f7990932584b"
   },
   "outputs": [
    {
     "name": "stdout",
     "output_type": "stream",
     "text": [
      "<class 'pandas.core.frame.DataFrame'>\n",
      "RangeIndex: 112650 entries, 0 to 112649\n",
      "Data columns (total 7 columns):\n",
      " #   Column               Non-Null Count   Dtype  \n",
      "---  ------               --------------   -----  \n",
      " 0   order_id             112650 non-null  object \n",
      " 1   order_item_id        112650 non-null  int64  \n",
      " 2   product_id           112650 non-null  object \n",
      " 3   seller_id            112650 non-null  object \n",
      " 4   shipping_limit_date  112650 non-null  object \n",
      " 5   price                112650 non-null  float64\n",
      " 6   freight_value        112650 non-null  float64\n",
      "dtypes: float64(2), int64(1), object(4)\n",
      "memory usage: 6.0+ MB\n"
     ]
    }
   ],
   "source": [
    "olist_order_items.info()"
   ]
  },
  {
   "cell_type": "code",
   "execution_count": 10,
   "id": "zxHKrE8ifSIj",
   "metadata": {
    "colab": {
     "base_uri": "https://localhost:8080/",
     "height": 270
    },
    "id": "zxHKrE8ifSIj",
    "outputId": "056423a9-b3a0-471a-9816-7ab53f7d9629"
   },
   "outputs": [
    {
     "data": {
      "text/html": [
       "<div>\n",
       "<style scoped>\n",
       "    .dataframe tbody tr th:only-of-type {\n",
       "        vertical-align: middle;\n",
       "    }\n",
       "\n",
       "    .dataframe tbody tr th {\n",
       "        vertical-align: top;\n",
       "    }\n",
       "\n",
       "    .dataframe thead th {\n",
       "        text-align: right;\n",
       "    }\n",
       "</style>\n",
       "<table border=\"1\" class=\"dataframe\">\n",
       "  <thead>\n",
       "    <tr style=\"text-align: right;\">\n",
       "      <th></th>\n",
       "      <th>order_id</th>\n",
       "      <th>customer_id</th>\n",
       "      <th>order_status</th>\n",
       "      <th>order_purchase_timestamp</th>\n",
       "      <th>order_approved_at</th>\n",
       "      <th>order_delivered_carrier_date</th>\n",
       "      <th>order_delivered_customer_date</th>\n",
       "      <th>order_estimated_delivery_date</th>\n",
       "    </tr>\n",
       "  </thead>\n",
       "  <tbody>\n",
       "    <tr>\n",
       "      <th>0</th>\n",
       "      <td>e481f51cbdc54678b7cc49136f2d6af7</td>\n",
       "      <td>9ef432eb6251297304e76186b10a928d</td>\n",
       "      <td>delivered</td>\n",
       "      <td>2017-10-02 10:56:33</td>\n",
       "      <td>2017-10-02 11:07:15</td>\n",
       "      <td>2017-10-04 19:55:00</td>\n",
       "      <td>2017-10-10 21:25:13</td>\n",
       "      <td>2017-10-18</td>\n",
       "    </tr>\n",
       "    <tr>\n",
       "      <th>1</th>\n",
       "      <td>53cdb2fc8bc7dce0b6741e2150273451</td>\n",
       "      <td>b0830fb4747a6c6d20dea0b8c802d7ef</td>\n",
       "      <td>delivered</td>\n",
       "      <td>2018-07-24 20:41:37</td>\n",
       "      <td>2018-07-26 03:24:27</td>\n",
       "      <td>2018-07-26 14:31:00</td>\n",
       "      <td>2018-08-07 15:27:45</td>\n",
       "      <td>2018-08-13</td>\n",
       "    </tr>\n",
       "    <tr>\n",
       "      <th>2</th>\n",
       "      <td>47770eb9100c2d0c44946d9cf07ec65d</td>\n",
       "      <td>41ce2a54c0b03bf3443c3d931a367089</td>\n",
       "      <td>delivered</td>\n",
       "      <td>2018-08-08 08:38:49</td>\n",
       "      <td>2018-08-08 08:55:23</td>\n",
       "      <td>2018-08-08 13:50:00</td>\n",
       "      <td>2018-08-17 18:06:29</td>\n",
       "      <td>2018-09-04</td>\n",
       "    </tr>\n",
       "    <tr>\n",
       "      <th>3</th>\n",
       "      <td>949d5b44dbf5de918fe9c16f97b45f8a</td>\n",
       "      <td>f88197465ea7920adcdbec7375364d82</td>\n",
       "      <td>delivered</td>\n",
       "      <td>2017-11-18 19:28:06</td>\n",
       "      <td>2017-11-18 19:45:59</td>\n",
       "      <td>2017-11-22 13:39:59</td>\n",
       "      <td>2017-12-02 00:28:42</td>\n",
       "      <td>2017-12-15</td>\n",
       "    </tr>\n",
       "    <tr>\n",
       "      <th>4</th>\n",
       "      <td>ad21c59c0840e6cb83a9ceb5573f8159</td>\n",
       "      <td>8ab97904e6daea8866dbdbc4fb7aad2c</td>\n",
       "      <td>delivered</td>\n",
       "      <td>2018-02-13 21:18:39</td>\n",
       "      <td>2018-02-13 22:20:29</td>\n",
       "      <td>2018-02-14 19:46:34</td>\n",
       "      <td>2018-02-16 18:17:02</td>\n",
       "      <td>2018-02-26</td>\n",
       "    </tr>\n",
       "  </tbody>\n",
       "</table>\n",
       "</div>"
      ],
      "text/plain": [
       "                           order_id                       customer_id  \\\n",
       "0  e481f51cbdc54678b7cc49136f2d6af7  9ef432eb6251297304e76186b10a928d   \n",
       "1  53cdb2fc8bc7dce0b6741e2150273451  b0830fb4747a6c6d20dea0b8c802d7ef   \n",
       "2  47770eb9100c2d0c44946d9cf07ec65d  41ce2a54c0b03bf3443c3d931a367089   \n",
       "3  949d5b44dbf5de918fe9c16f97b45f8a  f88197465ea7920adcdbec7375364d82   \n",
       "4  ad21c59c0840e6cb83a9ceb5573f8159  8ab97904e6daea8866dbdbc4fb7aad2c   \n",
       "\n",
       "  order_status order_purchase_timestamp   order_approved_at  \\\n",
       "0    delivered      2017-10-02 10:56:33 2017-10-02 11:07:15   \n",
       "1    delivered      2018-07-24 20:41:37 2018-07-26 03:24:27   \n",
       "2    delivered      2018-08-08 08:38:49 2018-08-08 08:55:23   \n",
       "3    delivered      2017-11-18 19:28:06 2017-11-18 19:45:59   \n",
       "4    delivered      2018-02-13 21:18:39 2018-02-13 22:20:29   \n",
       "\n",
       "  order_delivered_carrier_date order_delivered_customer_date  \\\n",
       "0          2017-10-04 19:55:00           2017-10-10 21:25:13   \n",
       "1          2018-07-26 14:31:00           2018-08-07 15:27:45   \n",
       "2          2018-08-08 13:50:00           2018-08-17 18:06:29   \n",
       "3          2017-11-22 13:39:59           2017-12-02 00:28:42   \n",
       "4          2018-02-14 19:46:34           2018-02-16 18:17:02   \n",
       "\n",
       "  order_estimated_delivery_date  \n",
       "0                    2017-10-18  \n",
       "1                    2018-08-13  \n",
       "2                    2018-09-04  \n",
       "3                    2017-12-15  \n",
       "4                    2018-02-26  "
      ]
     },
     "execution_count": 10,
     "metadata": {},
     "output_type": "execute_result"
    }
   ],
   "source": [
    "olist_orders.head()"
   ]
  },
  {
   "cell_type": "code",
   "execution_count": 11,
   "id": "x2UJ7zbKfSIk",
   "metadata": {
    "colab": {
     "base_uri": "https://localhost:8080/"
    },
    "id": "x2UJ7zbKfSIk",
    "outputId": "dfe8d764-b98c-461f-e55e-12cf214de828"
   },
   "outputs": [
    {
     "name": "stdout",
     "output_type": "stream",
     "text": [
      "<class 'pandas.core.frame.DataFrame'>\n",
      "RangeIndex: 99441 entries, 0 to 99440\n",
      "Data columns (total 8 columns):\n",
      " #   Column                         Non-Null Count  Dtype         \n",
      "---  ------                         --------------  -----         \n",
      " 0   order_id                       99441 non-null  object        \n",
      " 1   customer_id                    99441 non-null  object        \n",
      " 2   order_status                   99441 non-null  object        \n",
      " 3   order_purchase_timestamp       99441 non-null  datetime64[ns]\n",
      " 4   order_approved_at              99281 non-null  datetime64[ns]\n",
      " 5   order_delivered_carrier_date   97658 non-null  datetime64[ns]\n",
      " 6   order_delivered_customer_date  96476 non-null  datetime64[ns]\n",
      " 7   order_estimated_delivery_date  99441 non-null  datetime64[ns]\n",
      "dtypes: datetime64[ns](5), object(3)\n",
      "memory usage: 6.1+ MB\n"
     ]
    }
   ],
   "source": [
    "olist_orders.info()"
   ]
  },
  {
   "cell_type": "code",
   "execution_count": 12,
   "id": "afe0e4d4",
   "metadata": {},
   "outputs": [
    {
     "data": {
      "text/plain": [
       "(Timestamp('2016-09-04 21:15:19'), Timestamp('2018-10-17 17:30:18'))"
      ]
     },
     "execution_count": 12,
     "metadata": {},
     "output_type": "execute_result"
    }
   ],
   "source": [
    "olist_orders.order_purchase_timestamp.min(), olist_orders.order_purchase_timestamp.max()"
   ]
  },
  {
   "cell_type": "code",
   "execution_count": 13,
   "id": "7e2a4c66",
   "metadata": {
    "scrolled": true
   },
   "outputs": [
    {
     "data": {
      "text/plain": [
       "False"
      ]
     },
     "execution_count": 13,
     "metadata": {},
     "output_type": "execute_result"
    }
   ],
   "source": [
    "olist_orders.order_purchase_timestamp.is_monotonic"
   ]
  },
  {
   "cell_type": "markdown",
   "id": "dbb37e98",
   "metadata": {},
   "source": [
    "+ Данные примерно за 2 года, не упорядоченные по времени.\n",
    "+ В данных есть пропуски.\n",
    "+ Типы данных соответствуют представленной информации.\n",
    "+ Названия полей в snake_case."
   ]
  },
  {
   "cell_type": "markdown",
   "id": "bc7a528c",
   "metadata": {},
   "source": [
    "# Решения"
   ]
  },
  {
   "cell_type": "markdown",
   "id": "vit51LESfSIl",
   "metadata": {
    "id": "vit51LESfSIl"
   },
   "source": [
    "### 1. Сколько у нас пользователей, которые совершили покупку только один раз? (7 баллов) "
   ]
  },
  {
   "cell_type": "code",
   "execution_count": 14,
   "id": "awvclcIIfSIo",
   "metadata": {
    "id": "awvclcIIfSIo"
   },
   "outputs": [],
   "source": [
    "# Объединим таблицы с пользователями и со статусами заказов по id пользователя.\n",
    "olist_orders_unique_id = olist_orders.merge(olist_customers, on='customer_id', how ='left') "
   ]
  },
  {
   "cell_type": "code",
   "execution_count": 15,
   "id": "Rq9akYvVfSIp",
   "metadata": {
    "colab": {
     "base_uri": "https://localhost:8080/",
     "height": 444
    },
    "id": "Rq9akYvVfSIp",
    "outputId": "64cecc95-d246-43b7-a724-1d03282d9b83"
   },
   "outputs": [
    {
     "data": {
      "text/html": [
       "<div>\n",
       "<style scoped>\n",
       "    .dataframe tbody tr th:only-of-type {\n",
       "        vertical-align: middle;\n",
       "    }\n",
       "\n",
       "    .dataframe tbody tr th {\n",
       "        vertical-align: top;\n",
       "    }\n",
       "\n",
       "    .dataframe thead th {\n",
       "        text-align: right;\n",
       "    }\n",
       "</style>\n",
       "<table border=\"1\" class=\"dataframe\">\n",
       "  <thead>\n",
       "    <tr style=\"text-align: right;\">\n",
       "      <th></th>\n",
       "      <th>order_id</th>\n",
       "      <th>customer_id</th>\n",
       "      <th>order_status</th>\n",
       "      <th>order_purchase_timestamp</th>\n",
       "      <th>order_approved_at</th>\n",
       "      <th>order_delivered_carrier_date</th>\n",
       "      <th>order_delivered_customer_date</th>\n",
       "      <th>order_estimated_delivery_date</th>\n",
       "      <th>customer_unique_id</th>\n",
       "      <th>customer_zip_code_prefix</th>\n",
       "      <th>customer_city</th>\n",
       "      <th>customer_state</th>\n",
       "    </tr>\n",
       "  </thead>\n",
       "  <tbody>\n",
       "    <tr>\n",
       "      <th>0</th>\n",
       "      <td>e481f51cbdc54678b7cc49136f2d6af7</td>\n",
       "      <td>9ef432eb6251297304e76186b10a928d</td>\n",
       "      <td>delivered</td>\n",
       "      <td>2017-10-02 10:56:33</td>\n",
       "      <td>2017-10-02 11:07:15</td>\n",
       "      <td>2017-10-04 19:55:00</td>\n",
       "      <td>2017-10-10 21:25:13</td>\n",
       "      <td>2017-10-18</td>\n",
       "      <td>7c396fd4830fd04220f754e42b4e5bff</td>\n",
       "      <td>3149</td>\n",
       "      <td>sao paulo</td>\n",
       "      <td>SP</td>\n",
       "    </tr>\n",
       "    <tr>\n",
       "      <th>1</th>\n",
       "      <td>53cdb2fc8bc7dce0b6741e2150273451</td>\n",
       "      <td>b0830fb4747a6c6d20dea0b8c802d7ef</td>\n",
       "      <td>delivered</td>\n",
       "      <td>2018-07-24 20:41:37</td>\n",
       "      <td>2018-07-26 03:24:27</td>\n",
       "      <td>2018-07-26 14:31:00</td>\n",
       "      <td>2018-08-07 15:27:45</td>\n",
       "      <td>2018-08-13</td>\n",
       "      <td>af07308b275d755c9edb36a90c618231</td>\n",
       "      <td>47813</td>\n",
       "      <td>barreiras</td>\n",
       "      <td>BA</td>\n",
       "    </tr>\n",
       "    <tr>\n",
       "      <th>2</th>\n",
       "      <td>47770eb9100c2d0c44946d9cf07ec65d</td>\n",
       "      <td>41ce2a54c0b03bf3443c3d931a367089</td>\n",
       "      <td>delivered</td>\n",
       "      <td>2018-08-08 08:38:49</td>\n",
       "      <td>2018-08-08 08:55:23</td>\n",
       "      <td>2018-08-08 13:50:00</td>\n",
       "      <td>2018-08-17 18:06:29</td>\n",
       "      <td>2018-09-04</td>\n",
       "      <td>3a653a41f6f9fc3d2a113cf8398680e8</td>\n",
       "      <td>75265</td>\n",
       "      <td>vianopolis</td>\n",
       "      <td>GO</td>\n",
       "    </tr>\n",
       "    <tr>\n",
       "      <th>3</th>\n",
       "      <td>949d5b44dbf5de918fe9c16f97b45f8a</td>\n",
       "      <td>f88197465ea7920adcdbec7375364d82</td>\n",
       "      <td>delivered</td>\n",
       "      <td>2017-11-18 19:28:06</td>\n",
       "      <td>2017-11-18 19:45:59</td>\n",
       "      <td>2017-11-22 13:39:59</td>\n",
       "      <td>2017-12-02 00:28:42</td>\n",
       "      <td>2017-12-15</td>\n",
       "      <td>7c142cf63193a1473d2e66489a9ae977</td>\n",
       "      <td>59296</td>\n",
       "      <td>sao goncalo do amarante</td>\n",
       "      <td>RN</td>\n",
       "    </tr>\n",
       "    <tr>\n",
       "      <th>4</th>\n",
       "      <td>ad21c59c0840e6cb83a9ceb5573f8159</td>\n",
       "      <td>8ab97904e6daea8866dbdbc4fb7aad2c</td>\n",
       "      <td>delivered</td>\n",
       "      <td>2018-02-13 21:18:39</td>\n",
       "      <td>2018-02-13 22:20:29</td>\n",
       "      <td>2018-02-14 19:46:34</td>\n",
       "      <td>2018-02-16 18:17:02</td>\n",
       "      <td>2018-02-26</td>\n",
       "      <td>72632f0f9dd73dfee390c9b22eb56dd6</td>\n",
       "      <td>9195</td>\n",
       "      <td>santo andre</td>\n",
       "      <td>SP</td>\n",
       "    </tr>\n",
       "  </tbody>\n",
       "</table>\n",
       "</div>"
      ],
      "text/plain": [
       "                           order_id                       customer_id  \\\n",
       "0  e481f51cbdc54678b7cc49136f2d6af7  9ef432eb6251297304e76186b10a928d   \n",
       "1  53cdb2fc8bc7dce0b6741e2150273451  b0830fb4747a6c6d20dea0b8c802d7ef   \n",
       "2  47770eb9100c2d0c44946d9cf07ec65d  41ce2a54c0b03bf3443c3d931a367089   \n",
       "3  949d5b44dbf5de918fe9c16f97b45f8a  f88197465ea7920adcdbec7375364d82   \n",
       "4  ad21c59c0840e6cb83a9ceb5573f8159  8ab97904e6daea8866dbdbc4fb7aad2c   \n",
       "\n",
       "  order_status order_purchase_timestamp   order_approved_at  \\\n",
       "0    delivered      2017-10-02 10:56:33 2017-10-02 11:07:15   \n",
       "1    delivered      2018-07-24 20:41:37 2018-07-26 03:24:27   \n",
       "2    delivered      2018-08-08 08:38:49 2018-08-08 08:55:23   \n",
       "3    delivered      2017-11-18 19:28:06 2017-11-18 19:45:59   \n",
       "4    delivered      2018-02-13 21:18:39 2018-02-13 22:20:29   \n",
       "\n",
       "  order_delivered_carrier_date order_delivered_customer_date  \\\n",
       "0          2017-10-04 19:55:00           2017-10-10 21:25:13   \n",
       "1          2018-07-26 14:31:00           2018-08-07 15:27:45   \n",
       "2          2018-08-08 13:50:00           2018-08-17 18:06:29   \n",
       "3          2017-11-22 13:39:59           2017-12-02 00:28:42   \n",
       "4          2018-02-14 19:46:34           2018-02-16 18:17:02   \n",
       "\n",
       "  order_estimated_delivery_date                customer_unique_id  \\\n",
       "0                    2017-10-18  7c396fd4830fd04220f754e42b4e5bff   \n",
       "1                    2018-08-13  af07308b275d755c9edb36a90c618231   \n",
       "2                    2018-09-04  3a653a41f6f9fc3d2a113cf8398680e8   \n",
       "3                    2017-12-15  7c142cf63193a1473d2e66489a9ae977   \n",
       "4                    2018-02-26  72632f0f9dd73dfee390c9b22eb56dd6   \n",
       "\n",
       "   customer_zip_code_prefix            customer_city customer_state  \n",
       "0                      3149                sao paulo             SP  \n",
       "1                     47813                barreiras             BA  \n",
       "2                     75265               vianopolis             GO  \n",
       "3                     59296  sao goncalo do amarante             RN  \n",
       "4                      9195              santo andre             SP  "
      ]
     },
     "execution_count": 15,
     "metadata": {},
     "output_type": "execute_result"
    }
   ],
   "source": [
    "olist_orders_unique_id.head(5)"
   ]
  },
  {
   "cell_type": "code",
   "execution_count": 16,
   "id": "VxX2AMOnfSI5",
   "metadata": {
    "colab": {
     "base_uri": "https://localhost:8080/"
    },
    "id": "VxX2AMOnfSI5",
    "outputId": "fcaa9e16-4d5d-4f93-dce1-e156241b925a"
   },
   "outputs": [
    {
     "data": {
      "text/plain": [
       "90557"
      ]
     },
     "execution_count": 16,
     "metadata": {},
     "output_type": "execute_result"
    }
   ],
   "source": [
    "# Посчитаем заказы в которых order_status = delivered (доставлен) и у покупателя только один номер заказа. \n",
    "olist_orders_unique_id.loc[olist_orders_unique_id['order_status'] == 'delivered'] \\\n",
    "    .groupby('customer_unique_id',as_index=False)\\\n",
    "    .agg({'order_id':'count'})\\\n",
    "    .query('order_id == 1')\\\n",
    "    .count().order_id "
   ]
  },
  {
   "cell_type": "markdown",
   "id": "8e6vUsp1fSI6",
   "metadata": {
    "id": "8e6vUsp1fSI6"
   },
   "source": [
    "#### Ответ: \n",
    "90557 пользователей совершили покупку только один раз"
   ]
  },
  {
   "cell_type": "markdown",
   "id": "-t1_P8s3fSI8",
   "metadata": {
    "id": "-t1_P8s3fSI8"
   },
   "source": [
    "### 2. Сколько заказов в месяц в среднем не доставляется по разным причинам (вывести детализацию по причинам)? (5 баллов)"
   ]
  },
  {
   "cell_type": "code",
   "execution_count": 17,
   "id": "cenYT0wXfSI9",
   "metadata": {
    "colab": {
     "base_uri": "https://localhost:8080/",
     "height": 270
    },
    "id": "cenYT0wXfSI9",
    "outputId": "5e5e9a40-3b53-4a19-e074-144ca545d816"
   },
   "outputs": [
    {
     "data": {
      "text/html": [
       "<div>\n",
       "<style scoped>\n",
       "    .dataframe tbody tr th:only-of-type {\n",
       "        vertical-align: middle;\n",
       "    }\n",
       "\n",
       "    .dataframe tbody tr th {\n",
       "        vertical-align: top;\n",
       "    }\n",
       "\n",
       "    .dataframe thead th {\n",
       "        text-align: right;\n",
       "    }\n",
       "</style>\n",
       "<table border=\"1\" class=\"dataframe\">\n",
       "  <thead>\n",
       "    <tr style=\"text-align: right;\">\n",
       "      <th></th>\n",
       "      <th>order_id</th>\n",
       "      <th>customer_id</th>\n",
       "      <th>order_status</th>\n",
       "      <th>order_purchase_timestamp</th>\n",
       "      <th>order_approved_at</th>\n",
       "      <th>order_delivered_carrier_date</th>\n",
       "      <th>order_delivered_customer_date</th>\n",
       "      <th>order_estimated_delivery_date</th>\n",
       "    </tr>\n",
       "  </thead>\n",
       "  <tbody>\n",
       "    <tr>\n",
       "      <th>0</th>\n",
       "      <td>e481f51cbdc54678b7cc49136f2d6af7</td>\n",
       "      <td>9ef432eb6251297304e76186b10a928d</td>\n",
       "      <td>delivered</td>\n",
       "      <td>2017-10-02 10:56:33</td>\n",
       "      <td>2017-10-02 11:07:15</td>\n",
       "      <td>2017-10-04 19:55:00</td>\n",
       "      <td>2017-10-10 21:25:13</td>\n",
       "      <td>2017-10-18</td>\n",
       "    </tr>\n",
       "    <tr>\n",
       "      <th>1</th>\n",
       "      <td>53cdb2fc8bc7dce0b6741e2150273451</td>\n",
       "      <td>b0830fb4747a6c6d20dea0b8c802d7ef</td>\n",
       "      <td>delivered</td>\n",
       "      <td>2018-07-24 20:41:37</td>\n",
       "      <td>2018-07-26 03:24:27</td>\n",
       "      <td>2018-07-26 14:31:00</td>\n",
       "      <td>2018-08-07 15:27:45</td>\n",
       "      <td>2018-08-13</td>\n",
       "    </tr>\n",
       "    <tr>\n",
       "      <th>2</th>\n",
       "      <td>47770eb9100c2d0c44946d9cf07ec65d</td>\n",
       "      <td>41ce2a54c0b03bf3443c3d931a367089</td>\n",
       "      <td>delivered</td>\n",
       "      <td>2018-08-08 08:38:49</td>\n",
       "      <td>2018-08-08 08:55:23</td>\n",
       "      <td>2018-08-08 13:50:00</td>\n",
       "      <td>2018-08-17 18:06:29</td>\n",
       "      <td>2018-09-04</td>\n",
       "    </tr>\n",
       "    <tr>\n",
       "      <th>3</th>\n",
       "      <td>949d5b44dbf5de918fe9c16f97b45f8a</td>\n",
       "      <td>f88197465ea7920adcdbec7375364d82</td>\n",
       "      <td>delivered</td>\n",
       "      <td>2017-11-18 19:28:06</td>\n",
       "      <td>2017-11-18 19:45:59</td>\n",
       "      <td>2017-11-22 13:39:59</td>\n",
       "      <td>2017-12-02 00:28:42</td>\n",
       "      <td>2017-12-15</td>\n",
       "    </tr>\n",
       "    <tr>\n",
       "      <th>4</th>\n",
       "      <td>ad21c59c0840e6cb83a9ceb5573f8159</td>\n",
       "      <td>8ab97904e6daea8866dbdbc4fb7aad2c</td>\n",
       "      <td>delivered</td>\n",
       "      <td>2018-02-13 21:18:39</td>\n",
       "      <td>2018-02-13 22:20:29</td>\n",
       "      <td>2018-02-14 19:46:34</td>\n",
       "      <td>2018-02-16 18:17:02</td>\n",
       "      <td>2018-02-26</td>\n",
       "    </tr>\n",
       "  </tbody>\n",
       "</table>\n",
       "</div>"
      ],
      "text/plain": [
       "                           order_id                       customer_id  \\\n",
       "0  e481f51cbdc54678b7cc49136f2d6af7  9ef432eb6251297304e76186b10a928d   \n",
       "1  53cdb2fc8bc7dce0b6741e2150273451  b0830fb4747a6c6d20dea0b8c802d7ef   \n",
       "2  47770eb9100c2d0c44946d9cf07ec65d  41ce2a54c0b03bf3443c3d931a367089   \n",
       "3  949d5b44dbf5de918fe9c16f97b45f8a  f88197465ea7920adcdbec7375364d82   \n",
       "4  ad21c59c0840e6cb83a9ceb5573f8159  8ab97904e6daea8866dbdbc4fb7aad2c   \n",
       "\n",
       "  order_status order_purchase_timestamp   order_approved_at  \\\n",
       "0    delivered      2017-10-02 10:56:33 2017-10-02 11:07:15   \n",
       "1    delivered      2018-07-24 20:41:37 2018-07-26 03:24:27   \n",
       "2    delivered      2018-08-08 08:38:49 2018-08-08 08:55:23   \n",
       "3    delivered      2017-11-18 19:28:06 2017-11-18 19:45:59   \n",
       "4    delivered      2018-02-13 21:18:39 2018-02-13 22:20:29   \n",
       "\n",
       "  order_delivered_carrier_date order_delivered_customer_date  \\\n",
       "0          2017-10-04 19:55:00           2017-10-10 21:25:13   \n",
       "1          2018-07-26 14:31:00           2018-08-07 15:27:45   \n",
       "2          2018-08-08 13:50:00           2018-08-17 18:06:29   \n",
       "3          2017-11-22 13:39:59           2017-12-02 00:28:42   \n",
       "4          2018-02-14 19:46:34           2018-02-16 18:17:02   \n",
       "\n",
       "  order_estimated_delivery_date  \n",
       "0                    2017-10-18  \n",
       "1                    2018-08-13  \n",
       "2                    2018-09-04  \n",
       "3                    2017-12-15  \n",
       "4                    2018-02-26  "
      ]
     },
     "execution_count": 17,
     "metadata": {},
     "output_type": "execute_result"
    }
   ],
   "source": [
    "olist_orders.head()"
   ]
  },
  {
   "cell_type": "code",
   "execution_count": 18,
   "id": "I_e-rNcWGddN",
   "metadata": {
    "colab": {
     "base_uri": "https://localhost:8080/"
    },
    "id": "I_e-rNcWGddN",
    "outputId": "a5065cfb-fb4f-409f-d72b-8f136ad9d7f3"
   },
   "outputs": [
    {
     "data": {
      "text/plain": [
       "0"
      ]
     },
     "execution_count": 18,
     "metadata": {},
     "output_type": "execute_result"
    }
   ],
   "source": [
    "olist_orders.order_id.duplicated().sum()"
   ]
  },
  {
   "cell_type": "code",
   "execution_count": 19,
   "id": "LuP0qEUe7qk_",
   "metadata": {
    "colab": {
     "base_uri": "https://localhost:8080/"
    },
    "id": "LuP0qEUe7qk_",
    "outputId": "45e578ff-406d-4ed3-d027-21f9e35b6c66"
   },
   "outputs": [
    {
     "data": {
      "text/plain": [
       "delivered      96478\n",
       "shipped         1107\n",
       "canceled         625\n",
       "unavailable      609\n",
       "invoiced         314\n",
       "processing       301\n",
       "created            5\n",
       "approved           2\n",
       "Name: order_status, dtype: int64"
      ]
     },
     "execution_count": 19,
     "metadata": {},
     "output_type": "execute_result"
    }
   ],
   "source": [
    "# Посмотрим какие статусы есть в таблице и их количество.\n",
    "olist_orders.order_status.value_counts()"
   ]
  },
  {
   "cell_type": "markdown",
   "id": "7dbbed91",
   "metadata": {
    "id": "30srdOVai7dD"
   },
   "source": [
    "У нас 8 статусов, пропусков нет."
   ]
  },
  {
   "cell_type": "code",
   "execution_count": 20,
   "id": "tbDxK7w_MPXi",
   "metadata": {
    "colab": {
     "base_uri": "https://localhost:8080/"
    },
    "id": "tbDxK7w_MPXi",
    "outputId": "242733b4-2289-46d2-b8ce-0e53033e950e"
   },
   "outputs": [
    {
     "data": {
      "text/plain": [
       "order_status\n",
       "approved        1.000000\n",
       "canceled       26.041667\n",
       "created         1.666667\n",
       "invoiced       14.952381\n",
       "processing     15.842105\n",
       "shipped        48.130435\n",
       "unavailable    29.000000\n",
       "Name: order_status, dtype: float64"
      ]
     },
     "execution_count": 20,
     "metadata": {},
     "output_type": "execute_result"
    }
   ],
   "source": [
    "# Приведём время заказа к месяцу и сгруппируем заказы по месяцам.\n",
    "manths = olist_orders.groupby(olist_orders.order_purchase_timestamp.dt.to_period('M'))['order_status'].value_counts()\n",
    "# Посчитаем среднее количество каждого статуса\n",
    "means = manths.groupby('order_status').mean().drop('delivered', axis = 0)\n",
    "means"
   ]
  },
  {
   "cell_type": "code",
   "execution_count": 21,
   "id": "95d240f0",
   "metadata": {
    "scrolled": true
   },
   "outputs": [
    {
     "data": {
      "text/plain": [
       "order_purchase_timestamp  order_status\n",
       "2018-07                   invoiced          13\n",
       "                          processing         1\n",
       "2018-08                   delivered       6351\n",
       "                          canceled          84\n",
       "                          shipped           47\n",
       "                          invoiced          23\n",
       "                          unavailable        7\n",
       "2018-09                   canceled          15\n",
       "                          shipped            1\n",
       "2018-10                   canceled           4\n",
       "Name: order_status, dtype: int64"
      ]
     },
     "execution_count": 21,
     "metadata": {},
     "output_type": "execute_result"
    }
   ],
   "source": [
    "manths.tail(10)"
   ]
  },
  {
   "cell_type": "markdown",
   "id": "f74cf033",
   "metadata": {},
   "source": [
    "За последние 2 месяца нет товаров в процессе доставки. Видмо все \"доставляемые\" заказы более ранних месяцев можно считать потерянными."
   ]
  },
  {
   "cell_type": "code",
   "execution_count": 22,
   "id": "yDt-4ZAz_K2F",
   "metadata": {
    "colab": {
     "base_uri": "https://localhost:8080/",
     "height": 484
    },
    "id": "yDt-4ZAz_K2F",
    "outputId": "e5047416-6740-4ada-a1d0-ccc90608fb3c",
    "scrolled": true
   },
   "outputs": [
    {
     "data": {
      "image/png": "[encoded data removed]",
      "text/plain": [
       "<Figure size 2000x700 with 1 Axes>"
      ]
     },
     "metadata": {},
     "output_type": "display_data"
    }
   ],
   "source": [
    "sns.set(\n",
    "    font_scale=1,\n",
    "    style=\"whitegrid\",\n",
    "    rc={'figure.figsize':(20,7)}\n",
    "        )\n",
    "sns.barplot(x = means.index, y = means.values, alpha=0.8)\\\n",
    ".set(title='Среднее количество заказов в месяц сгруппированное по статусу');"
   ]
  },
  {
   "cell_type": "markdown",
   "id": "3c55e0ab",
   "metadata": {},
   "source": [
    "#### Ответ\n",
    "Из точно не доставленных, можно сказать, что в среднем в месяц 26 заказов отменяется и 29 заказов недоступны.\\\n",
    "В статусе \"доставка\" товары видимо теряются в среднем количестве 48. Остальное недоставляется по причинам ошибок при обработке заказа, таких ошибок в среднем 33 в месяц. "
   ]
  },
  {
   "cell_type": "markdown",
   "id": "mb9UxtrHfSJE",
   "metadata": {
    "id": "mb9UxtrHfSJE"
   },
   "source": [
    "### 3. По каждому товару определить, в какой день недели товар чаще всего покупается. (5 баллов)\n"
   ]
  },
  {
   "cell_type": "code",
   "execution_count": 23,
   "id": "vlAvZ5VtfSJE",
   "metadata": {
    "colab": {
     "base_uri": "https://localhost:8080/",
     "height": 206
    },
    "id": "vlAvZ5VtfSJE",
    "outputId": "694b19bb-f812-4bbf-9192-50222259d2c8"
   },
   "outputs": [
    {
     "data": {
      "text/html": [
       "<div>\n",
       "<style scoped>\n",
       "    .dataframe tbody tr th:only-of-type {\n",
       "        vertical-align: middle;\n",
       "    }\n",
       "\n",
       "    .dataframe tbody tr th {\n",
       "        vertical-align: top;\n",
       "    }\n",
       "\n",
       "    .dataframe thead th {\n",
       "        text-align: right;\n",
       "    }\n",
       "</style>\n",
       "<table border=\"1\" class=\"dataframe\">\n",
       "  <thead>\n",
       "    <tr style=\"text-align: right;\">\n",
       "      <th></th>\n",
       "      <th>product_id</th>\n",
       "      <th>order_purchase_timestamp</th>\n",
       "      <th>order_status</th>\n",
       "    </tr>\n",
       "  </thead>\n",
       "  <tbody>\n",
       "    <tr>\n",
       "      <th>0</th>\n",
       "      <td>87285b34884572647811a353c7ac498a</td>\n",
       "      <td>2017-10-02 10:56:33</td>\n",
       "      <td>delivered</td>\n",
       "    </tr>\n",
       "    <tr>\n",
       "      <th>1</th>\n",
       "      <td>595fac2a385ac33a80bd5114aec74eb8</td>\n",
       "      <td>2018-07-24 20:41:37</td>\n",
       "      <td>delivered</td>\n",
       "    </tr>\n",
       "    <tr>\n",
       "      <th>2</th>\n",
       "      <td>aa4383b373c6aca5d8797843e5594415</td>\n",
       "      <td>2018-08-08 08:38:49</td>\n",
       "      <td>delivered</td>\n",
       "    </tr>\n",
       "    <tr>\n",
       "      <th>3</th>\n",
       "      <td>d0b61bfb1de832b15ba9d266ca96e5b0</td>\n",
       "      <td>2017-11-18 19:28:06</td>\n",
       "      <td>delivered</td>\n",
       "    </tr>\n",
       "    <tr>\n",
       "      <th>4</th>\n",
       "      <td>65266b2da20d04dbe00c5c2d3bb7859e</td>\n",
       "      <td>2018-02-13 21:18:39</td>\n",
       "      <td>delivered</td>\n",
       "    </tr>\n",
       "  </tbody>\n",
       "</table>\n",
       "</div>"
      ],
      "text/plain": [
       "                         product_id order_purchase_timestamp order_status\n",
       "0  87285b34884572647811a353c7ac498a      2017-10-02 10:56:33    delivered\n",
       "1  595fac2a385ac33a80bd5114aec74eb8      2018-07-24 20:41:37    delivered\n",
       "2  aa4383b373c6aca5d8797843e5594415      2018-08-08 08:38:49    delivered\n",
       "3  d0b61bfb1de832b15ba9d266ca96e5b0      2017-11-18 19:28:06    delivered\n",
       "4  65266b2da20d04dbe00c5c2d3bb7859e      2018-02-13 21:18:39    delivered"
      ]
     },
     "execution_count": 23,
     "metadata": {},
     "output_type": "execute_result"
    }
   ],
   "source": [
    "# Объединим таблицы с заказами и с товарами по id заказа. Оставим нужные поля.\n",
    "olist_orders_and_items = olist_orders.merge(olist_order_items, how='left',on='order_id') \\\n",
    "    [['product_id','order_purchase_timestamp','order_status']]\n",
    "olist_orders_and_items.head()"
   ]
  },
  {
   "cell_type": "code",
   "execution_count": 24,
   "id": "J3TzhwNxfSJF",
   "metadata": {
    "colab": {
     "base_uri": "https://localhost:8080/"
    },
    "id": "J3TzhwNxfSJF",
    "outputId": "2676f5b9-5ec3-4777-bb17-b83ba54fea79"
   },
   "outputs": [
    {
     "data": {
      "text/plain": [
       "0       Monday\n",
       "1      Tuesday\n",
       "2    Wednesday\n",
       "3     Saturday\n",
       "4      Tuesday\n",
       "Name: week_day, dtype: object"
      ]
     },
     "execution_count": 24,
     "metadata": {},
     "output_type": "execute_result"
    }
   ],
   "source": [
    "# Преведём время к дню недели. Заполним новое поле.\n",
    "olist_orders_and_items['week_day'] = olist_orders_and_items.order_purchase_timestamp.dt.day_name() #olist_orders.order_purchase_timestamp.dt.day_name()\n",
    "olist_orders_and_items.week_day.head()"
   ]
  },
  {
   "cell_type": "code",
   "execution_count": 25,
   "id": "j1alUo_lmfVT",
   "metadata": {
    "colab": {
     "base_uri": "https://localhost:8080/"
    },
    "id": "j1alUo_lmfVT",
    "outputId": "73dab4a7-a65f-4d2a-b569-1c143c2aff50"
   },
   "outputs": [
    {
     "data": {
      "text/plain": [
       "product_id                  775\n",
       "order_purchase_timestamp      0\n",
       "order_status                  0\n",
       "week_day                      0\n",
       "dtype: int64"
      ]
     },
     "execution_count": 25,
     "metadata": {},
     "output_type": "execute_result"
    }
   ],
   "source": [
    "# Посчитаем пропуски.\n",
    "olist_orders_and_items.isna().sum()"
   ]
  },
  {
   "cell_type": "markdown",
   "id": "03cfc904",
   "metadata": {},
   "source": [
    "Пропущеные id товара мы не восстановим, поэтому придётся удалить данные."
   ]
  },
  {
   "cell_type": "code",
   "execution_count": 26,
   "id": "zo1EOWVJfSJF",
   "metadata": {
    "colab": {
     "base_uri": "https://localhost:8080/",
     "height": 423
    },
    "id": "zo1EOWVJfSJF",
    "outputId": "726d07c0-a0df-4e91-9a73-963a51d852da"
   },
   "outputs": [],
   "source": [
    "# Удаляем пропуски.\n",
    "olist_orders_and_items = olist_orders_and_items.dropna()"
   ]
  },
  {
   "cell_type": "code",
   "execution_count": 27,
   "id": "2pFJyDlrfSJH",
   "metadata": {
    "id": "2pFJyDlrfSJH"
   },
   "outputs": [
    {
     "data": {
      "text/html": [
       "<div>\n",
       "<style scoped>\n",
       "    .dataframe tbody tr th:only-of-type {\n",
       "        vertical-align: middle;\n",
       "    }\n",
       "\n",
       "    .dataframe tbody tr th {\n",
       "        vertical-align: top;\n",
       "    }\n",
       "\n",
       "    .dataframe thead th {\n",
       "        text-align: right;\n",
       "    }\n",
       "</style>\n",
       "<table border=\"1\" class=\"dataframe\">\n",
       "  <thead>\n",
       "    <tr style=\"text-align: right;\">\n",
       "      <th></th>\n",
       "      <th>product_id</th>\n",
       "      <th>week_day</th>\n",
       "      <th>order_status</th>\n",
       "    </tr>\n",
       "  </thead>\n",
       "  <tbody>\n",
       "    <tr>\n",
       "      <th>0</th>\n",
       "      <td>00066f42aeeb9f3007548bb9d3f33c38</td>\n",
       "      <td>Sunday</td>\n",
       "      <td>1</td>\n",
       "    </tr>\n",
       "    <tr>\n",
       "      <th>1</th>\n",
       "      <td>00088930e925c41fd95ebfe695fd2655</td>\n",
       "      <td>Tuesday</td>\n",
       "      <td>1</td>\n",
       "    </tr>\n",
       "    <tr>\n",
       "      <th>2</th>\n",
       "      <td>0009406fd7479715e4bef61dd91f2462</td>\n",
       "      <td>Thursday</td>\n",
       "      <td>1</td>\n",
       "    </tr>\n",
       "    <tr>\n",
       "      <th>3</th>\n",
       "      <td>000b8f95fcb9e0096488278317764d19</td>\n",
       "      <td>Friday</td>\n",
       "      <td>1</td>\n",
       "    </tr>\n",
       "    <tr>\n",
       "      <th>4</th>\n",
       "      <td>000b8f95fcb9e0096488278317764d19</td>\n",
       "      <td>Wednesday</td>\n",
       "      <td>1</td>\n",
       "    </tr>\n",
       "  </tbody>\n",
       "</table>\n",
       "</div>"
      ],
      "text/plain": [
       "                         product_id   week_day  order_status\n",
       "0  00066f42aeeb9f3007548bb9d3f33c38     Sunday             1\n",
       "1  00088930e925c41fd95ebfe695fd2655    Tuesday             1\n",
       "2  0009406fd7479715e4bef61dd91f2462   Thursday             1\n",
       "3  000b8f95fcb9e0096488278317764d19     Friday             1\n",
       "4  000b8f95fcb9e0096488278317764d19  Wednesday             1"
      ]
     },
     "execution_count": 27,
     "metadata": {},
     "output_type": "execute_result"
    }
   ],
   "source": [
    "# Доставленные товары сгруппируем по дням недели.\n",
    "id_purchase_day = olist_orders_and_items.query('order_status == \"delivered\"') \\\n",
    "    .groupby(['product_id','week_day'],as_index=False) \\\n",
    "    .agg({'order_status':'count'})\n",
    "id_purchase_day.head()"
   ]
  },
  {
   "cell_type": "code",
   "execution_count": 28,
   "id": "Zz6QbJTqp9Jq",
   "metadata": {
    "colab": {
     "base_uri": "https://localhost:8080/",
     "height": 237
    },
    "id": "Zz6QbJTqp9Jq",
    "outputId": "da7a8760-1a74-4e9e-a120-565110b59c8f"
   },
   "outputs": [
    {
     "data": {
      "text/html": [
       "<div>\n",
       "<style scoped>\n",
       "    .dataframe tbody tr th:only-of-type {\n",
       "        vertical-align: middle;\n",
       "    }\n",
       "\n",
       "    .dataframe tbody tr th {\n",
       "        vertical-align: top;\n",
       "    }\n",
       "\n",
       "    .dataframe thead th {\n",
       "        text-align: right;\n",
       "    }\n",
       "</style>\n",
       "<table border=\"1\" class=\"dataframe\">\n",
       "  <thead>\n",
       "    <tr style=\"text-align: right;\">\n",
       "      <th></th>\n",
       "      <th>week_day</th>\n",
       "      <th>order_status</th>\n",
       "    </tr>\n",
       "    <tr>\n",
       "      <th>product_id</th>\n",
       "      <th></th>\n",
       "      <th></th>\n",
       "    </tr>\n",
       "  </thead>\n",
       "  <tbody>\n",
       "    <tr>\n",
       "      <th>422879e10f46682990de24d770e7f83d</th>\n",
       "      <td>Wednesday</td>\n",
       "      <td>93</td>\n",
       "    </tr>\n",
       "    <tr>\n",
       "      <th>99a4788cb24856965c36a24e339b6058</th>\n",
       "      <td>Wednesday</td>\n",
       "      <td>91</td>\n",
       "    </tr>\n",
       "    <tr>\n",
       "      <th>aca2eb7d00ea1a7b8ebd4e68314663af</th>\n",
       "      <td>Wednesday</td>\n",
       "      <td>89</td>\n",
       "    </tr>\n",
       "    <tr>\n",
       "      <th>53b36df67ebb7c41585e8d54d6772e08</th>\n",
       "      <td>Wednesday</td>\n",
       "      <td>76</td>\n",
       "    </tr>\n",
       "    <tr>\n",
       "      <th>368c6c730842d78016ad823897a372db</th>\n",
       "      <td>Wednesday</td>\n",
       "      <td>67</td>\n",
       "    </tr>\n",
       "    <tr>\n",
       "      <th>389d119b48cf3043d311335e499d9c6b</th>\n",
       "      <td>Wednesday</td>\n",
       "      <td>67</td>\n",
       "    </tr>\n",
       "    <tr>\n",
       "      <th>53759a2ecddad2bb87a079a1f1519f73</th>\n",
       "      <td>Wednesday</td>\n",
       "      <td>66</td>\n",
       "    </tr>\n",
       "    <tr>\n",
       "      <th>d1c427060a0f73f6b889a5c7c61f2ac4</th>\n",
       "      <td>Wednesday</td>\n",
       "      <td>62</td>\n",
       "    </tr>\n",
       "    <tr>\n",
       "      <th>3dd2a17168ec895c781a9191c1e95ad7</th>\n",
       "      <td>Wednesday</td>\n",
       "      <td>53</td>\n",
       "    </tr>\n",
       "    <tr>\n",
       "      <th>a62e25e09e05e6faf31d90c6ec1aa3d1</th>\n",
       "      <td>Wednesday</td>\n",
       "      <td>49</td>\n",
       "    </tr>\n",
       "  </tbody>\n",
       "</table>\n",
       "</div>"
      ],
      "text/plain": [
       "                                   week_day  order_status\n",
       "product_id                                               \n",
       "422879e10f46682990de24d770e7f83d  Wednesday            93\n",
       "99a4788cb24856965c36a24e339b6058  Wednesday            91\n",
       "aca2eb7d00ea1a7b8ebd4e68314663af  Wednesday            89\n",
       "53b36df67ebb7c41585e8d54d6772e08  Wednesday            76\n",
       "368c6c730842d78016ad823897a372db  Wednesday            67\n",
       "389d119b48cf3043d311335e499d9c6b  Wednesday            67\n",
       "53759a2ecddad2bb87a079a1f1519f73  Wednesday            66\n",
       "d1c427060a0f73f6b889a5c7c61f2ac4  Wednesday            62\n",
       "3dd2a17168ec895c781a9191c1e95ad7  Wednesday            53\n",
       "a62e25e09e05e6faf31d90c6ec1aa3d1  Wednesday            49"
      ]
     },
     "execution_count": 28,
     "metadata": {},
     "output_type": "execute_result"
    }
   ],
   "source": [
    "max_orders = id_purchase_day.groupby('product_id').max().sort_values('order_status', ascending=False)\n",
    "max_orders.head(10)"
   ]
  },
  {
   "cell_type": "markdown",
   "id": "s4lTR4cyfSJI",
   "metadata": {
    "id": "s4lTR4cyfSJI"
   },
   "source": [
    "### 4. Сколько у каждого из пользователей в среднем покупок в неделю (по месяцам)? Не стоит забывать, что внутри месяца может быть не целое количество недель. Например, в ноябре 2021 года 4,28 недели. И внутри метрики это нужно учесть. (8 баллов) "
   ]
  },
  {
   "cell_type": "code",
   "execution_count": 29,
   "id": "pYSOEXuBfSJI",
   "metadata": {
    "id": "pYSOEXuBfSJI"
   },
   "outputs": [],
   "source": [
    "# Приведём время покупки к месяцу.\n",
    "olist_orders['month'] = olist_orders.order_purchase_timestamp.dt.month_name()"
   ]
  },
  {
   "cell_type": "code",
   "execution_count": 30,
   "id": "qKGi-bNufSJJ",
   "metadata": {
    "colab": {
     "base_uri": "https://localhost:8080/",
     "height": 487
    },
    "id": "qKGi-bNufSJJ",
    "outputId": "a6741088-d0dc-4309-a751-ccebc9b7d756"
   },
   "outputs": [
    {
     "data": {
      "text/html": [
       "<div>\n",
       "<style scoped>\n",
       "    .dataframe tbody tr th:only-of-type {\n",
       "        vertical-align: middle;\n",
       "    }\n",
       "\n",
       "    .dataframe tbody tr th {\n",
       "        vertical-align: top;\n",
       "    }\n",
       "\n",
       "    .dataframe thead th {\n",
       "        text-align: right;\n",
       "    }\n",
       "</style>\n",
       "<table border=\"1\" class=\"dataframe\">\n",
       "  <thead>\n",
       "    <tr style=\"text-align: right;\">\n",
       "      <th></th>\n",
       "      <th>order_id</th>\n",
       "      <th>customer_id</th>\n",
       "      <th>order_status</th>\n",
       "      <th>order_purchase_timestamp</th>\n",
       "      <th>order_approved_at</th>\n",
       "      <th>order_delivered_carrier_date</th>\n",
       "      <th>order_delivered_customer_date</th>\n",
       "      <th>order_estimated_delivery_date</th>\n",
       "      <th>month</th>\n",
       "      <th>weeks</th>\n",
       "    </tr>\n",
       "  </thead>\n",
       "  <tbody>\n",
       "    <tr>\n",
       "      <th>0</th>\n",
       "      <td>e481f51cbdc54678b7cc49136f2d6af7</td>\n",
       "      <td>9ef432eb6251297304e76186b10a928d</td>\n",
       "      <td>delivered</td>\n",
       "      <td>2017-10-02 10:56:33</td>\n",
       "      <td>2017-10-02 11:07:15</td>\n",
       "      <td>2017-10-04 19:55:00</td>\n",
       "      <td>2017-10-10 21:25:13</td>\n",
       "      <td>2017-10-18</td>\n",
       "      <td>October</td>\n",
       "      <td>4.428571</td>\n",
       "    </tr>\n",
       "    <tr>\n",
       "      <th>1</th>\n",
       "      <td>53cdb2fc8bc7dce0b6741e2150273451</td>\n",
       "      <td>b0830fb4747a6c6d20dea0b8c802d7ef</td>\n",
       "      <td>delivered</td>\n",
       "      <td>2018-07-24 20:41:37</td>\n",
       "      <td>2018-07-26 03:24:27</td>\n",
       "      <td>2018-07-26 14:31:00</td>\n",
       "      <td>2018-08-07 15:27:45</td>\n",
       "      <td>2018-08-13</td>\n",
       "      <td>July</td>\n",
       "      <td>4.428571</td>\n",
       "    </tr>\n",
       "    <tr>\n",
       "      <th>2</th>\n",
       "      <td>47770eb9100c2d0c44946d9cf07ec65d</td>\n",
       "      <td>41ce2a54c0b03bf3443c3d931a367089</td>\n",
       "      <td>delivered</td>\n",
       "      <td>2018-08-08 08:38:49</td>\n",
       "      <td>2018-08-08 08:55:23</td>\n",
       "      <td>2018-08-08 13:50:00</td>\n",
       "      <td>2018-08-17 18:06:29</td>\n",
       "      <td>2018-09-04</td>\n",
       "      <td>August</td>\n",
       "      <td>4.428571</td>\n",
       "    </tr>\n",
       "    <tr>\n",
       "      <th>3</th>\n",
       "      <td>949d5b44dbf5de918fe9c16f97b45f8a</td>\n",
       "      <td>f88197465ea7920adcdbec7375364d82</td>\n",
       "      <td>delivered</td>\n",
       "      <td>2017-11-18 19:28:06</td>\n",
       "      <td>2017-11-18 19:45:59</td>\n",
       "      <td>2017-11-22 13:39:59</td>\n",
       "      <td>2017-12-02 00:28:42</td>\n",
       "      <td>2017-12-15</td>\n",
       "      <td>November</td>\n",
       "      <td>4.285714</td>\n",
       "    </tr>\n",
       "    <tr>\n",
       "      <th>4</th>\n",
       "      <td>ad21c59c0840e6cb83a9ceb5573f8159</td>\n",
       "      <td>8ab97904e6daea8866dbdbc4fb7aad2c</td>\n",
       "      <td>delivered</td>\n",
       "      <td>2018-02-13 21:18:39</td>\n",
       "      <td>2018-02-13 22:20:29</td>\n",
       "      <td>2018-02-14 19:46:34</td>\n",
       "      <td>2018-02-16 18:17:02</td>\n",
       "      <td>2018-02-26</td>\n",
       "      <td>February</td>\n",
       "      <td>4.000000</td>\n",
       "    </tr>\n",
       "  </tbody>\n",
       "</table>\n",
       "</div>"
      ],
      "text/plain": [
       "                           order_id                       customer_id  \\\n",
       "0  e481f51cbdc54678b7cc49136f2d6af7  9ef432eb6251297304e76186b10a928d   \n",
       "1  53cdb2fc8bc7dce0b6741e2150273451  b0830fb4747a6c6d20dea0b8c802d7ef   \n",
       "2  47770eb9100c2d0c44946d9cf07ec65d  41ce2a54c0b03bf3443c3d931a367089   \n",
       "3  949d5b44dbf5de918fe9c16f97b45f8a  f88197465ea7920adcdbec7375364d82   \n",
       "4  ad21c59c0840e6cb83a9ceb5573f8159  8ab97904e6daea8866dbdbc4fb7aad2c   \n",
       "\n",
       "  order_status order_purchase_timestamp   order_approved_at  \\\n",
       "0    delivered      2017-10-02 10:56:33 2017-10-02 11:07:15   \n",
       "1    delivered      2018-07-24 20:41:37 2018-07-26 03:24:27   \n",
       "2    delivered      2018-08-08 08:38:49 2018-08-08 08:55:23   \n",
       "3    delivered      2017-11-18 19:28:06 2017-11-18 19:45:59   \n",
       "4    delivered      2018-02-13 21:18:39 2018-02-13 22:20:29   \n",
       "\n",
       "  order_delivered_carrier_date order_delivered_customer_date  \\\n",
       "0          2017-10-04 19:55:00           2017-10-10 21:25:13   \n",
       "1          2018-07-26 14:31:00           2018-08-07 15:27:45   \n",
       "2          2018-08-08 13:50:00           2018-08-17 18:06:29   \n",
       "3          2017-11-22 13:39:59           2017-12-02 00:28:42   \n",
       "4          2018-02-14 19:46:34           2018-02-16 18:17:02   \n",
       "\n",
       "  order_estimated_delivery_date     month     weeks  \n",
       "0                    2017-10-18   October  4.428571  \n",
       "1                    2018-08-13      July  4.428571  \n",
       "2                    2018-09-04    August  4.428571  \n",
       "3                    2017-12-15  November  4.285714  \n",
       "4                    2018-02-26  February  4.000000  "
      ]
     },
     "execution_count": 30,
     "metadata": {},
     "output_type": "execute_result"
    }
   ],
   "source": [
    "# Посчитаем количество семидневных периодов в каждом месяце.\n",
    "olist_orders['weeks'] = olist_orders.order_purchase_timestamp.dt.days_in_month / 7\n",
    "olist_orders.head()"
   ]
  },
  {
   "cell_type": "code",
   "execution_count": 31,
   "id": "CNabkCSwfSJK",
   "metadata": {
    "colab": {
     "base_uri": "https://localhost:8080/",
     "height": 206
    },
    "id": "CNabkCSwfSJK",
    "outputId": "8068c829-2968-4697-ed19-0dbed29f74fb"
   },
   "outputs": [
    {
     "data": {
      "text/html": [
       "<div>\n",
       "<style scoped>\n",
       "    .dataframe tbody tr th:only-of-type {\n",
       "        vertical-align: middle;\n",
       "    }\n",
       "\n",
       "    .dataframe tbody tr th {\n",
       "        vertical-align: top;\n",
       "    }\n",
       "\n",
       "    .dataframe thead th {\n",
       "        text-align: right;\n",
       "    }\n",
       "</style>\n",
       "<table border=\"1\" class=\"dataframe\">\n",
       "  <thead>\n",
       "    <tr style=\"text-align: right;\">\n",
       "      <th></th>\n",
       "      <th>customer_id</th>\n",
       "      <th>weeks</th>\n",
       "      <th>order_status</th>\n",
       "      <th>avg_orders</th>\n",
       "    </tr>\n",
       "  </thead>\n",
       "  <tbody>\n",
       "    <tr>\n",
       "      <th>0</th>\n",
       "      <td>00012a2ce6f8dcda20d059ce98491703</td>\n",
       "      <td>4.285714</td>\n",
       "      <td>1</td>\n",
       "      <td>0.233333</td>\n",
       "    </tr>\n",
       "    <tr>\n",
       "      <th>1</th>\n",
       "      <td>000161a058600d5901f007fab4c27140</td>\n",
       "      <td>4.428571</td>\n",
       "      <td>1</td>\n",
       "      <td>0.225806</td>\n",
       "    </tr>\n",
       "    <tr>\n",
       "      <th>2</th>\n",
       "      <td>0001fd6190edaaf884bcaf3d49edf079</td>\n",
       "      <td>4.000000</td>\n",
       "      <td>1</td>\n",
       "      <td>0.250000</td>\n",
       "    </tr>\n",
       "    <tr>\n",
       "      <th>3</th>\n",
       "      <td>0002414f95344307404f0ace7a26f1d5</td>\n",
       "      <td>4.428571</td>\n",
       "      <td>1</td>\n",
       "      <td>0.225806</td>\n",
       "    </tr>\n",
       "    <tr>\n",
       "      <th>4</th>\n",
       "      <td>000379cdec625522490c315e70c7a9fb</td>\n",
       "      <td>4.285714</td>\n",
       "      <td>1</td>\n",
       "      <td>0.233333</td>\n",
       "    </tr>\n",
       "  </tbody>\n",
       "</table>\n",
       "</div>"
      ],
      "text/plain": [
       "                        customer_id     weeks  order_status  avg_orders\n",
       "0  00012a2ce6f8dcda20d059ce98491703  4.285714             1    0.233333\n",
       "1  000161a058600d5901f007fab4c27140  4.428571             1    0.225806\n",
       "2  0001fd6190edaaf884bcaf3d49edf079  4.000000             1    0.250000\n",
       "3  0002414f95344307404f0ace7a26f1d5  4.428571             1    0.225806\n",
       "4  000379cdec625522490c315e70c7a9fb  4.285714             1    0.233333"
      ]
     },
     "execution_count": 31,
     "metadata": {},
     "output_type": "execute_result"
    }
   ],
   "source": [
    "# Группируем доставленные покупки по пользователям и неделям.  \n",
    "customer_by_month = olist_orders.query('order_status == \"delivered\"') \\\n",
    "    .groupby(['customer_id','weeks'], as_index=False) \\\n",
    "    .agg({'order_status':'count'})\n",
    "customer_by_month['avg_orders'] = customer_by_month.order_status / customer_by_month.weeks\n",
    "customer_by_month.head()"
   ]
  },
  {
   "cell_type": "markdown",
   "id": "1Ze_RC0kfSJL",
   "metadata": {
    "id": "1Ze_RC0kfSJL"
   },
   "source": [
    "#### Проверяем все ли пользователи посчитаны."
   ]
  },
  {
   "cell_type": "code",
   "execution_count": 32,
   "id": "W4Rox291fSJM",
   "metadata": {
    "colab": {
     "base_uri": "https://localhost:8080/"
    },
    "id": "W4Rox291fSJM",
    "outputId": "a4a219cd-9b6c-4941-b6c0-431b6520a519"
   },
   "outputs": [
    {
     "data": {
      "text/plain": [
       "True"
      ]
     },
     "execution_count": 32,
     "metadata": {},
     "output_type": "execute_result"
    }
   ],
   "source": [
    "olist_orders.query('order_status == \"delivered\"') \\\n",
    "    .customer_id.nunique() == customer_by_month.customer_id.nunique()"
   ]
  },
  {
   "cell_type": "markdown",
   "id": "qjF6oR92fSJM",
   "metadata": {
    "id": "qjF6oR92fSJM"
   },
   "source": [
    "###  5. Используя pandas, проведи когортный анализ пользователей. В период с января по декабрь выяви когорту с самым высоким retention на 3й месяц. Описание подхода можно найти тут. (10 баллов)"
   ]
  },
  {
   "cell_type": "code",
   "execution_count": 33,
   "id": "wUJRmQAwfSJN",
   "metadata": {
    "colab": {
     "base_uri": "https://localhost:8080/",
     "height": 287
    },
    "id": "wUJRmQAwfSJN",
    "outputId": "f8bb0920-0727-41ea-a5c0-aeddf7a90b03",
    "scrolled": true
   },
   "outputs": [
    {
     "data": {
      "text/html": [
       "<div>\n",
       "<style scoped>\n",
       "    .dataframe tbody tr th:only-of-type {\n",
       "        vertical-align: middle;\n",
       "    }\n",
       "\n",
       "    .dataframe tbody tr th {\n",
       "        vertical-align: top;\n",
       "    }\n",
       "\n",
       "    .dataframe thead th {\n",
       "        text-align: right;\n",
       "    }\n",
       "</style>\n",
       "<table border=\"1\" class=\"dataframe\">\n",
       "  <thead>\n",
       "    <tr style=\"text-align: right;\">\n",
       "      <th></th>\n",
       "      <th>order_id</th>\n",
       "      <th>customer_id</th>\n",
       "      <th>order_status</th>\n",
       "      <th>order_purchase_timestamp</th>\n",
       "      <th>order_approved_at</th>\n",
       "      <th>order_delivered_carrier_date</th>\n",
       "      <th>order_delivered_customer_date</th>\n",
       "      <th>order_estimated_delivery_date</th>\n",
       "      <th>month</th>\n",
       "      <th>weeks</th>\n",
       "      <th>customer_unique_id</th>\n",
       "      <th>customer_zip_code_prefix</th>\n",
       "      <th>customer_city</th>\n",
       "      <th>customer_state</th>\n",
       "    </tr>\n",
       "  </thead>\n",
       "  <tbody>\n",
       "    <tr>\n",
       "      <th>0</th>\n",
       "      <td>e481f51cbdc54678b7cc49136f2d6af7</td>\n",
       "      <td>9ef432eb6251297304e76186b10a928d</td>\n",
       "      <td>delivered</td>\n",
       "      <td>2017-10-02 10:56:33</td>\n",
       "      <td>2017-10-02 11:07:15</td>\n",
       "      <td>2017-10-04 19:55:00</td>\n",
       "      <td>2017-10-10 21:25:13</td>\n",
       "      <td>2017-10-18</td>\n",
       "      <td>October</td>\n",
       "      <td>4.428571</td>\n",
       "      <td>7c396fd4830fd04220f754e42b4e5bff</td>\n",
       "      <td>3149</td>\n",
       "      <td>sao paulo</td>\n",
       "      <td>SP</td>\n",
       "    </tr>\n",
       "    <tr>\n",
       "      <th>3</th>\n",
       "      <td>949d5b44dbf5de918fe9c16f97b45f8a</td>\n",
       "      <td>f88197465ea7920adcdbec7375364d82</td>\n",
       "      <td>delivered</td>\n",
       "      <td>2017-11-18 19:28:06</td>\n",
       "      <td>2017-11-18 19:45:59</td>\n",
       "      <td>2017-11-22 13:39:59</td>\n",
       "      <td>2017-12-02 00:28:42</td>\n",
       "      <td>2017-12-15</td>\n",
       "      <td>November</td>\n",
       "      <td>4.285714</td>\n",
       "      <td>7c142cf63193a1473d2e66489a9ae977</td>\n",
       "      <td>59296</td>\n",
       "      <td>sao goncalo do amarante</td>\n",
       "      <td>RN</td>\n",
       "    </tr>\n",
       "    <tr>\n",
       "      <th>4</th>\n",
       "      <td>ad21c59c0840e6cb83a9ceb5573f8159</td>\n",
       "      <td>8ab97904e6daea8866dbdbc4fb7aad2c</td>\n",
       "      <td>delivered</td>\n",
       "      <td>2018-02-13 21:18:39</td>\n",
       "      <td>2018-02-13 22:20:29</td>\n",
       "      <td>2018-02-14 19:46:34</td>\n",
       "      <td>2018-02-16 18:17:02</td>\n",
       "      <td>2018-02-26</td>\n",
       "      <td>February</td>\n",
       "      <td>4.000000</td>\n",
       "      <td>72632f0f9dd73dfee390c9b22eb56dd6</td>\n",
       "      <td>9195</td>\n",
       "      <td>santo andre</td>\n",
       "      <td>SP</td>\n",
       "    </tr>\n",
       "    <tr>\n",
       "      <th>5</th>\n",
       "      <td>a4591c265e18cb1dcee52889e2d8acc3</td>\n",
       "      <td>503740e9ca751ccdda7ba28e9ab8f608</td>\n",
       "      <td>delivered</td>\n",
       "      <td>2017-07-09 21:57:05</td>\n",
       "      <td>2017-07-09 22:10:13</td>\n",
       "      <td>2017-07-11 14:58:04</td>\n",
       "      <td>2017-07-26 10:57:55</td>\n",
       "      <td>2017-08-01</td>\n",
       "      <td>July</td>\n",
       "      <td>4.428571</td>\n",
       "      <td>80bb27c7c16e8f973207a5086ab329e2</td>\n",
       "      <td>86320</td>\n",
       "      <td>congonhinhas</td>\n",
       "      <td>PR</td>\n",
       "    </tr>\n",
       "    <tr>\n",
       "      <th>7</th>\n",
       "      <td>6514b8ad8028c9f2cc2374ded245783f</td>\n",
       "      <td>9bdf08b4b3b52b5526ff42d37d47f222</td>\n",
       "      <td>delivered</td>\n",
       "      <td>2017-05-16 13:10:30</td>\n",
       "      <td>2017-05-16 13:22:11</td>\n",
       "      <td>2017-05-22 10:07:46</td>\n",
       "      <td>2017-05-26 12:55:51</td>\n",
       "      <td>2017-06-07</td>\n",
       "      <td>May</td>\n",
       "      <td>4.428571</td>\n",
       "      <td>932afa1e708222e5821dac9cd5db4cae</td>\n",
       "      <td>26525</td>\n",
       "      <td>nilopolis</td>\n",
       "      <td>RJ</td>\n",
       "    </tr>\n",
       "  </tbody>\n",
       "</table>\n",
       "</div>"
      ],
      "text/plain": [
       "                           order_id                       customer_id  \\\n",
       "0  e481f51cbdc54678b7cc49136f2d6af7  9ef432eb6251297304e76186b10a928d   \n",
       "3  949d5b44dbf5de918fe9c16f97b45f8a  f88197465ea7920adcdbec7375364d82   \n",
       "4  ad21c59c0840e6cb83a9ceb5573f8159  8ab97904e6daea8866dbdbc4fb7aad2c   \n",
       "5  a4591c265e18cb1dcee52889e2d8acc3  503740e9ca751ccdda7ba28e9ab8f608   \n",
       "7  6514b8ad8028c9f2cc2374ded245783f  9bdf08b4b3b52b5526ff42d37d47f222   \n",
       "\n",
       "  order_status order_purchase_timestamp   order_approved_at  \\\n",
       "0    delivered      2017-10-02 10:56:33 2017-10-02 11:07:15   \n",
       "3    delivered      2017-11-18 19:28:06 2017-11-18 19:45:59   \n",
       "4    delivered      2018-02-13 21:18:39 2018-02-13 22:20:29   \n",
       "5    delivered      2017-07-09 21:57:05 2017-07-09 22:10:13   \n",
       "7    delivered      2017-05-16 13:10:30 2017-05-16 13:22:11   \n",
       "\n",
       "  order_delivered_carrier_date order_delivered_customer_date  \\\n",
       "0          2017-10-04 19:55:00           2017-10-10 21:25:13   \n",
       "3          2017-11-22 13:39:59           2017-12-02 00:28:42   \n",
       "4          2018-02-14 19:46:34           2018-02-16 18:17:02   \n",
       "5          2017-07-11 14:58:04           2017-07-26 10:57:55   \n",
       "7          2017-05-22 10:07:46           2017-05-26 12:55:51   \n",
       "\n",
       "  order_estimated_delivery_date     month     weeks  \\\n",
       "0                    2017-10-18   October  4.428571   \n",
       "3                    2017-12-15  November  4.285714   \n",
       "4                    2018-02-26  February  4.000000   \n",
       "5                    2017-08-01      July  4.428571   \n",
       "7                    2017-06-07       May  4.428571   \n",
       "\n",
       "                 customer_unique_id  customer_zip_code_prefix  \\\n",
       "0  7c396fd4830fd04220f754e42b4e5bff                      3149   \n",
       "3  7c142cf63193a1473d2e66489a9ae977                     59296   \n",
       "4  72632f0f9dd73dfee390c9b22eb56dd6                      9195   \n",
       "5  80bb27c7c16e8f973207a5086ab329e2                     86320   \n",
       "7  932afa1e708222e5821dac9cd5db4cae                     26525   \n",
       "\n",
       "             customer_city customer_state  \n",
       "0                sao paulo             SP  \n",
       "3  sao goncalo do amarante             RN  \n",
       "4              santo andre             SP  \n",
       "5             congonhinhas             PR  \n",
       "7                nilopolis             RJ  "
      ]
     },
     "execution_count": 33,
     "metadata": {},
     "output_type": "execute_result"
    }
   ],
   "source": [
    "# Объединим таблицы с заказами и пользователями по id пользователя. Оставим только доставленные.\n",
    "orders_uniq_id = olist_orders.merge(olist_customers, how='inner', on='customer_id')\n",
    "delivered_orders_uniq_id = orders_uniq_id[orders_uniq_id.order_status == 'delivered']\n",
    "\n",
    "# Выберем покупки за 2017 год + 3 месяца 2018 года для оценки retantion.\n",
    "delivered_orders_uniq_id = delivered_orders_uniq_id[delivered_orders_uniq_id.order_purchase_timestamp\\\n",
    "                                                    .between('2017-01-01', '2018-04-01')]\n",
    "delivered_orders_uniq_id.head()"
   ]
  },
  {
   "cell_type": "code",
   "execution_count": 34,
   "id": "vwA7oTiqfSJP",
   "metadata": {
    "colab": {
     "base_uri": "https://localhost:8080/"
    },
    "id": "vwA7oTiqfSJP",
    "outputId": "66e2540a-a418-4c7a-90c7-c650f5177bab"
   },
   "outputs": [],
   "source": [
    "# Добавим поле с месяцем покупки.\n",
    "delivered_orders_uniq_id['purchase_month'] = delivered_orders_uniq_id.order_purchase_timestamp.dt.to_period('M')"
   ]
  },
  {
   "cell_type": "code",
   "execution_count": 35,
   "id": "sbf9vMr6fSJQ",
   "metadata": {
    "colab": {
     "base_uri": "https://localhost:8080/",
     "height": 206
    },
    "id": "sbf9vMr6fSJQ",
    "outputId": "ef7e18c6-3072-4309-e5f8-7585a47ffc38"
   },
   "outputs": [
    {
     "data": {
      "text/html": [
       "<div>\n",
       "<style scoped>\n",
       "    .dataframe tbody tr th:only-of-type {\n",
       "        vertical-align: middle;\n",
       "    }\n",
       "\n",
       "    .dataframe tbody tr th {\n",
       "        vertical-align: top;\n",
       "    }\n",
       "\n",
       "    .dataframe thead th {\n",
       "        text-align: right;\n",
       "    }\n",
       "</style>\n",
       "<table border=\"1\" class=\"dataframe\">\n",
       "  <thead>\n",
       "    <tr style=\"text-align: right;\">\n",
       "      <th></th>\n",
       "      <th>customer_unique_id</th>\n",
       "      <th>order_id</th>\n",
       "      <th>purchase_month</th>\n",
       "    </tr>\n",
       "  </thead>\n",
       "  <tbody>\n",
       "    <tr>\n",
       "      <th>56858</th>\n",
       "      <td>06058fe38c88d8d03a06ebaa6fb68aad</td>\n",
       "      <td>54d744a4410b1edccc36c6d1f1c7e097</td>\n",
       "      <td>2017-01</td>\n",
       "    </tr>\n",
       "    <tr>\n",
       "      <th>7957</th>\n",
       "      <td>2fb246d1ccf7be8743d4a385db89cbb9</td>\n",
       "      <td>1e6025fd19451c74352d0bbf6a218bf6</td>\n",
       "      <td>2017-01</td>\n",
       "    </tr>\n",
       "    <tr>\n",
       "      <th>27259</th>\n",
       "      <td>1c61833a5bbe555d71990cf46c3ccd2b</td>\n",
       "      <td>10bce195e3966122a3dd0e2aa676f761</td>\n",
       "      <td>2017-01</td>\n",
       "    </tr>\n",
       "    <tr>\n",
       "      <th>12548</th>\n",
       "      <td>bd8717655febcdf30f106e9f3cb24628</td>\n",
       "      <td>b5b103fe531168050d785d5b8de74174</td>\n",
       "      <td>2017-01</td>\n",
       "    </tr>\n",
       "    <tr>\n",
       "      <th>73766</th>\n",
       "      <td>0383aca4e461346b22c75ea54eb548f2</td>\n",
       "      <td>3c4f38e27c5f6f27be39c8a2932c43e1</td>\n",
       "      <td>2017-01</td>\n",
       "    </tr>\n",
       "  </tbody>\n",
       "</table>\n",
       "</div>"
      ],
      "text/plain": [
       "                     customer_unique_id                          order_id  \\\n",
       "56858  06058fe38c88d8d03a06ebaa6fb68aad  54d744a4410b1edccc36c6d1f1c7e097   \n",
       "7957   2fb246d1ccf7be8743d4a385db89cbb9  1e6025fd19451c74352d0bbf6a218bf6   \n",
       "27259  1c61833a5bbe555d71990cf46c3ccd2b  10bce195e3966122a3dd0e2aa676f761   \n",
       "12548  bd8717655febcdf30f106e9f3cb24628  b5b103fe531168050d785d5b8de74174   \n",
       "73766  0383aca4e461346b22c75ea54eb548f2  3c4f38e27c5f6f27be39c8a2932c43e1   \n",
       "\n",
       "      purchase_month  \n",
       "56858        2017-01  \n",
       "7957         2017-01  \n",
       "27259        2017-01  \n",
       "12548        2017-01  \n",
       "73766        2017-01  "
      ]
     },
     "execution_count": 35,
     "metadata": {},
     "output_type": "execute_result"
    }
   ],
   "source": [
    "# Выберем нужные поля и упорядочим по дате.\n",
    "delivered_orders_uniq_id = delivered_orders_uniq_id[['customer_unique_id','order_id','purchase_month']]\n",
    "delivered_orders_uniq_id = delivered_orders_uniq_id.sort_values('purchase_month')\n",
    "delivered_orders_uniq_id.head()"
   ]
  },
  {
   "cell_type": "code",
   "execution_count": 36,
   "id": "yUo4wvDofSJR",
   "metadata": {
    "colab": {
     "base_uri": "https://localhost:8080/",
     "height": 206
    },
    "id": "yUo4wvDofSJR",
    "outputId": "b4229d0e-ee39-4727-da7a-c639efc8df06"
   },
   "outputs": [
    {
     "data": {
      "text/html": [
       "<div>\n",
       "<style scoped>\n",
       "    .dataframe tbody tr th:only-of-type {\n",
       "        vertical-align: middle;\n",
       "    }\n",
       "\n",
       "    .dataframe tbody tr th {\n",
       "        vertical-align: top;\n",
       "    }\n",
       "\n",
       "    .dataframe thead th {\n",
       "        text-align: right;\n",
       "    }\n",
       "</style>\n",
       "<table border=\"1\" class=\"dataframe\">\n",
       "  <thead>\n",
       "    <tr style=\"text-align: right;\">\n",
       "      <th></th>\n",
       "      <th>customer_unique_id</th>\n",
       "      <th>order_id</th>\n",
       "      <th>purchase_month</th>\n",
       "      <th>first_order_month</th>\n",
       "    </tr>\n",
       "  </thead>\n",
       "  <tbody>\n",
       "    <tr>\n",
       "      <th>0</th>\n",
       "      <td>06058fe38c88d8d03a06ebaa6fb68aad</td>\n",
       "      <td>54d744a4410b1edccc36c6d1f1c7e097</td>\n",
       "      <td>2017-01</td>\n",
       "      <td>2017-01</td>\n",
       "    </tr>\n",
       "    <tr>\n",
       "      <th>1</th>\n",
       "      <td>2fb246d1ccf7be8743d4a385db89cbb9</td>\n",
       "      <td>1e6025fd19451c74352d0bbf6a218bf6</td>\n",
       "      <td>2017-01</td>\n",
       "      <td>2017-01</td>\n",
       "    </tr>\n",
       "    <tr>\n",
       "      <th>2</th>\n",
       "      <td>1c61833a5bbe555d71990cf46c3ccd2b</td>\n",
       "      <td>10bce195e3966122a3dd0e2aa676f761</td>\n",
       "      <td>2017-01</td>\n",
       "      <td>2017-01</td>\n",
       "    </tr>\n",
       "    <tr>\n",
       "      <th>3</th>\n",
       "      <td>bd8717655febcdf30f106e9f3cb24628</td>\n",
       "      <td>b5b103fe531168050d785d5b8de74174</td>\n",
       "      <td>2017-01</td>\n",
       "      <td>2017-01</td>\n",
       "    </tr>\n",
       "    <tr>\n",
       "      <th>4</th>\n",
       "      <td>0383aca4e461346b22c75ea54eb548f2</td>\n",
       "      <td>3c4f38e27c5f6f27be39c8a2932c43e1</td>\n",
       "      <td>2017-01</td>\n",
       "      <td>2017-01</td>\n",
       "    </tr>\n",
       "  </tbody>\n",
       "</table>\n",
       "</div>"
      ],
      "text/plain": [
       "                 customer_unique_id                          order_id  \\\n",
       "0  06058fe38c88d8d03a06ebaa6fb68aad  54d744a4410b1edccc36c6d1f1c7e097   \n",
       "1  2fb246d1ccf7be8743d4a385db89cbb9  1e6025fd19451c74352d0bbf6a218bf6   \n",
       "2  1c61833a5bbe555d71990cf46c3ccd2b  10bce195e3966122a3dd0e2aa676f761   \n",
       "3  bd8717655febcdf30f106e9f3cb24628  b5b103fe531168050d785d5b8de74174   \n",
       "4  0383aca4e461346b22c75ea54eb548f2  3c4f38e27c5f6f27be39c8a2932c43e1   \n",
       "\n",
       "  purchase_month first_order_month  \n",
       "0        2017-01           2017-01  \n",
       "1        2017-01           2017-01  \n",
       "2        2017-01           2017-01  \n",
       "3        2017-01           2017-01  \n",
       "4        2017-01           2017-01  "
      ]
     },
     "execution_count": 36,
     "metadata": {},
     "output_type": "execute_result"
    }
   ],
   "source": [
    "# Добавим поле с месяцем первой покупки каждого пользователя.\n",
    "first_date = delivered_orders_uniq_id.groupby('customer_unique_id',as_index=False) \\\n",
    "    .agg({'purchase_month':'first'}).rename(columns={'purchase_month':'first_order_month'})\n",
    "delivered_orders_uniq_id = delivered_orders_uniq_id.merge(first_date, how='inner',on='customer_unique_id')\n",
    "delivered_orders_uniq_id.head()"
   ]
  },
  {
   "cell_type": "code",
   "execution_count": 37,
   "id": "WBb7s810fSJX",
   "metadata": {
    "colab": {
     "base_uri": "https://localhost:8080/",
     "height": 237
    },
    "id": "WBb7s810fSJX",
    "outputId": "b7aff25b-a5df-416a-d4ab-dd93a57ab956"
   },
   "outputs": [
    {
     "data": {
      "text/html": [
       "<div>\n",
       "<style scoped>\n",
       "    .dataframe tbody tr th:only-of-type {\n",
       "        vertical-align: middle;\n",
       "    }\n",
       "\n",
       "    .dataframe tbody tr th {\n",
       "        vertical-align: top;\n",
       "    }\n",
       "\n",
       "    .dataframe thead th {\n",
       "        text-align: right;\n",
       "    }\n",
       "</style>\n",
       "<table border=\"1\" class=\"dataframe\">\n",
       "  <thead>\n",
       "    <tr style=\"text-align: right;\">\n",
       "      <th></th>\n",
       "      <th></th>\n",
       "      <th>customer_unique_id</th>\n",
       "    </tr>\n",
       "    <tr>\n",
       "      <th>first_order_month</th>\n",
       "      <th>purchase_month</th>\n",
       "      <th></th>\n",
       "    </tr>\n",
       "  </thead>\n",
       "  <tbody>\n",
       "    <tr>\n",
       "      <th rowspan=\"5\" valign=\"top\">2017-01</th>\n",
       "      <th>2017-01</th>\n",
       "      <td>750</td>\n",
       "    </tr>\n",
       "    <tr>\n",
       "      <th>2017-02</th>\n",
       "      <td>2</td>\n",
       "    </tr>\n",
       "    <tr>\n",
       "      <th>2017-03</th>\n",
       "      <td>2</td>\n",
       "    </tr>\n",
       "    <tr>\n",
       "      <th>2017-04</th>\n",
       "      <td>1</td>\n",
       "    </tr>\n",
       "    <tr>\n",
       "      <th>2017-05</th>\n",
       "      <td>3</td>\n",
       "    </tr>\n",
       "  </tbody>\n",
       "</table>\n",
       "</div>"
      ],
      "text/plain": [
       "                                  customer_unique_id\n",
       "first_order_month purchase_month                    \n",
       "2017-01           2017-01                        750\n",
       "                  2017-02                          2\n",
       "                  2017-03                          2\n",
       "                  2017-04                          1\n",
       "                  2017-05                          3"
      ]
     },
     "execution_count": 37,
     "metadata": {},
     "output_type": "execute_result"
    }
   ],
   "source": [
    "cohorts = delivered_orders_uniq_id.groupby(['first_order_month', 'purchase_month']) \\\n",
    "    .agg({'customer_unique_id':'count'}).copy()\n",
    "cohorts.head()"
   ]
  },
  {
   "cell_type": "code",
   "execution_count": 38,
   "id": "a90e79eb",
   "metadata": {},
   "outputs": [],
   "source": [
    "# Проставим номер месяца для каждой когорты.\n",
    "def cohort_month(df):\n",
    "    df['month'] = np.arange(len(df)) + 1 \n",
    "    return df\n",
    "\n",
    "cohorts = cohorts.groupby('first_order_month').apply(cohort_month)"
   ]
  },
  {
   "cell_type": "code",
   "execution_count": 39,
   "id": "4cdc2ff3",
   "metadata": {
    "scrolled": true
   },
   "outputs": [
    {
     "data": {
      "text/html": [
       "<div>\n",
       "<style scoped>\n",
       "    .dataframe tbody tr th:only-of-type {\n",
       "        vertical-align: middle;\n",
       "    }\n",
       "\n",
       "    .dataframe tbody tr th {\n",
       "        vertical-align: top;\n",
       "    }\n",
       "\n",
       "    .dataframe thead th {\n",
       "        text-align: right;\n",
       "    }\n",
       "</style>\n",
       "<table border=\"1\" class=\"dataframe\">\n",
       "  <thead>\n",
       "    <tr style=\"text-align: right;\">\n",
       "      <th></th>\n",
       "      <th></th>\n",
       "      <th>customer_unique_id</th>\n",
       "      <th>month</th>\n",
       "    </tr>\n",
       "    <tr>\n",
       "      <th>first_order_month</th>\n",
       "      <th>purchase_month</th>\n",
       "      <th></th>\n",
       "      <th></th>\n",
       "    </tr>\n",
       "  </thead>\n",
       "  <tbody>\n",
       "    <tr>\n",
       "      <th rowspan=\"5\" valign=\"top\">2017-01</th>\n",
       "      <th>2017-01</th>\n",
       "      <td>750</td>\n",
       "      <td>1</td>\n",
       "    </tr>\n",
       "    <tr>\n",
       "      <th>2017-02</th>\n",
       "      <td>2</td>\n",
       "      <td>2</td>\n",
       "    </tr>\n",
       "    <tr>\n",
       "      <th>2017-03</th>\n",
       "      <td>2</td>\n",
       "      <td>3</td>\n",
       "    </tr>\n",
       "    <tr>\n",
       "      <th>2017-04</th>\n",
       "      <td>1</td>\n",
       "      <td>4</td>\n",
       "    </tr>\n",
       "    <tr>\n",
       "      <th>2017-05</th>\n",
       "      <td>3</td>\n",
       "      <td>5</td>\n",
       "    </tr>\n",
       "  </tbody>\n",
       "</table>\n",
       "</div>"
      ],
      "text/plain": [
       "                                  customer_unique_id  month\n",
       "first_order_month purchase_month                           \n",
       "2017-01           2017-01                        750      1\n",
       "                  2017-02                          2      2\n",
       "                  2017-03                          2      3\n",
       "                  2017-04                          1      4\n",
       "                  2017-05                          3      5"
      ]
     },
     "execution_count": 39,
     "metadata": {},
     "output_type": "execute_result"
    }
   ],
   "source": [
    "cohorts.head()"
   ]
  },
  {
   "cell_type": "code",
   "execution_count": 40,
   "id": "c95de53c",
   "metadata": {},
   "outputs": [],
   "source": [
    "cohorts.reset_index(inplace=True)\n",
    "cohorts.set_index(['month','first_order_month'], inplace=True)\n",
    "cohort_group_size = cohorts['customer_unique_id'].groupby(level=1).first()"
   ]
  },
  {
   "cell_type": "code",
   "execution_count": 41,
   "id": "c80f2d3b",
   "metadata": {},
   "outputs": [],
   "source": [
    "retention = cohorts['customer_unique_id'].unstack('first_order_month').T.divide(cohort_group_size, axis=0)"
   ]
  },
  {
   "cell_type": "code",
   "execution_count": 42,
   "id": "7bf205f0",
   "metadata": {
    "scrolled": true
   },
   "outputs": [
    {
     "data": {
      "image/png": "[encoded data removed]",
      "text/plain": [
       "<Figure size 2000x700 with 2 Axes>"
      ]
     },
     "metadata": {},
     "output_type": "display_data"
    }
   ],
   "source": [
    "sns.set(style='ticks')\n",
    "plt.title('Customer Retention')\n",
    "sns.heatmap(retention, mask=retention.isnull(), annot=True, fmt='.2%', linewidths=1, vmin=0.0, vmax=0.01);"
   ]
  },
  {
   "cell_type": "markdown",
   "id": "49e57e53",
   "metadata": {},
   "source": [
    "#### Ответ:\n",
    "Самый высокий retention на 3й месяц показывает когорта 2017-03, 47%."
   ]
  },
  {
   "cell_type": "markdown",
   "id": "JCVR8FMpfSJb",
   "metadata": {
    "id": "JCVR8FMpfSJb"
   },
   "source": [
    "### 6. Используя python, построй RFM-сегментацию пользователей.\n",
    "Часто для качественного анализа аудитории использую подходы, основанные на сегментации. Используя python, построй RFM-сегментацию пользователей, чтобы качественно оценить свою аудиторию. В кластеризации можешь выбрать следующие метрики: R - время от последней покупки пользователя до текущей даты, F - суммарное количество покупок у пользователя за всё время, M - сумма покупок за всё время. Подробно опиши, как ты создавал кластеры. Для каждого RFM-сегмента построй границы метрик recency, frequency и monetary для интерпретации этих кластеров. Пример такого описания: RFM-сегмент 132 (recency=1, frequency=3, monetary=2) имеет границы метрик recency от 130 до 500 дней, frequency от 2 до 5 заказов в неделю, monetary от 1780 до 3560 рублей в неделю."
   ]
  },
  {
   "cell_type": "code",
   "execution_count": 43,
   "id": "qMEx_FK2fSJb",
   "metadata": {
    "colab": {
     "base_uri": "https://localhost:8080/",
     "height": 287
    },
    "id": "qMEx_FK2fSJb",
    "outputId": "9dafac52-7071-451e-ac96-bfa52418e6c0"
   },
   "outputs": [
    {
     "data": {
      "text/html": [
       "<div>\n",
       "<style scoped>\n",
       "    .dataframe tbody tr th:only-of-type {\n",
       "        vertical-align: middle;\n",
       "    }\n",
       "\n",
       "    .dataframe tbody tr th {\n",
       "        vertical-align: top;\n",
       "    }\n",
       "\n",
       "    .dataframe thead th {\n",
       "        text-align: right;\n",
       "    }\n",
       "</style>\n",
       "<table border=\"1\" class=\"dataframe\">\n",
       "  <thead>\n",
       "    <tr style=\"text-align: right;\">\n",
       "      <th></th>\n",
       "      <th>order_id</th>\n",
       "      <th>customer_id</th>\n",
       "      <th>order_status</th>\n",
       "      <th>order_purchase_timestamp</th>\n",
       "      <th>order_approved_at</th>\n",
       "      <th>order_delivered_carrier_date</th>\n",
       "      <th>order_delivered_customer_date</th>\n",
       "      <th>order_estimated_delivery_date</th>\n",
       "      <th>month</th>\n",
       "      <th>weeks</th>\n",
       "      <th>customer_unique_id</th>\n",
       "      <th>customer_zip_code_prefix</th>\n",
       "      <th>customer_city</th>\n",
       "      <th>customer_state</th>\n",
       "      <th>order_item_id</th>\n",
       "      <th>product_id</th>\n",
       "      <th>seller_id</th>\n",
       "      <th>shipping_limit_date</th>\n",
       "      <th>price</th>\n",
       "      <th>freight_value</th>\n",
       "    </tr>\n",
       "  </thead>\n",
       "  <tbody>\n",
       "    <tr>\n",
       "      <th>0</th>\n",
       "      <td>e481f51cbdc54678b7cc49136f2d6af7</td>\n",
       "      <td>9ef432eb6251297304e76186b10a928d</td>\n",
       "      <td>delivered</td>\n",
       "      <td>2017-10-02 10:56:33</td>\n",
       "      <td>2017-10-02 11:07:15</td>\n",
       "      <td>2017-10-04 19:55:00</td>\n",
       "      <td>2017-10-10 21:25:13</td>\n",
       "      <td>2017-10-18</td>\n",
       "      <td>October</td>\n",
       "      <td>4.428571</td>\n",
       "      <td>7c396fd4830fd04220f754e42b4e5bff</td>\n",
       "      <td>3149</td>\n",
       "      <td>sao paulo</td>\n",
       "      <td>SP</td>\n",
       "      <td>1.0</td>\n",
       "      <td>87285b34884572647811a353c7ac498a</td>\n",
       "      <td>3504c0cb71d7fa48d967e0e4c94d59d9</td>\n",
       "      <td>2017-10-06 11:07:15</td>\n",
       "      <td>29.99</td>\n",
       "      <td>8.72</td>\n",
       "    </tr>\n",
       "    <tr>\n",
       "      <th>1</th>\n",
       "      <td>53cdb2fc8bc7dce0b6741e2150273451</td>\n",
       "      <td>b0830fb4747a6c6d20dea0b8c802d7ef</td>\n",
       "      <td>delivered</td>\n",
       "      <td>2018-07-24 20:41:37</td>\n",
       "      <td>2018-07-26 03:24:27</td>\n",
       "      <td>2018-07-26 14:31:00</td>\n",
       "      <td>2018-08-07 15:27:45</td>\n",
       "      <td>2018-08-13</td>\n",
       "      <td>July</td>\n",
       "      <td>4.428571</td>\n",
       "      <td>af07308b275d755c9edb36a90c618231</td>\n",
       "      <td>47813</td>\n",
       "      <td>barreiras</td>\n",
       "      <td>BA</td>\n",
       "      <td>1.0</td>\n",
       "      <td>595fac2a385ac33a80bd5114aec74eb8</td>\n",
       "      <td>289cdb325fb7e7f891c38608bf9e0962</td>\n",
       "      <td>2018-07-30 03:24:27</td>\n",
       "      <td>118.70</td>\n",
       "      <td>22.76</td>\n",
       "    </tr>\n",
       "    <tr>\n",
       "      <th>2</th>\n",
       "      <td>47770eb9100c2d0c44946d9cf07ec65d</td>\n",
       "      <td>41ce2a54c0b03bf3443c3d931a367089</td>\n",
       "      <td>delivered</td>\n",
       "      <td>2018-08-08 08:38:49</td>\n",
       "      <td>2018-08-08 08:55:23</td>\n",
       "      <td>2018-08-08 13:50:00</td>\n",
       "      <td>2018-08-17 18:06:29</td>\n",
       "      <td>2018-09-04</td>\n",
       "      <td>August</td>\n",
       "      <td>4.428571</td>\n",
       "      <td>3a653a41f6f9fc3d2a113cf8398680e8</td>\n",
       "      <td>75265</td>\n",
       "      <td>vianopolis</td>\n",
       "      <td>GO</td>\n",
       "      <td>1.0</td>\n",
       "      <td>aa4383b373c6aca5d8797843e5594415</td>\n",
       "      <td>4869f7a5dfa277a7dca6462dcf3b52b2</td>\n",
       "      <td>2018-08-13 08:55:23</td>\n",
       "      <td>159.90</td>\n",
       "      <td>19.22</td>\n",
       "    </tr>\n",
       "    <tr>\n",
       "      <th>3</th>\n",
       "      <td>949d5b44dbf5de918fe9c16f97b45f8a</td>\n",
       "      <td>f88197465ea7920adcdbec7375364d82</td>\n",
       "      <td>delivered</td>\n",
       "      <td>2017-11-18 19:28:06</td>\n",
       "      <td>2017-11-18 19:45:59</td>\n",
       "      <td>2017-11-22 13:39:59</td>\n",
       "      <td>2017-12-02 00:28:42</td>\n",
       "      <td>2017-12-15</td>\n",
       "      <td>November</td>\n",
       "      <td>4.285714</td>\n",
       "      <td>7c142cf63193a1473d2e66489a9ae977</td>\n",
       "      <td>59296</td>\n",
       "      <td>sao goncalo do amarante</td>\n",
       "      <td>RN</td>\n",
       "      <td>1.0</td>\n",
       "      <td>d0b61bfb1de832b15ba9d266ca96e5b0</td>\n",
       "      <td>66922902710d126a0e7d26b0e3805106</td>\n",
       "      <td>2017-11-23 19:45:59</td>\n",
       "      <td>45.00</td>\n",
       "      <td>27.20</td>\n",
       "    </tr>\n",
       "    <tr>\n",
       "      <th>4</th>\n",
       "      <td>ad21c59c0840e6cb83a9ceb5573f8159</td>\n",
       "      <td>8ab97904e6daea8866dbdbc4fb7aad2c</td>\n",
       "      <td>delivered</td>\n",
       "      <td>2018-02-13 21:18:39</td>\n",
       "      <td>2018-02-13 22:20:29</td>\n",
       "      <td>2018-02-14 19:46:34</td>\n",
       "      <td>2018-02-16 18:17:02</td>\n",
       "      <td>2018-02-26</td>\n",
       "      <td>February</td>\n",
       "      <td>4.000000</td>\n",
       "      <td>72632f0f9dd73dfee390c9b22eb56dd6</td>\n",
       "      <td>9195</td>\n",
       "      <td>santo andre</td>\n",
       "      <td>SP</td>\n",
       "      <td>1.0</td>\n",
       "      <td>65266b2da20d04dbe00c5c2d3bb7859e</td>\n",
       "      <td>2c9e548be18521d1c43cde1c582c6de8</td>\n",
       "      <td>2018-02-19 20:31:37</td>\n",
       "      <td>19.90</td>\n",
       "      <td>8.72</td>\n",
       "    </tr>\n",
       "  </tbody>\n",
       "</table>\n",
       "</div>"
      ],
      "text/plain": [
       "                           order_id                       customer_id  \\\n",
       "0  e481f51cbdc54678b7cc49136f2d6af7  9ef432eb6251297304e76186b10a928d   \n",
       "1  53cdb2fc8bc7dce0b6741e2150273451  b0830fb4747a6c6d20dea0b8c802d7ef   \n",
       "2  47770eb9100c2d0c44946d9cf07ec65d  41ce2a54c0b03bf3443c3d931a367089   \n",
       "3  949d5b44dbf5de918fe9c16f97b45f8a  f88197465ea7920adcdbec7375364d82   \n",
       "4  ad21c59c0840e6cb83a9ceb5573f8159  8ab97904e6daea8866dbdbc4fb7aad2c   \n",
       "\n",
       "  order_status order_purchase_timestamp   order_approved_at  \\\n",
       "0    delivered      2017-10-02 10:56:33 2017-10-02 11:07:15   \n",
       "1    delivered      2018-07-24 20:41:37 2018-07-26 03:24:27   \n",
       "2    delivered      2018-08-08 08:38:49 2018-08-08 08:55:23   \n",
       "3    delivered      2017-11-18 19:28:06 2017-11-18 19:45:59   \n",
       "4    delivered      2018-02-13 21:18:39 2018-02-13 22:20:29   \n",
       "\n",
       "  order_delivered_carrier_date order_delivered_customer_date  \\\n",
       "0          2017-10-04 19:55:00           2017-10-10 21:25:13   \n",
       "1          2018-07-26 14:31:00           2018-08-07 15:27:45   \n",
       "2          2018-08-08 13:50:00           2018-08-17 18:06:29   \n",
       "3          2017-11-22 13:39:59           2017-12-02 00:28:42   \n",
       "4          2018-02-14 19:46:34           2018-02-16 18:17:02   \n",
       "\n",
       "  order_estimated_delivery_date     month     weeks  \\\n",
       "0                    2017-10-18   October  4.428571   \n",
       "1                    2018-08-13      July  4.428571   \n",
       "2                    2018-09-04    August  4.428571   \n",
       "3                    2017-12-15  November  4.285714   \n",
       "4                    2018-02-26  February  4.000000   \n",
       "\n",
       "                 customer_unique_id  customer_zip_code_prefix  \\\n",
       "0  7c396fd4830fd04220f754e42b4e5bff                      3149   \n",
       "1  af07308b275d755c9edb36a90c618231                     47813   \n",
       "2  3a653a41f6f9fc3d2a113cf8398680e8                     75265   \n",
       "3  7c142cf63193a1473d2e66489a9ae977                     59296   \n",
       "4  72632f0f9dd73dfee390c9b22eb56dd6                      9195   \n",
       "\n",
       "             customer_city customer_state  order_item_id  \\\n",
       "0                sao paulo             SP            1.0   \n",
       "1                barreiras             BA            1.0   \n",
       "2               vianopolis             GO            1.0   \n",
       "3  sao goncalo do amarante             RN            1.0   \n",
       "4              santo andre             SP            1.0   \n",
       "\n",
       "                         product_id                         seller_id  \\\n",
       "0  87285b34884572647811a353c7ac498a  3504c0cb71d7fa48d967e0e4c94d59d9   \n",
       "1  595fac2a385ac33a80bd5114aec74eb8  289cdb325fb7e7f891c38608bf9e0962   \n",
       "2  aa4383b373c6aca5d8797843e5594415  4869f7a5dfa277a7dca6462dcf3b52b2   \n",
       "3  d0b61bfb1de832b15ba9d266ca96e5b0  66922902710d126a0e7d26b0e3805106   \n",
       "4  65266b2da20d04dbe00c5c2d3bb7859e  2c9e548be18521d1c43cde1c582c6de8   \n",
       "\n",
       "   shipping_limit_date   price  freight_value  \n",
       "0  2017-10-06 11:07:15   29.99           8.72  \n",
       "1  2018-07-30 03:24:27  118.70          22.76  \n",
       "2  2018-08-13 08:55:23  159.90          19.22  \n",
       "3  2017-11-23 19:45:59   45.00          27.20  \n",
       "4  2018-02-19 20:31:37   19.90           8.72  "
      ]
     },
     "execution_count": 43,
     "metadata": {},
     "output_type": "execute_result"
    }
   ],
   "source": [
    "# Объединим таблицы с заказами и пользователями по id пользователя и с товарами по id товара.\n",
    "olist_orders_rfm = olist_orders.merge(olist_customers, on='customer_id', how='left')\n",
    "orders_rfm = olist_orders_rfm.merge(olist_order_items, how='left', on='order_id')\n",
    "orders_rfm.head()"
   ]
  },
  {
   "cell_type": "code",
   "execution_count": 44,
   "id": "iKycSgoIfSJc",
   "metadata": {
    "id": "iKycSgoIfSJc"
   },
   "outputs": [],
   "source": [
    "# Выберем только доставленные.\n",
    "orders_rfm = orders_rfm[orders_rfm.order_status == 'delivered']"
   ]
  },
  {
   "cell_type": "code",
   "execution_count": 45,
   "id": "2646defe",
   "metadata": {
    "colab": {
     "base_uri": "https://localhost:8080/",
     "height": 206
    },
    "id": "imf96IXefSJc",
    "outputId": "e6e3af19-ce7e-4321-bcba-3b1a8c5c298d"
   },
   "outputs": [
    {
     "data": {
      "text/html": [
       "<div>\n",
       "<style scoped>\n",
       "    .dataframe tbody tr th:only-of-type {\n",
       "        vertical-align: middle;\n",
       "    }\n",
       "\n",
       "    .dataframe tbody tr th {\n",
       "        vertical-align: top;\n",
       "    }\n",
       "\n",
       "    .dataframe thead th {\n",
       "        text-align: right;\n",
       "    }\n",
       "</style>\n",
       "<table border=\"1\" class=\"dataframe\">\n",
       "  <thead>\n",
       "    <tr style=\"text-align: right;\">\n",
       "      <th></th>\n",
       "      <th>customer_unique_id</th>\n",
       "      <th>order_id</th>\n",
       "      <th>order_purchase_timestamp</th>\n",
       "      <th>price</th>\n",
       "    </tr>\n",
       "  </thead>\n",
       "  <tbody>\n",
       "    <tr>\n",
       "      <th>0</th>\n",
       "      <td>7c396fd4830fd04220f754e42b4e5bff</td>\n",
       "      <td>e481f51cbdc54678b7cc49136f2d6af7</td>\n",
       "      <td>2017-10-02 10:56:33</td>\n",
       "      <td>29.99</td>\n",
       "    </tr>\n",
       "    <tr>\n",
       "      <th>1</th>\n",
       "      <td>af07308b275d755c9edb36a90c618231</td>\n",
       "      <td>53cdb2fc8bc7dce0b6741e2150273451</td>\n",
       "      <td>2018-07-24 20:41:37</td>\n",
       "      <td>118.70</td>\n",
       "    </tr>\n",
       "    <tr>\n",
       "      <th>2</th>\n",
       "      <td>3a653a41f6f9fc3d2a113cf8398680e8</td>\n",
       "      <td>47770eb9100c2d0c44946d9cf07ec65d</td>\n",
       "      <td>2018-08-08 08:38:49</td>\n",
       "      <td>159.90</td>\n",
       "    </tr>\n",
       "    <tr>\n",
       "      <th>3</th>\n",
       "      <td>7c142cf63193a1473d2e66489a9ae977</td>\n",
       "      <td>949d5b44dbf5de918fe9c16f97b45f8a</td>\n",
       "      <td>2017-11-18 19:28:06</td>\n",
       "      <td>45.00</td>\n",
       "    </tr>\n",
       "    <tr>\n",
       "      <th>4</th>\n",
       "      <td>72632f0f9dd73dfee390c9b22eb56dd6</td>\n",
       "      <td>ad21c59c0840e6cb83a9ceb5573f8159</td>\n",
       "      <td>2018-02-13 21:18:39</td>\n",
       "      <td>19.90</td>\n",
       "    </tr>\n",
       "  </tbody>\n",
       "</table>\n",
       "</div>"
      ],
      "text/plain": [
       "                 customer_unique_id                          order_id  \\\n",
       "0  7c396fd4830fd04220f754e42b4e5bff  e481f51cbdc54678b7cc49136f2d6af7   \n",
       "1  af07308b275d755c9edb36a90c618231  53cdb2fc8bc7dce0b6741e2150273451   \n",
       "2  3a653a41f6f9fc3d2a113cf8398680e8  47770eb9100c2d0c44946d9cf07ec65d   \n",
       "3  7c142cf63193a1473d2e66489a9ae977  949d5b44dbf5de918fe9c16f97b45f8a   \n",
       "4  72632f0f9dd73dfee390c9b22eb56dd6  ad21c59c0840e6cb83a9ceb5573f8159   \n",
       "\n",
       "  order_purchase_timestamp   price  \n",
       "0      2017-10-02 10:56:33   29.99  \n",
       "1      2018-07-24 20:41:37  118.70  \n",
       "2      2018-08-08 08:38:49  159.90  \n",
       "3      2017-11-18 19:28:06   45.00  \n",
       "4      2018-02-13 21:18:39   19.90  "
      ]
     },
     "execution_count": 45,
     "metadata": {},
     "output_type": "execute_result"
    }
   ],
   "source": [
    "# Выберем поля с id, время покупки и цену.\n",
    "orders_rfm = orders_rfm[['customer_unique_id','order_id','order_purchase_timestamp','price']]\n",
    "orders_rfm.head()"
   ]
  },
  {
   "cell_type": "code",
   "execution_count": 46,
   "id": "89243a16",
   "metadata": {},
   "outputs": [
    {
     "data": {
      "text/html": [
       "<div>\n",
       "<style scoped>\n",
       "    .dataframe tbody tr th:only-of-type {\n",
       "        vertical-align: middle;\n",
       "    }\n",
       "\n",
       "    .dataframe tbody tr th {\n",
       "        vertical-align: top;\n",
       "    }\n",
       "\n",
       "    .dataframe thead th {\n",
       "        text-align: right;\n",
       "    }\n",
       "</style>\n",
       "<table border=\"1\" class=\"dataframe\">\n",
       "  <thead>\n",
       "    <tr style=\"text-align: right;\">\n",
       "      <th></th>\n",
       "      <th>frequency</th>\n",
       "    </tr>\n",
       "    <tr>\n",
       "      <th>customer_unique_id</th>\n",
       "      <th></th>\n",
       "    </tr>\n",
       "  </thead>\n",
       "  <tbody>\n",
       "    <tr>\n",
       "      <th>c8460e4251689ba205045f3ea17884a1</th>\n",
       "      <td>24</td>\n",
       "    </tr>\n",
       "    <tr>\n",
       "      <th>4546caea018ad8c692964e3382debd19</th>\n",
       "      <td>21</td>\n",
       "    </tr>\n",
       "    <tr>\n",
       "      <th>c402f431464c72e27330a67f7b94d4fb</th>\n",
       "      <td>20</td>\n",
       "    </tr>\n",
       "    <tr>\n",
       "      <th>698e1cf81d01a3d389d96145f7fa6df8</th>\n",
       "      <td>20</td>\n",
       "    </tr>\n",
       "    <tr>\n",
       "      <th>0f5ac8d5c31de21d2f25e24be15bbffb</th>\n",
       "      <td>18</td>\n",
       "    </tr>\n",
       "  </tbody>\n",
       "</table>\n",
       "</div>"
      ],
      "text/plain": [
       "                                  frequency\n",
       "customer_unique_id                         \n",
       "c8460e4251689ba205045f3ea17884a1         24\n",
       "4546caea018ad8c692964e3382debd19         21\n",
       "c402f431464c72e27330a67f7b94d4fb         20\n",
       "698e1cf81d01a3d389d96145f7fa6df8         20\n",
       "0f5ac8d5c31de21d2f25e24be15bbffb         18"
      ]
     },
     "execution_count": 46,
     "metadata": {},
     "output_type": "execute_result"
    }
   ],
   "source": [
    "# Посчитаем частоту заказов. \n",
    "frequency = orders_rfm['customer_unique_id'].value_counts().rename_axis('customer_unique_id').to_frame('frequency')\n",
    "frequency.head()"
   ]
  },
  {
   "cell_type": "code",
   "execution_count": 47,
   "id": "f58e6417",
   "metadata": {},
   "outputs": [
    {
     "data": {
      "text/html": [
       "<div>\n",
       "<style scoped>\n",
       "    .dataframe tbody tr th:only-of-type {\n",
       "        vertical-align: middle;\n",
       "    }\n",
       "\n",
       "    .dataframe tbody tr th {\n",
       "        vertical-align: top;\n",
       "    }\n",
       "\n",
       "    .dataframe thead th {\n",
       "        text-align: right;\n",
       "    }\n",
       "</style>\n",
       "<table border=\"1\" class=\"dataframe\">\n",
       "  <thead>\n",
       "    <tr style=\"text-align: right;\">\n",
       "      <th></th>\n",
       "      <th>frequency</th>\n",
       "    </tr>\n",
       "  </thead>\n",
       "  <tbody>\n",
       "    <tr>\n",
       "      <th>count</th>\n",
       "      <td>93358.000000</td>\n",
       "    </tr>\n",
       "    <tr>\n",
       "      <th>mean</th>\n",
       "      <td>1.180370</td>\n",
       "    </tr>\n",
       "    <tr>\n",
       "      <th>std</th>\n",
       "      <td>0.620857</td>\n",
       "    </tr>\n",
       "    <tr>\n",
       "      <th>min</th>\n",
       "      <td>1.000000</td>\n",
       "    </tr>\n",
       "    <tr>\n",
       "      <th>10%</th>\n",
       "      <td>1.000000</td>\n",
       "    </tr>\n",
       "    <tr>\n",
       "      <th>20%</th>\n",
       "      <td>1.000000</td>\n",
       "    </tr>\n",
       "    <tr>\n",
       "      <th>40%</th>\n",
       "      <td>1.000000</td>\n",
       "    </tr>\n",
       "    <tr>\n",
       "      <th>50%</th>\n",
       "      <td>1.000000</td>\n",
       "    </tr>\n",
       "    <tr>\n",
       "      <th>60%</th>\n",
       "      <td>1.000000</td>\n",
       "    </tr>\n",
       "    <tr>\n",
       "      <th>70%</th>\n",
       "      <td>1.000000</td>\n",
       "    </tr>\n",
       "    <tr>\n",
       "      <th>80%</th>\n",
       "      <td>1.000000</td>\n",
       "    </tr>\n",
       "    <tr>\n",
       "      <th>90%</th>\n",
       "      <td>2.000000</td>\n",
       "    </tr>\n",
       "    <tr>\n",
       "      <th>99%</th>\n",
       "      <td>4.000000</td>\n",
       "    </tr>\n",
       "    <tr>\n",
       "      <th>max</th>\n",
       "      <td>24.000000</td>\n",
       "    </tr>\n",
       "  </tbody>\n",
       "</table>\n",
       "</div>"
      ],
      "text/plain": [
       "          frequency\n",
       "count  93358.000000\n",
       "mean       1.180370\n",
       "std        0.620857\n",
       "min        1.000000\n",
       "10%        1.000000\n",
       "20%        1.000000\n",
       "40%        1.000000\n",
       "50%        1.000000\n",
       "60%        1.000000\n",
       "70%        1.000000\n",
       "80%        1.000000\n",
       "90%        2.000000\n",
       "99%        4.000000\n",
       "max       24.000000"
      ]
     },
     "execution_count": 47,
     "metadata": {},
     "output_type": "execute_result"
    }
   ],
   "source": [
    "# Изучим частоту для дальнейшего составления рейтинга\n",
    "frequency.describe(percentiles = [.10, .20, .40, .50, .60, .70, .80, .90, .99])"
   ]
  },
  {
   "cell_type": "markdown",
   "id": "c0729883",
   "metadata": {},
   "source": [
    "До квантиля 0.8 не более одной покупки. Посмотрим уникальные значения и поделим на ранги исходя их них."
   ]
  },
  {
   "cell_type": "code",
   "execution_count": 48,
   "id": "b7c48adf",
   "metadata": {},
   "outputs": [
    {
     "data": {
      "text/plain": [
       "1     81748\n",
       "2      8797\n",
       "3      1646\n",
       "4       621\n",
       "5       241\n",
       "6       190\n",
       "7        45\n",
       "8        16\n",
       "10       11\n",
       "11       11\n",
       "9        10\n",
       "12        9\n",
       "14        3\n",
       "15        3\n",
       "13        2\n",
       "20        2\n",
       "21        1\n",
       "18        1\n",
       "24        1\n",
       "Name: frequency, dtype: int64"
      ]
     },
     "execution_count": 48,
     "metadata": {},
     "output_type": "execute_result"
    }
   ],
   "source": [
    "frequency.frequency.value_counts()"
   ]
  },
  {
   "cell_type": "markdown",
   "id": "6e9f09d6",
   "metadata": {},
   "source": [
    "Будем делить по количеству:\n",
    "1. -- 1 покупка\n",
    "2. -- 2\n",
    "3. -- 3 -6\n",
    "4. \\> 6"
   ]
  },
  {
   "cell_type": "code",
   "execution_count": 49,
   "id": "8d6ef2a5",
   "metadata": {},
   "outputs": [],
   "source": [
    "# Посчитаем monetary на каждого пользователя.\n",
    "orders_monetary = orders_rfm.groupby(['customer_unique_id', 'price'], as_index=False)\\\n",
    "                                .agg({'price': 'sum'})\\\n",
    "                                .rename(columns={'price': 'monetary'})"
   ]
  },
  {
   "cell_type": "code",
   "execution_count": 50,
   "id": "2150689b",
   "metadata": {},
   "outputs": [
    {
     "data": {
      "text/plain": [
       "0   2018-05-10 10:56:27\n",
       "1   2018-05-07 11:11:27\n",
       "2   2017-03-10 21:05:03\n",
       "3   2017-10-12 20:29:41\n",
       "4   2017-11-14 19:45:42\n",
       "Name: last_order, dtype: datetime64[ns]"
      ]
     },
     "execution_count": 50,
     "metadata": {},
     "output_type": "execute_result"
    }
   ],
   "source": [
    "# Найдем дату последней покупки по пользователям.\n",
    "last_order = orders_rfm.sort_values('order_purchase_timestamp')\\\n",
    "                          .groupby('customer_unique_id', as_index=False).last().rename(columns={'order_purchase_timestamp': 'last_order'})\n",
    "                          \n",
    "last_order.last_order.head()"
   ]
  },
  {
   "cell_type": "code",
   "execution_count": 51,
   "id": "93375848",
   "metadata": {},
   "outputs": [],
   "source": [
    "# Соединим даты последних покупок с monetary по пользователям\n",
    "orders_rm = last_order.merge(orders_monetary, on='customer_unique_id').sort_values('last_order', ascending=False)"
   ]
  },
  {
   "cell_type": "code",
   "execution_count": 52,
   "id": "351d5526",
   "metadata": {
    "scrolled": true
   },
   "outputs": [
    {
     "data": {
      "text/plain": [
       "count    98576.000000\n",
       "mean       134.124920\n",
       "std        206.338489\n",
       "min          0.850000\n",
       "10%         24.990000\n",
       "20%         38.900000\n",
       "40%         65.000000\n",
       "50%         84.890000\n",
       "60%        102.620000\n",
       "70%        129.900000\n",
       "80%        169.900000\n",
       "90%        259.900000\n",
       "99%        981.175000\n",
       "max      13440.000000\n",
       "Name: monetary, dtype: float64"
      ]
     },
     "execution_count": 52,
     "metadata": {},
     "output_type": "execute_result"
    }
   ],
   "source": [
    "# Смотрим распроеделения.\n",
    "orders_rm.monetary.describe(percentiles = [.10, .20, .40, .50, .60, .70, .80, .90, .99])"
   ]
  },
  {
   "cell_type": "markdown",
   "id": "1b74fb14",
   "metadata": {},
   "source": [
    "Данные из прошлого, за текущую дату возьмём дату последней покупки + 1 день прозапас ))."
   ]
  },
  {
   "cell_type": "code",
   "execution_count": 53,
   "id": "3fba17a7",
   "metadata": {},
   "outputs": [
    {
     "data": {
      "text/plain": [
       "Timestamp('2018-08-30 15:00:37')"
      ]
     },
     "execution_count": 53,
     "metadata": {},
     "output_type": "execute_result"
    }
   ],
   "source": [
    "# Последняя покупка + день.\n",
    "last_purchase_date = orders_rm['last_order'].max() + pd.DateOffset(days=1)\n",
    "last_purchase_date"
   ]
  },
  {
   "cell_type": "code",
   "execution_count": 54,
   "id": "9517a2f7",
   "metadata": {},
   "outputs": [],
   "source": [
    "# Посчитаем recency - сколько дней прошло с последней покупки у каждого пользователя.\n",
    "orders_rm['recency'] = orders_rm['last_order'].apply(lambda x: (last_purchase_date - x).days)"
   ]
  },
  {
   "cell_type": "code",
   "execution_count": 55,
   "id": "59db7f27",
   "metadata": {},
   "outputs": [
    {
     "data": {
      "text/plain": [
       "count    98576.000000\n",
       "mean       237.009942\n",
       "std        152.322498\n",
       "min          1.000000\n",
       "10%         42.000000\n",
       "20%         91.000000\n",
       "30%        134.000000\n",
       "40%        176.000000\n",
       "50%        218.000000\n",
       "60%        267.000000\n",
       "70%        311.000000\n",
       "80%        380.000000\n",
       "90%        464.000000\n",
       "99%        575.000000\n",
       "max        714.000000\n",
       "Name: recency, dtype: float64"
      ]
     },
     "execution_count": 55,
     "metadata": {},
     "output_type": "execute_result"
    }
   ],
   "source": [
    "# Смотрим распроеделения.\n",
    "orders_rm.recency.describe(percentiles = [.10, .30, .20, .40, .50, .60, .70, .80, .90, .99])"
   ]
  },
  {
   "cell_type": "code",
   "execution_count": 56,
   "id": "2070d32d",
   "metadata": {},
   "outputs": [],
   "source": [
    "# Снова соберём всё в одну таблицу.\n",
    "orders_rfm = orders_rm.merge(frequency, on=['customer_unique_id'])"
   ]
  },
  {
   "cell_type": "markdown",
   "id": "a84e4082",
   "metadata": {},
   "source": [
    "**Начнем сегментацию**"
   ]
  },
  {
   "cell_type": "code",
   "execution_count": 57,
   "id": "c96378b6",
   "metadata": {
    "scrolled": true
   },
   "outputs": [],
   "source": [
    "# Функция для recency и monetary.\n",
    "def rank_quantiles(row, column, q_array):\n",
    "    '''Returns the ranking of data points based on quantiles.'''\n",
    "    if row <= q_array[0]:\n",
    "        return 1\n",
    "    elif row <= q_array[1]:\n",
    "        return 2\n",
    "    elif row <= q_array[2]:\n",
    "        return 3\n",
    "    else:\n",
    "        return 4\n",
    "\n",
    "# Расставим пороги.\n",
    "quantiles_recency = orders_rfm['recency'].quantile([.25, .5, .75]).values\n",
    "quantiles_monetary = orders_rfm['monetary'].quantile([.25, .5, .75]).values\n",
    "\n",
    "# Расставим ранги.    \n",
    "orders_rfm['rang_recency'] = orders_rfm['recency'].apply(lambda x: (5 - rank_quantiles(x, 'recency', quantiles_recency)))\n",
    "orders_rfm['rang_monetary'] = orders_rfm['monetary'].apply(lambda x: rank_quantiles(x, 'monetary', quantiles_monetary))"
   ]
  },
  {
   "cell_type": "code",
   "execution_count": 58,
   "id": "b5726a17",
   "metadata": {},
   "outputs": [
    {
     "data": {
      "text/html": [
       "<div>\n",
       "<style scoped>\n",
       "    .dataframe tbody tr th:only-of-type {\n",
       "        vertical-align: middle;\n",
       "    }\n",
       "\n",
       "    .dataframe tbody tr th {\n",
       "        vertical-align: top;\n",
       "    }\n",
       "\n",
       "    .dataframe thead th {\n",
       "        text-align: right;\n",
       "    }\n",
       "</style>\n",
       "<table border=\"1\" class=\"dataframe\">\n",
       "  <thead>\n",
       "    <tr style=\"text-align: right;\">\n",
       "      <th></th>\n",
       "      <th>customer_unique_id</th>\n",
       "      <th>order_id</th>\n",
       "      <th>last_order</th>\n",
       "      <th>price</th>\n",
       "      <th>monetary</th>\n",
       "      <th>recency</th>\n",
       "      <th>frequency</th>\n",
       "      <th>rang_recency</th>\n",
       "      <th>rang_monetary</th>\n",
       "      <th>rang_frequency</th>\n",
       "    </tr>\n",
       "  </thead>\n",
       "  <tbody>\n",
       "    <tr>\n",
       "      <th>0</th>\n",
       "      <td>24ac2b4327e25baf39f2119e4228976a</td>\n",
       "      <td>35a972d7f8436f405b56e36add1a7140</td>\n",
       "      <td>2018-08-29 15:00:37</td>\n",
       "      <td>84.99</td>\n",
       "      <td>84.99</td>\n",
       "      <td>1</td>\n",
       "      <td>1</td>\n",
       "      <td>4</td>\n",
       "      <td>3</td>\n",
       "      <td>1</td>\n",
       "    </tr>\n",
       "    <tr>\n",
       "      <th>1</th>\n",
       "      <td>b701bebbdf478f5500348f03aff62121</td>\n",
       "      <td>03ef5dedbe7492bdae72eec50764c43f</td>\n",
       "      <td>2018-08-29 14:52:00</td>\n",
       "      <td>24.90</td>\n",
       "      <td>24.90</td>\n",
       "      <td>1</td>\n",
       "      <td>1</td>\n",
       "      <td>4</td>\n",
       "      <td>1</td>\n",
       "      <td>1</td>\n",
       "    </tr>\n",
       "    <tr>\n",
       "      <th>2</th>\n",
       "      <td>7febafa06d9d8f232a900a2937f04338</td>\n",
       "      <td>168626408cb32af0ffaf76711caae1dc</td>\n",
       "      <td>2018-08-29 14:18:28</td>\n",
       "      <td>45.90</td>\n",
       "      <td>45.90</td>\n",
       "      <td>1</td>\n",
       "      <td>1</td>\n",
       "      <td>4</td>\n",
       "      <td>2</td>\n",
       "      <td>1</td>\n",
       "    </tr>\n",
       "    <tr>\n",
       "      <th>3</th>\n",
       "      <td>5c58de6fb80e93396e2f35642666b693</td>\n",
       "      <td>0b223d92c27432930dfe407c6aea3041</td>\n",
       "      <td>2018-08-29 14:18:23</td>\n",
       "      <td>209.00</td>\n",
       "      <td>418.00</td>\n",
       "      <td>1</td>\n",
       "      <td>2</td>\n",
       "      <td>4</td>\n",
       "      <td>4</td>\n",
       "      <td>2</td>\n",
       "    </tr>\n",
       "    <tr>\n",
       "      <th>4</th>\n",
       "      <td>7a22d14aa3c3599238509ddca4b93b01</td>\n",
       "      <td>52018484704db3661b98ce838612b507</td>\n",
       "      <td>2018-08-29 12:25:59</td>\n",
       "      <td>63.90</td>\n",
       "      <td>63.90</td>\n",
       "      <td>1</td>\n",
       "      <td>1</td>\n",
       "      <td>4</td>\n",
       "      <td>2</td>\n",
       "      <td>1</td>\n",
       "    </tr>\n",
       "  </tbody>\n",
       "</table>\n",
       "</div>"
      ],
      "text/plain": [
       "                 customer_unique_id                          order_id  \\\n",
       "0  24ac2b4327e25baf39f2119e4228976a  35a972d7f8436f405b56e36add1a7140   \n",
       "1  b701bebbdf478f5500348f03aff62121  03ef5dedbe7492bdae72eec50764c43f   \n",
       "2  7febafa06d9d8f232a900a2937f04338  168626408cb32af0ffaf76711caae1dc   \n",
       "3  5c58de6fb80e93396e2f35642666b693  0b223d92c27432930dfe407c6aea3041   \n",
       "4  7a22d14aa3c3599238509ddca4b93b01  52018484704db3661b98ce838612b507   \n",
       "\n",
       "           last_order   price  monetary  recency  frequency  rang_recency  \\\n",
       "0 2018-08-29 15:00:37   84.99     84.99        1          1             4   \n",
       "1 2018-08-29 14:52:00   24.90     24.90        1          1             4   \n",
       "2 2018-08-29 14:18:28   45.90     45.90        1          1             4   \n",
       "3 2018-08-29 14:18:23  209.00    418.00        1          2             4   \n",
       "4 2018-08-29 12:25:59   63.90     63.90        1          1             4   \n",
       "\n",
       "   rang_monetary  rang_frequency  \n",
       "0              3               1  \n",
       "1              1               1  \n",
       "2              2               1  \n",
       "3              4               2  \n",
       "4              2               1  "
      ]
     },
     "execution_count": 58,
     "metadata": {},
     "output_type": "execute_result"
    }
   ],
   "source": [
    "# Функция для frequency.\n",
    "def rank_frequency(row):\n",
    "    if row == 1:\n",
    "        return 1\n",
    "    elif row == 2:\n",
    "        return 2\n",
    "    elif 6 >= row > 3:\n",
    "        return 3\n",
    "    else:\n",
    "        return 4\n",
    "    \n",
    "# Расставим ранги.  \n",
    "orders_rfm['rang_frequency'] = orders_rfm['frequency'].apply(lambda x: rank_frequency(x))\n",
    "\n",
    "orders_rfm.head()"
   ]
  },
  {
   "cell_type": "code",
   "execution_count": 59,
   "id": "f8d858c2",
   "metadata": {},
   "outputs": [
    {
     "data": {
      "text/html": [
       "<div>\n",
       "<style scoped>\n",
       "    .dataframe tbody tr th:only-of-type {\n",
       "        vertical-align: middle;\n",
       "    }\n",
       "\n",
       "    .dataframe tbody tr th {\n",
       "        vertical-align: top;\n",
       "    }\n",
       "\n",
       "    .dataframe thead th {\n",
       "        text-align: right;\n",
       "    }\n",
       "</style>\n",
       "<table border=\"1\" class=\"dataframe\">\n",
       "  <thead>\n",
       "    <tr style=\"text-align: right;\">\n",
       "      <th></th>\n",
       "      <th>rang_recency</th>\n",
       "      <th>rang_frequency</th>\n",
       "      <th>rang_monetary</th>\n",
       "    </tr>\n",
       "  </thead>\n",
       "  <tbody>\n",
       "    <tr>\n",
       "      <th>1</th>\n",
       "      <td>24560</td>\n",
       "      <td>81748</td>\n",
       "      <td>24833</td>\n",
       "    </tr>\n",
       "    <tr>\n",
       "      <th>2</th>\n",
       "      <td>24634</td>\n",
       "      <td>12125</td>\n",
       "      <td>24484</td>\n",
       "    </tr>\n",
       "    <tr>\n",
       "      <th>3</th>\n",
       "      <td>24494</td>\n",
       "      <td>1743</td>\n",
       "      <td>24783</td>\n",
       "    </tr>\n",
       "    <tr>\n",
       "      <th>4</th>\n",
       "      <td>24888</td>\n",
       "      <td>2960</td>\n",
       "      <td>24476</td>\n",
       "    </tr>\n",
       "  </tbody>\n",
       "</table>\n",
       "</div>"
      ],
      "text/plain": [
       "   rang_recency  rang_frequency  rang_monetary\n",
       "1         24560           81748          24833\n",
       "2         24634           12125          24484\n",
       "3         24494            1743          24783\n",
       "4         24888            2960          24476"
      ]
     },
     "execution_count": 59,
     "metadata": {},
     "output_type": "execute_result"
    }
   ],
   "source": [
    "# Посмотрим на распределение рангов по признакам.\n",
    "value_counts = orders_rfm.rang_recency.value_counts().to_frame()\n",
    "value_counts['rang_frequency'] =  orders_rfm.rang_frequency.value_counts()\n",
    "value_counts['rang_monetary'] = orders_rfm.rang_monetary.value_counts()\n",
    "value_counts.sort_index()"
   ]
  },
  {
   "cell_type": "code",
   "execution_count": 60,
   "id": "424768e1",
   "metadata": {},
   "outputs": [
    {
     "data": {
      "text/html": [
       "<div>\n",
       "<style scoped>\n",
       "    .dataframe tbody tr th:only-of-type {\n",
       "        vertical-align: middle;\n",
       "    }\n",
       "\n",
       "    .dataframe tbody tr th {\n",
       "        vertical-align: top;\n",
       "    }\n",
       "\n",
       "    .dataframe thead th {\n",
       "        text-align: right;\n",
       "    }\n",
       "</style>\n",
       "<table border=\"1\" class=\"dataframe\">\n",
       "  <thead>\n",
       "    <tr style=\"text-align: right;\">\n",
       "      <th></th>\n",
       "      <th>customer_unique_id</th>\n",
       "      <th>order_id</th>\n",
       "      <th>last_order</th>\n",
       "      <th>price</th>\n",
       "      <th>monetary</th>\n",
       "      <th>recency</th>\n",
       "      <th>frequency</th>\n",
       "      <th>rang_recency</th>\n",
       "      <th>rang_monetary</th>\n",
       "      <th>rang_frequency</th>\n",
       "      <th>rfm</th>\n",
       "    </tr>\n",
       "  </thead>\n",
       "  <tbody>\n",
       "    <tr>\n",
       "      <th>0</th>\n",
       "      <td>24ac2b4327e25baf39f2119e4228976a</td>\n",
       "      <td>35a972d7f8436f405b56e36add1a7140</td>\n",
       "      <td>2018-08-29 15:00:37</td>\n",
       "      <td>84.99</td>\n",
       "      <td>84.99</td>\n",
       "      <td>1</td>\n",
       "      <td>1</td>\n",
       "      <td>4</td>\n",
       "      <td>3</td>\n",
       "      <td>1</td>\n",
       "      <td>413</td>\n",
       "    </tr>\n",
       "    <tr>\n",
       "      <th>1</th>\n",
       "      <td>b701bebbdf478f5500348f03aff62121</td>\n",
       "      <td>03ef5dedbe7492bdae72eec50764c43f</td>\n",
       "      <td>2018-08-29 14:52:00</td>\n",
       "      <td>24.90</td>\n",
       "      <td>24.90</td>\n",
       "      <td>1</td>\n",
       "      <td>1</td>\n",
       "      <td>4</td>\n",
       "      <td>1</td>\n",
       "      <td>1</td>\n",
       "      <td>411</td>\n",
       "    </tr>\n",
       "    <tr>\n",
       "      <th>2</th>\n",
       "      <td>7febafa06d9d8f232a900a2937f04338</td>\n",
       "      <td>168626408cb32af0ffaf76711caae1dc</td>\n",
       "      <td>2018-08-29 14:18:28</td>\n",
       "      <td>45.90</td>\n",
       "      <td>45.90</td>\n",
       "      <td>1</td>\n",
       "      <td>1</td>\n",
       "      <td>4</td>\n",
       "      <td>2</td>\n",
       "      <td>1</td>\n",
       "      <td>412</td>\n",
       "    </tr>\n",
       "    <tr>\n",
       "      <th>3</th>\n",
       "      <td>5c58de6fb80e93396e2f35642666b693</td>\n",
       "      <td>0b223d92c27432930dfe407c6aea3041</td>\n",
       "      <td>2018-08-29 14:18:23</td>\n",
       "      <td>209.00</td>\n",
       "      <td>418.00</td>\n",
       "      <td>1</td>\n",
       "      <td>2</td>\n",
       "      <td>4</td>\n",
       "      <td>4</td>\n",
       "      <td>2</td>\n",
       "      <td>424</td>\n",
       "    </tr>\n",
       "    <tr>\n",
       "      <th>4</th>\n",
       "      <td>7a22d14aa3c3599238509ddca4b93b01</td>\n",
       "      <td>52018484704db3661b98ce838612b507</td>\n",
       "      <td>2018-08-29 12:25:59</td>\n",
       "      <td>63.90</td>\n",
       "      <td>63.90</td>\n",
       "      <td>1</td>\n",
       "      <td>1</td>\n",
       "      <td>4</td>\n",
       "      <td>2</td>\n",
       "      <td>1</td>\n",
       "      <td>412</td>\n",
       "    </tr>\n",
       "  </tbody>\n",
       "</table>\n",
       "</div>"
      ],
      "text/plain": [
       "                 customer_unique_id                          order_id  \\\n",
       "0  24ac2b4327e25baf39f2119e4228976a  35a972d7f8436f405b56e36add1a7140   \n",
       "1  b701bebbdf478f5500348f03aff62121  03ef5dedbe7492bdae72eec50764c43f   \n",
       "2  7febafa06d9d8f232a900a2937f04338  168626408cb32af0ffaf76711caae1dc   \n",
       "3  5c58de6fb80e93396e2f35642666b693  0b223d92c27432930dfe407c6aea3041   \n",
       "4  7a22d14aa3c3599238509ddca4b93b01  52018484704db3661b98ce838612b507   \n",
       "\n",
       "           last_order   price  monetary  recency  frequency  rang_recency  \\\n",
       "0 2018-08-29 15:00:37   84.99     84.99        1          1             4   \n",
       "1 2018-08-29 14:52:00   24.90     24.90        1          1             4   \n",
       "2 2018-08-29 14:18:28   45.90     45.90        1          1             4   \n",
       "3 2018-08-29 14:18:23  209.00    418.00        1          2             4   \n",
       "4 2018-08-29 12:25:59   63.90     63.90        1          1             4   \n",
       "\n",
       "   rang_monetary  rang_frequency  rfm  \n",
       "0              3               1  413  \n",
       "1              1               1  411  \n",
       "2              2               1  412  \n",
       "3              4               2  424  \n",
       "4              2               1  412  "
      ]
     },
     "execution_count": 60,
     "metadata": {},
     "output_type": "execute_result"
    }
   ],
   "source": [
    "# Добавим поле с комбинацией рангов.\n",
    "\n",
    "orders_rfm['rfm'] = orders_rfm['rang_recency'].map(str)\\\n",
    "                  + orders_rfm['rang_frequency'].map(str)\\\n",
    "                  + orders_rfm['rang_monetary'].map(str)\n",
    "orders_rfm.head()"
   ]
  },
  {
   "cell_type": "code",
   "execution_count": 61,
   "id": "bbc3d9ca",
   "metadata": {},
   "outputs": [
    {
     "data": {
      "text/plain": [
       "64"
      ]
     },
     "execution_count": 61,
     "metadata": {},
     "output_type": "execute_result"
    }
   ],
   "source": [
    "# Посмотрим сколько комбинаций - сегментов.\n",
    "orders_rfm['rfm'].nunique()"
   ]
  },
  {
   "cell_type": "code",
   "execution_count": 62,
   "id": "ec82965a",
   "metadata": {},
   "outputs": [
    {
     "data": {
      "text/plain": [
       "array(['413', '411', '412', '424', '414', '434', '422', '421', '432',\n",
       "       '431', '423', '443', '442', '441', '444', '433', '314', '311',\n",
       "       '312', '313', '334', '321', '322', '324', '343', '344', '323',\n",
       "       '333', '342', '341', '331', '332', '212', '213', '211', '243',\n",
       "       '242', '214', '223', '222', '224', '221', '241', '233', '234',\n",
       "       '244', '232', '231', '112', '114', '111', '113', '121', '123',\n",
       "       '124', '143', '142', '122', '133', '134', '141', '144', '131',\n",
       "       '132'], dtype=object)"
      ]
     },
     "execution_count": 62,
     "metadata": {},
     "output_type": "execute_result"
    }
   ],
   "source": [
    "orders_rfm['rfm'].unique()"
   ]
  },
  {
   "cell_type": "code",
   "execution_count": 63,
   "id": "6c7168ea",
   "metadata": {},
   "outputs": [
    {
     "data": {
      "text/plain": [
       "(array([345., 218., 114.]), array([ 45.  ,  84.89, 149.  ]))"
      ]
     },
     "execution_count": 63,
     "metadata": {},
     "output_type": "execute_result"
    }
   ],
   "source": [
    "# Выведем границы recency и monetary.\n",
    "quantiles_recency[::-1], quantiles_monetary"
   ]
  },
  {
   "cell_type": "markdown",
   "id": "d8bcef08",
   "metadata": {},
   "source": [
    "#### Ответ:\n",
    "Начнём с конца и посмотрим на пользователей по их Тратам.\n",
    "1. VIPы\n",
    "    1. 444 - Большой чек, покупает часто, не забывает.\n",
    "    2. 344 - Большой чек, частые заказы, но уже 114 дней не было заказа.\n",
    "    3. 434 - Лояльный пользователь, от 3 до 6 заказов, покупка в течении 114 дней.\n",
    "    4. 414, 424, 314 - Новый пользователь с большим чеком.\n",
    "    5. 334, 234, 244 - Пользователи с большим чеком, несколькими покупками, но уже не активные (спящие)\n",
    "2. Средние\n",
    "    1. 412, 413, 411 - Новые пользователи, с одной недавней покупкой.\n",
    "    2. 422, 423 - Новые пользователи, с двумя покупками, одна в течении 114 дней.\n",
    "    3. 432, 433, 442, 443 - Новые пользователи, с 3-4 покупками, одна в течении 114 дней.\n",
    "    4. 312, 313, 212, 213 - Пользователи с тратами около 85, с одной покупкой, но уже довольно давно (> 114 дней).\n",
    "    5. 332, 333, 342, 343, 232, 233, 242, 243 - Здесь покупок 3 и выше, но уже довольно давно (> 114 дней).\n",
    "    6. 322, 324, 323 - Пользователи с двумя покупками, но уже довольно давно (> 114 дней).\n",
    "3. Ушедшие\n",
    "    1. 111, 112, 113, 114 - Пользователи совершившие одну покупку давно.\n",
    "    2. 121, 122, 123, 124 - Пользователи совершившие две покупки давно.\n",
    "    3. 131, 132, 133, 134, 141, 142, 143, 144 - Ушедшие лояльные пользователи.\n",
    "4. Спящие\n",
    "    1. 311, 211 - Пользователи с одной покупкой до 45, но уже довольно давно (> 114 дней). \n",
    "    2. 321, 221 - Пользователи с двумя покупками до 45, но уже довольно давно (> 114 дней).\n",
    "    3. 331, 341, 231, 241 - Пользователи с 3 и выше, покупками до 45, но уже довольно давно (> 114 дней).\n",
    "    4. 214, 223, 222, 224 -Пользователи с одной- двумя покупками, но уже более 218 дней назад.\n",
    "5. Экономные\n",
    "    1. 421, 431, 441 Активные пользователи с несколькими покупками, но до 45."
   ]
  },
  {
   "cell_type": "code",
   "execution_count": 64,
   "id": "ed0f060c",
   "metadata": {},
   "outputs": [
    {
     "data": {
      "image/png": "[encoded data removed]",
      "text/plain": [
       "<Figure size 2000x700 with 1 Axes>"
      ]
     },
     "metadata": {},
     "output_type": "display_data"
    }
   ],
   "source": [
    "# Визуализация комбинаций.\n",
    "plot_data = orders_rfm.rfm.value_counts().rename_axis('rfm').reset_index(name='counts')\n",
    "s = sns.barplot(data=plot_data, x='rfm', y='counts')\n",
    "s.set(title='Количество пользователей по RFM')\n",
    "s.set_xticklabels(s.get_xticklabels(),rotation=30);"
   ]
  },
  {
   "cell_type": "code",
   "execution_count": 65,
   "id": "cd11bcdb",
   "metadata": {},
   "outputs": [],
   "source": [
    "# Соберём списки для сегментов. (Извиняюся за хардкод).\n",
    "vips = ['444', '344', '434', '414', '424', '314', '334', '234', '244']\n",
    "settle = ['412', '413', '411', '422', '423', '432', '433', '442', '443',\n",
    "          '312', '313', '212', '213', '332', '333', '342', '343', '232', '233', '242', '243', '322', '324', '323']\n",
    "gone = ['111', '112', '113', '114', '121', '122', '123', '124', '131', '132', '133', '134', '141', '142', '143', '144']\n",
    "sleep = ['311', '211', '321', '221', '331', '341', '231', '241', '214', '223', '222', '224']\n",
    "poor = ['421', '431', '441']"
   ]
  },
  {
   "cell_type": "code",
   "execution_count": 66,
   "id": "d902aea1",
   "metadata": {},
   "outputs": [],
   "source": [
    "def assign_seg(value):\n",
    "    if value in vips:\n",
    "        return 'vip'\n",
    "    elif value in settle:\n",
    "        return 'settle'\n",
    "    elif value in gone:\n",
    "        return 'gone'\n",
    "    elif value in sleep:\n",
    "        return 'sleep'\n",
    "    else:\n",
    "        return 'poor'"
   ]
  },
  {
   "cell_type": "code",
   "execution_count": 67,
   "id": "69a14781",
   "metadata": {},
   "outputs": [
    {
     "data": {
      "text/html": [
       "<div>\n",
       "<style scoped>\n",
       "    .dataframe tbody tr th:only-of-type {\n",
       "        vertical-align: middle;\n",
       "    }\n",
       "\n",
       "    .dataframe tbody tr th {\n",
       "        vertical-align: top;\n",
       "    }\n",
       "\n",
       "    .dataframe thead th {\n",
       "        text-align: right;\n",
       "    }\n",
       "</style>\n",
       "<table border=\"1\" class=\"dataframe\">\n",
       "  <thead>\n",
       "    <tr style=\"text-align: right;\">\n",
       "      <th></th>\n",
       "      <th>customer_unique_id</th>\n",
       "      <th>order_id</th>\n",
       "      <th>last_order</th>\n",
       "      <th>price</th>\n",
       "      <th>monetary</th>\n",
       "      <th>recency</th>\n",
       "      <th>frequency</th>\n",
       "      <th>rang_recency</th>\n",
       "      <th>rang_monetary</th>\n",
       "      <th>rang_frequency</th>\n",
       "      <th>rfm</th>\n",
       "      <th>seg</th>\n",
       "    </tr>\n",
       "  </thead>\n",
       "  <tbody>\n",
       "    <tr>\n",
       "      <th>0</th>\n",
       "      <td>24ac2b4327e25baf39f2119e4228976a</td>\n",
       "      <td>35a972d7f8436f405b56e36add1a7140</td>\n",
       "      <td>2018-08-29 15:00:37</td>\n",
       "      <td>84.99</td>\n",
       "      <td>84.99</td>\n",
       "      <td>1</td>\n",
       "      <td>1</td>\n",
       "      <td>4</td>\n",
       "      <td>3</td>\n",
       "      <td>1</td>\n",
       "      <td>413</td>\n",
       "      <td>settle</td>\n",
       "    </tr>\n",
       "    <tr>\n",
       "      <th>1</th>\n",
       "      <td>b701bebbdf478f5500348f03aff62121</td>\n",
       "      <td>03ef5dedbe7492bdae72eec50764c43f</td>\n",
       "      <td>2018-08-29 14:52:00</td>\n",
       "      <td>24.90</td>\n",
       "      <td>24.90</td>\n",
       "      <td>1</td>\n",
       "      <td>1</td>\n",
       "      <td>4</td>\n",
       "      <td>1</td>\n",
       "      <td>1</td>\n",
       "      <td>411</td>\n",
       "      <td>settle</td>\n",
       "    </tr>\n",
       "    <tr>\n",
       "      <th>2</th>\n",
       "      <td>7febafa06d9d8f232a900a2937f04338</td>\n",
       "      <td>168626408cb32af0ffaf76711caae1dc</td>\n",
       "      <td>2018-08-29 14:18:28</td>\n",
       "      <td>45.90</td>\n",
       "      <td>45.90</td>\n",
       "      <td>1</td>\n",
       "      <td>1</td>\n",
       "      <td>4</td>\n",
       "      <td>2</td>\n",
       "      <td>1</td>\n",
       "      <td>412</td>\n",
       "      <td>settle</td>\n",
       "    </tr>\n",
       "    <tr>\n",
       "      <th>3</th>\n",
       "      <td>5c58de6fb80e93396e2f35642666b693</td>\n",
       "      <td>0b223d92c27432930dfe407c6aea3041</td>\n",
       "      <td>2018-08-29 14:18:23</td>\n",
       "      <td>209.00</td>\n",
       "      <td>418.00</td>\n",
       "      <td>1</td>\n",
       "      <td>2</td>\n",
       "      <td>4</td>\n",
       "      <td>4</td>\n",
       "      <td>2</td>\n",
       "      <td>424</td>\n",
       "      <td>vip</td>\n",
       "    </tr>\n",
       "    <tr>\n",
       "      <th>4</th>\n",
       "      <td>7a22d14aa3c3599238509ddca4b93b01</td>\n",
       "      <td>52018484704db3661b98ce838612b507</td>\n",
       "      <td>2018-08-29 12:25:59</td>\n",
       "      <td>63.90</td>\n",
       "      <td>63.90</td>\n",
       "      <td>1</td>\n",
       "      <td>1</td>\n",
       "      <td>4</td>\n",
       "      <td>2</td>\n",
       "      <td>1</td>\n",
       "      <td>412</td>\n",
       "      <td>settle</td>\n",
       "    </tr>\n",
       "  </tbody>\n",
       "</table>\n",
       "</div>"
      ],
      "text/plain": [
       "                 customer_unique_id                          order_id  \\\n",
       "0  24ac2b4327e25baf39f2119e4228976a  35a972d7f8436f405b56e36add1a7140   \n",
       "1  b701bebbdf478f5500348f03aff62121  03ef5dedbe7492bdae72eec50764c43f   \n",
       "2  7febafa06d9d8f232a900a2937f04338  168626408cb32af0ffaf76711caae1dc   \n",
       "3  5c58de6fb80e93396e2f35642666b693  0b223d92c27432930dfe407c6aea3041   \n",
       "4  7a22d14aa3c3599238509ddca4b93b01  52018484704db3661b98ce838612b507   \n",
       "\n",
       "           last_order   price  monetary  recency  frequency  rang_recency  \\\n",
       "0 2018-08-29 15:00:37   84.99     84.99        1          1             4   \n",
       "1 2018-08-29 14:52:00   24.90     24.90        1          1             4   \n",
       "2 2018-08-29 14:18:28   45.90     45.90        1          1             4   \n",
       "3 2018-08-29 14:18:23  209.00    418.00        1          2             4   \n",
       "4 2018-08-29 12:25:59   63.90     63.90        1          1             4   \n",
       "\n",
       "   rang_monetary  rang_frequency  rfm     seg  \n",
       "0              3               1  413  settle  \n",
       "1              1               1  411  settle  \n",
       "2              2               1  412  settle  \n",
       "3              4               2  424     vip  \n",
       "4              2               1  412  settle  "
      ]
     },
     "execution_count": 67,
     "metadata": {},
     "output_type": "execute_result"
    }
   ],
   "source": [
    "orders_rfm['seg'] = orders_rfm['rfm'].apply(assign_seg)\n",
    "orders_rfm.head()"
   ]
  },
  {
   "cell_type": "code",
   "execution_count": 68,
   "id": "7661a9cd",
   "metadata": {},
   "outputs": [
    {
     "data": {
      "image/png": "[encoded data removed]",
      "text/plain": [
       "<Figure size 2000x700 with 1 Axes>"
      ]
     },
     "metadata": {},
     "output_type": "display_data"
    }
   ],
   "source": [
    "# Визуализация сегметов.\n",
    "plot_data = orders_rfm.seg.value_counts().rename_axis('seg').reset_index(name='counts')\n",
    "s = sns.barplot(data=plot_data, x='seg', y='counts')\n",
    "s.set(title='Количество пользователей по сегментам')\n",
    "s.set_xticklabels(s.get_xticklabels(),rotation=30);"
   ]
  },
  {
   "cell_type": "markdown",
   "id": "d1c100d1",
   "metadata": {},
   "source": [
    "Достаточно большре количество потеряных пользователей. Также много неактивных. Хоршо что лояльных почти половина."
   ]
  }
 ],
 "metadata": {
  "colab": {
   "collapsed_sections": [
    "8e6vUsp1fSI6"
   ],
   "provenance": []
  },
  "kernelspec": {
   "display_name": "Python 3 (ipykernel)",
   "language": "python",
   "name": "python3"
  },
  "language_info": {
   "codemirror_mode": {
    "name": "ipython",
    "version": 3
   },
   "file_extension": ".py",
   "mimetype": "text/x-python",
   "name": "python",
   "nbconvert_exporter": "python",
   "pygments_lexer": "ipython3",
   "version": "3.9.13"
  },
  "toc": {
   "base_numbering": 1,
   "nav_menu": {},
   "number_sections": true,
   "sideBar": true,
   "skip_h1_title": false,
   "title_cell": "Table of Contents",
   "title_sidebar": "Contents",
   "toc_cell": false,
   "toc_position": {
    "height": "calc(100% - 180px)",
    "left": "10px",
    "top": "150px",
    "width": "264.625px"
   },
   "toc_section_display": true,
   "toc_window_display": true
  }
 },
 "nbformat": 4,
 "nbformat_minor": 5
}
