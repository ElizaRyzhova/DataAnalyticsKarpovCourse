{
 "cells": [
  {
   "cell_type": "markdown",
   "id": "rujSf9LD2yWh",
   "metadata": {
    "id": "rujSf9LD2yWh"
   },
   "source": [
    "# Финальный проект\n",
    "Вариант 2"
   ]
  },
  {
   "cell_type": "markdown",
   "id": "7D8s80l-Iz4R",
   "metadata": {
    "id": "7D8s80l-Iz4R"
   },
   "source": [
    "## Задание 1. A/B–тестирование\n",
    "\n",
    "1.1 **Условие**\n",
    "\n",
    "Одной из основных задач аналитика в нашей команде является корректное проведение экспериментов. Для этого мы применяем метод A/B–тестирования. В ходе тестирования одной гипотезы целевой группе была предложена новая механика оплаты услуг на сайте, у контрольной группы оставалась базовая механика. В качестве задания Вам необходимо проанализировать итоги эксперимента и сделать вывод, стоит ли запускать новую механику оплаты на всех пользователей.\n",
    "\n",
    "1.2 **Входные данные**\n",
    "\n",
    "В качестве входных данных Вы имеете 4 csv-файла:\n",
    "\n",
    "groups.csv - файл с информацией о принадлежности пользователя к контрольной или экспериментальной группе (А – контроль, B – целевая группа)\n",
    "\n",
    "*groups_add.csv* - дополнительный файл с пользователями, который вам прислали спустя 2 дня после передачи данных\n",
    "\n",
    "*active_studs.csv* - файл с информацией о пользователях, которые зашли на платформу в дни проведения эксперимента.\n",
    "\n",
    "*checks.csv* - файл с информацией об оплатах пользователей в дни проведения эксперимента.\n",
    "\n",
    "1.3 **Вопросы**\n",
    "\n",
    "Предлагаем Вам ответить на следующие вопросы:\n",
    "\n",
    "На какие метрики Вы смотрите в ходе анализа и почему?\n",
    "Имеются ли различия в показателях и с чем они могут быть связаны?\n",
    "\n",
    "Являются ли эти различия статистически значимыми?\n",
    "\n",
    "Стоит ли запускать новую механику на всех пользователей?\n",
    "\n",
    "Данный список вопросов не является обязательным, и Вы можете при своём ответе опираться на собственный план.\n",
    "\n",
    "1.4 **Требования к ответу**\n",
    "\n",
    "- При выполнении тестового задания необходимо использовать язык программирования Python.\n",
    "- В файле обязательно должны быть комментарии к тем действиям, которые Вы выполняете с данными.\n",
    "- Файл должен представлять собой законченный отчёт с выводами, сделанными в ходе исследования."
   ]
  },
  {
   "cell_type": "markdown",
   "id": "emh0OO1PJkNq",
   "metadata": {
    "id": "emh0OO1PJkNq"
   },
   "source": [
    "Загрузим библиотеки"
   ]
  },
  {
   "cell_type": "code",
   "execution_count": 1,
   "id": "f2bd7c31",
   "metadata": {
    "id": "f2bd7c31"
   },
   "outputs": [],
   "source": [
    "import numpy as np\n",
    "import pandas as pd\n",
    "import matplotlib.pyplot as plt\n",
    "import seaborn as sns\n",
    "from scipy.stats import ttest_ind, chi2_contingency, probplot\n",
    "from sklearn.metrics import confusion_matrix\n",
    "from sklearn.utils import resample"
   ]
  },
  {
   "cell_type": "code",
   "execution_count": 2,
   "id": "ffcd2dfd",
   "metadata": {
    "id": "ffcd2dfd"
   },
   "outputs": [],
   "source": [
    "# !chcp 1251"
   ]
  },
  {
   "cell_type": "code",
   "execution_count": 3,
   "id": "2b0b732f",
   "metadata": {
    "id": "2b0b732f"
   },
   "outputs": [],
   "source": [
    "groups = pd.read_csv('./data/groups.csv', sep= ';')\n",
    "active_studs = pd.read_csv('./data/active_studs.csv')\n",
    "checks = pd.read_csv('./data/checks.csv', sep= ';')\n",
    "group_add = pd.read_csv('./data/group_add.csv')"
   ]
  },
  {
   "cell_type": "markdown",
   "id": "dLnnml8JKB8V",
   "metadata": {
    "id": "dLnnml8JKB8V"
   },
   "source": [
    "Разделители в таблицах разные."
   ]
  },
  {
   "cell_type": "markdown",
   "id": "xCWEeIwfKGjI",
   "metadata": {
    "id": "xCWEeIwfKGjI"
   },
   "source": [
    "Посмотрим на данные"
   ]
  },
  {
   "cell_type": "code",
   "execution_count": 4,
   "id": "3e0d6172",
   "metadata": {
    "id": "3e0d6172"
   },
   "outputs": [],
   "source": [
    "def df_info(df):\n",
    "    '''Функция получает Датафрейм и выводит первые строки и общую информацию'''\n",
    "    print(df.head())\n",
    "    print(df.shape)\n",
    "    print()"
   ]
  },
  {
   "cell_type": "code",
   "execution_count": 5,
   "id": "62f03733",
   "metadata": {
    "colab": {
     "base_uri": "https://localhost:8080/"
    },
    "id": "62f03733",
    "outputId": "c6435c87-3d26-4250-bd0c-3818eac17aea"
   },
   "outputs": [
    {
     "name": "stdout",
     "output_type": "stream",
     "text": [
      "     id grp\n",
      "0  1489   B\n",
      "1  1627   A\n",
      "2  1768   B\n",
      "3  1783   B\n",
      "4  1794   A\n",
      "(74484, 2)\n",
      "\n",
      "   student_id\n",
      "0      581585\n",
      "1     5723133\n",
      "2     3276743\n",
      "3     4238589\n",
      "4     4475369\n",
      "(8341, 1)\n",
      "\n",
      "   student_id    rev\n",
      "0        1627  990.0\n",
      "1        3185  690.0\n",
      "2       25973  690.0\n",
      "3       26280  690.0\n",
      "4      100300  990.0\n",
      "(541, 2)\n",
      "\n",
      "        id grp\n",
      "0  5694584   B\n",
      "1  5694830   B\n",
      "2  5695057   B\n",
      "3  5698872   B\n",
      "4  5699067   B\n",
      "(92, 2)\n",
      "\n"
     ]
    }
   ],
   "source": [
    "dfs = pd.Series([groups, active_studs, checks, group_add])\n",
    "dfs.apply(df_info);"
   ]
  },
  {
   "cell_type": "markdown",
   "id": "eac6b800",
   "metadata": {
    "id": "eac6b800"
   },
   "source": [
    "Видим, что поле ID в таблицах имеет разные имена. Приведём имя поля к одному имени.\n",
    "(Будем надеяться, что это один и тот же ID, из задания следует именно это.)"
   ]
  },
  {
   "cell_type": "code",
   "execution_count": 6,
   "id": "89aefcd3",
   "metadata": {
    "id": "89aefcd3"
   },
   "outputs": [],
   "source": [
    "def id_rename(df):\n",
    "    '''Функция проверяет первый столбец датафрейма и переименовывает его если его имя 'student_id' '''\n",
    "    if df.columns[0] == 'student_id':\n",
    "        df.rename(columns={'student_id': 'id'}, inplace = True)\n",
    "dfs.apply(id_rename);"
   ]
  },
  {
   "cell_type": "markdown",
   "id": "09cb67ee",
   "metadata": {
    "id": "09cb67ee"
   },
   "source": [
    "Проверим уникальность значений ID в таблицах перед объединением."
   ]
  },
  {
   "cell_type": "code",
   "execution_count": 7,
   "id": "351d1ed7",
   "metadata": {
    "colab": {
     "base_uri": "https://localhost:8080/"
    },
    "id": "351d1ed7",
    "outputId": "dcb0e478-8441-414f-c13d-e6333e4e56af"
   },
   "outputs": [
    {
     "name": "stdout",
     "output_type": "stream",
     "text": [
      "Количество повторяющихся ID - 0\n",
      "Количество повторяющихся ID - 0\n",
      "Количество повторяющихся ID - 0\n",
      "Количество повторяющихся ID - 0\n"
     ]
    }
   ],
   "source": [
    "def show_duplicates(df):\n",
    "    '''Функция выводит количество повторяющихся строчек в поле 'id'\n",
    "    '''\n",
    "    print(f'Количество повторяющихся ID - {df.id.duplicated().sum()}')\n",
    "dfs.apply(show_duplicates);"
   ]
  },
  {
   "cell_type": "markdown",
   "id": "6989fdce",
   "metadata": {
    "id": "6989fdce"
   },
   "source": [
    "ID везде уникальны!"
   ]
  },
  {
   "cell_type": "markdown",
   "id": "733be3a6",
   "metadata": {
    "id": "733be3a6"
   },
   "source": [
    "У нас есть две таблицы groups, внесём в них допоплнительный признак и соединим."
   ]
  },
  {
   "cell_type": "code",
   "execution_count": 8,
   "id": "c6c457f0",
   "metadata": {
    "colab": {
     "base_uri": "https://localhost:8080/"
    },
    "id": "c6c457f0",
    "outputId": "2d308143-e9e5-4d48-8bac-83d8874a85eb"
   },
   "outputs": [
    {
     "data": {
      "text/plain": [
       "(74576, 74576)"
      ]
     },
     "execution_count": 8,
     "metadata": {},
     "output_type": "execute_result"
    }
   ],
   "source": [
    "groups['added'] = 0\n",
    "group_add['added'] = 1\n",
    "full_groups = pd.concat([groups, group_add])\n",
    "groups.shape[0] + group_add.shape[0], full_groups.shape[0]"
   ]
  },
  {
   "cell_type": "code",
   "execution_count": 9,
   "id": "9a874efb",
   "metadata": {
    "colab": {
     "base_uri": "https://localhost:8080/"
    },
    "id": "9a874efb",
    "outputId": "0904f82e-c8a6-495f-ddf1-534b3b77d383"
   },
   "outputs": [
    {
     "data": {
      "text/plain": [
       "0"
      ]
     },
     "execution_count": 9,
     "metadata": {},
     "output_type": "execute_result"
    }
   ],
   "source": [
    "full_groups.id.duplicated().sum()"
   ]
  },
  {
   "cell_type": "code",
   "execution_count": 10,
   "id": "09b43411",
   "metadata": {
    "colab": {
     "base_uri": "https://localhost:8080/"
    },
    "id": "09b43411",
    "outputId": "87348cbe-0f07-4853-eea2-2addcea85999"
   },
   "outputs": [
    {
     "data": {
      "text/plain": [
       "0.8029795108345849"
      ]
     },
     "execution_count": 10,
     "metadata": {},
     "output_type": "execute_result"
    }
   ],
   "source": [
    "full_groups.grp.value_counts()[0] / full_groups.shape[0]"
   ]
  },
  {
   "cell_type": "markdown",
   "id": "3dea7071",
   "metadata": {
    "id": "3dea7071"
   },
   "source": [
    "Посмотрим все ли активные и оплатившие пользователи вошли в общую таблицу."
   ]
  },
  {
   "cell_type": "code",
   "execution_count": 11,
   "id": "f6eb600d",
   "metadata": {
    "colab": {
     "base_uri": "https://localhost:8080/"
    },
    "id": "f6eb600d",
    "outputId": "d247e0e1-f62f-4788-c066-ba42de67d5fb"
   },
   "outputs": [
    {
     "data": {
      "text/plain": [
       "(True, True)"
      ]
     },
     "execution_count": 11,
     "metadata": {},
     "output_type": "execute_result"
    }
   ],
   "source": [
    "active_studs.id.isin(full_groups.id).all(), checks.id.isin(full_groups.id).all()"
   ]
  },
  {
   "cell_type": "markdown",
   "id": "2e966508",
   "metadata": {
    "id": "2e966508"
   },
   "source": [
    "Добавим идентификатор активного пользователя и соединим таблицы."
   ]
  },
  {
   "cell_type": "code",
   "execution_count": 12,
   "id": "c7fd770d",
   "metadata": {
    "id": "c7fd770d"
   },
   "outputs": [],
   "source": [
    "active_studs['active'] = 1\n",
    "checks['paid'] = 1\n",
    "full_data = full_groups.merge(active_studs, how = 'left', on = 'id')\n",
    "full_data = full_data.merge(checks, how = 'left', on = 'id')\n",
    "full_data.fillna(0, inplace = True)"
   ]
  },
  {
   "cell_type": "code",
   "execution_count": 13,
   "id": "867a275c",
   "metadata": {
    "colab": {
     "base_uri": "https://localhost:8080/"
    },
    "id": "867a275c",
    "outputId": "233509be-25ce-4d48-a808-ddc668f4389d"
   },
   "outputs": [
    {
     "data": {
      "text/plain": [
       "False"
      ]
     },
     "execution_count": 13,
     "metadata": {},
     "output_type": "execute_result"
    }
   ],
   "source": [
    "(full_data.active == full_data.paid).all()"
   ]
  },
  {
   "cell_type": "code",
   "execution_count": 14,
   "id": "7c23bf04",
   "metadata": {
    "colab": {
     "base_uri": "https://localhost:8080/"
    },
    "id": "7c23bf04",
    "outputId": "cba5252c-6b96-43e5-ff3a-7583a6792924",
    "scrolled": false
   },
   "outputs": [
    {
     "data": {
      "text/plain": [
       "(8341, 541)"
      ]
     },
     "execution_count": 14,
     "metadata": {},
     "output_type": "execute_result"
    }
   ],
   "source": [
    "full_data.active.value_counts()[1], full_data.paid.value_counts()[1]"
   ]
  },
  {
   "cell_type": "markdown",
   "id": "3c39fa19",
   "metadata": {
    "id": "3c39fa19"
   },
   "source": [
    "Далеко не все активные пользователи сделели оплату. Посмотрим на отношение Активных и Оплативших."
   ]
  },
  {
   "cell_type": "code",
   "execution_count": 15,
   "id": "8600dd1c",
   "metadata": {
    "colab": {
     "base_uri": "https://localhost:8080/",
     "height": 474
    },
    "id": "8600dd1c",
    "outputId": "ffa67325-50c0-4977-84a5-fba8af54fde4"
   },
   "outputs": [
    {
     "data": {
      "image/png": "[encoded data removed]",
      "text/plain": [
       "<Figure size 600x500 with 2 Axes>"
      ]
     },
     "metadata": {},
     "output_type": "display_data"
    }
   ],
   "source": [
    "cm = confusion_matrix(full_data.active, full_data.paid)\n",
    "\n",
    "plt.figure(figsize=(6, 5))\n",
    "sns.heatmap(cm, annot=True, cmap='Blues', square=True, fmt='g')\n",
    "plt.title('Отношение активных и оплативших пользователей.')\n",
    "plt.xlabel('Paid')\n",
    "plt.ylabel('Active')\n",
    "plt.show()"
   ]
  },
  {
   "cell_type": "code",
   "execution_count": 16,
   "id": "6b1fb63b",
   "metadata": {
    "colab": {
     "base_uri": "https://localhost:8080/"
    },
    "id": "6b1fb63b",
    "outputId": "b644dc6a-82c9-439a-8b4e-d0e07e018c60"
   },
   "outputs": [
    {
     "data": {
      "text/plain": [
       "B    120\n",
       "A     29\n",
       "Name: grp, dtype: int64"
      ]
     },
     "execution_count": 16,
     "metadata": {},
     "output_type": "execute_result"
    }
   ],
   "source": [
    "paid_no_active = full_data.loc[(full_data.active == 0) & (full_data.paid == 1)]\n",
    "paid_no_active.grp.value_counts()"
   ]
  },
  {
   "cell_type": "markdown",
   "id": "4itvpbXtNXA3",
   "metadata": {
    "id": "4itvpbXtNXA3"
   },
   "source": [
    "Вряд ли решение об оплате неактивных пользователей продиктовано новым предложением. Исключим такие наблюдения из тестовой группы."
   ]
  },
  {
   "cell_type": "code",
   "execution_count": 17,
   "id": "f1e58b01",
   "metadata": {
    "id": "f1e58b01"
   },
   "outputs": [],
   "source": [
    "full_data.drop(paid_no_active.loc[paid_no_active.grp == 'B'].index, axis = 0, inplace = True)"
   ]
  },
  {
   "cell_type": "code",
   "execution_count": 18,
   "id": "4ebf72e9",
   "metadata": {
    "colab": {
     "base_uri": "https://localhost:8080/"
    },
    "id": "4ebf72e9",
    "outputId": "931fb2a3-ac76-4b38-e3c8-94e7d881f8f9"
   },
   "outputs": [
    {
     "data": {
      "text/plain": [
       "(74456, 6)"
      ]
     },
     "execution_count": 18,
     "metadata": {},
     "output_type": "execute_result"
    }
   ],
   "source": [
    "full_data.shape"
   ]
  },
  {
   "cell_type": "markdown",
   "id": "49efde77",
   "metadata": {
    "id": "49efde77"
   },
   "source": [
    "#### CR - конверсия в покупку"
   ]
  },
  {
   "cell_type": "code",
   "execution_count": 19,
   "id": "8f7850e9",
   "metadata": {
    "colab": {
     "base_uri": "https://localhost:8080/",
     "height": 112
    },
    "id": "8f7850e9",
    "outputId": "0e0c0159-4f76-4666-faea-8596dbe873cf",
    "scrolled": true
   },
   "outputs": [
    {
     "data": {
      "text/html": [
       "<div>\n",
       "<style scoped>\n",
       "    .dataframe tbody tr th:only-of-type {\n",
       "        vertical-align: middle;\n",
       "    }\n",
       "\n",
       "    .dataframe tbody tr th {\n",
       "        vertical-align: top;\n",
       "    }\n",
       "\n",
       "    .dataframe thead th {\n",
       "        text-align: right;\n",
       "    }\n",
       "</style>\n",
       "<table border=\"1\" class=\"dataframe\">\n",
       "  <thead>\n",
       "    <tr style=\"text-align: right;\">\n",
       "      <th></th>\n",
       "      <th>grp</th>\n",
       "      <th>active</th>\n",
       "      <th>paid</th>\n",
       "      <th>cr</th>\n",
       "    </tr>\n",
       "  </thead>\n",
       "  <tbody>\n",
       "    <tr>\n",
       "      <th>0</th>\n",
       "      <td>A</td>\n",
       "      <td>1538</td>\n",
       "      <td>107</td>\n",
       "      <td>6.96</td>\n",
       "    </tr>\n",
       "    <tr>\n",
       "      <th>1</th>\n",
       "      <td>B</td>\n",
       "      <td>6803</td>\n",
       "      <td>314</td>\n",
       "      <td>4.62</td>\n",
       "    </tr>\n",
       "  </tbody>\n",
       "</table>\n",
       "</div>"
      ],
      "text/plain": [
       "  grp  active  paid    cr\n",
       "0   A    1538   107  6.96\n",
       "1   B    6803   314  4.62"
      ]
     },
     "execution_count": 19,
     "metadata": {},
     "output_type": "execute_result"
    }
   ],
   "source": [
    "cr = full_data.loc[full_data.active == 1] \\\n",
    "    .groupby('grp', as_index=False) \\\n",
    "    .agg({'active':'count'})\n",
    "\n",
    "cr['paid'] = full_data.loc[full_data.paid == 1] \\\n",
    "                    .groupby('grp').agg({'active':'count'}) \\\n",
    "                    .active.to_list()\n",
    "\n",
    "cr['cr'] = round((cr.paid / cr.active) * 100, 2)\n",
    "\n",
    "cr"
   ]
  },
  {
   "cell_type": "markdown",
   "id": "-gwsv53TLLnJ",
   "metadata": {
    "id": "-gwsv53TLLnJ"
   },
   "source": [
    "Конверсия снизилась."
   ]
  },
  {
   "cell_type": "markdown",
   "id": "Y1lbXoBGNsak",
   "metadata": {
    "id": "Y1lbXoBGNsak"
   },
   "source": [
    "Помотрим связаны ли оплатвшие пользователи с тем в какой группе они оказались, для этого посчитаем Хи-квадрат Пирсона для Конверсии.\\\n",
    "Этот тест проверяет H0 - категории (оплатил \\ не оплатил) Не зависят от групп (A, B)\\\n",
    "Соотетственно Альтернативная H1 - частота плательшиков разная между группами."
   ]
  },
  {
   "cell_type": "code",
   "execution_count": 20,
   "id": "e3817e2e",
   "metadata": {
    "colab": {
     "base_uri": "https://localhost:8080/"
    },
    "id": "e3817e2e",
    "outputId": "5881e253-9066-4555-8ff6-4ea76eefd827"
   },
   "outputs": [
    {
     "name": "stdout",
     "output_type": "stream",
     "text": [
      "chi2 statistic:     0.48481\n",
      "p-value:            0.48625\n",
      "degrees of freedom: 1\n",
      "expected frequencies:\n",
      "[[1465.71897854   72.28102146]\n",
      " [6483.28102146  319.71897854]]\n"
     ]
    }
   ],
   "source": [
    "cross_t = pd.crosstab(full_data.loc[full_data.active == 1].grp, full_data.paid)\n",
    "chi2, p, dof, expected = chi2_contingency(cross_t)\n",
    "\n",
    "print(f\"chi2 statistic:     {chi2:.5g}\")\n",
    "print(f\"p-value:            {p:.5g}\")\n",
    "print(f\"degrees of freedom: {dof}\")\n",
    "print(\"expected frequencies:\")\n",
    "print(expected)"
   ]
  },
  {
   "cell_type": "markdown",
   "id": "owEiYqsBKV0O",
   "metadata": {
    "id": "owEiYqsBKV0O"
   },
   "source": [
    "P-value показывает, что не достаточно оснований для отклонения H0, об отсутсвии значимых различий в распределениях."
   ]
  },
  {
   "cell_type": "markdown",
   "id": "2bb3f114",
   "metadata": {
    "id": "2bb3f114"
   },
   "source": [
    "####  ARPU"
   ]
  },
  {
   "cell_type": "code",
   "execution_count": 21,
   "id": "5cb7f255",
   "metadata": {
    "colab": {
     "base_uri": "https://localhost:8080/",
     "height": 112
    },
    "id": "5cb7f255",
    "outputId": "43e08ff3-9c65-42af-b9d8-5db43bbfb4b1",
    "scrolled": true
   },
   "outputs": [
    {
     "data": {
      "text/html": [
       "<div>\n",
       "<style scoped>\n",
       "    .dataframe tbody tr th:only-of-type {\n",
       "        vertical-align: middle;\n",
       "    }\n",
       "\n",
       "    .dataframe tbody tr th {\n",
       "        vertical-align: top;\n",
       "    }\n",
       "\n",
       "    .dataframe thead th {\n",
       "        text-align: right;\n",
       "    }\n",
       "</style>\n",
       "<table border=\"1\" class=\"dataframe\">\n",
       "  <thead>\n",
       "    <tr style=\"text-align: right;\">\n",
       "      <th></th>\n",
       "      <th>grp</th>\n",
       "      <th>num_active</th>\n",
       "      <th>rev</th>\n",
       "      <th>arpu</th>\n",
       "    </tr>\n",
       "  </thead>\n",
       "  <tbody>\n",
       "    <tr>\n",
       "      <th>0</th>\n",
       "      <td>A</td>\n",
       "      <td>1538</td>\n",
       "      <td>72820.0</td>\n",
       "      <td>47.3</td>\n",
       "    </tr>\n",
       "    <tr>\n",
       "      <th>1</th>\n",
       "      <td>B</td>\n",
       "      <td>6803</td>\n",
       "      <td>394974.0</td>\n",
       "      <td>58.1</td>\n",
       "    </tr>\n",
       "  </tbody>\n",
       "</table>\n",
       "</div>"
      ],
      "text/plain": [
       "  grp  num_active       rev  arpu\n",
       "0   A        1538   72820.0  47.3\n",
       "1   B        6803  394974.0  58.1"
      ]
     },
     "execution_count": 21,
     "metadata": {},
     "output_type": "execute_result"
    }
   ],
   "source": [
    "# ARPU\n",
    "arpu = full_data.loc[full_data.active == 1] \\\n",
    "    .groupby('grp', as_index=False).agg({'id':'count', 'rev':'sum'}) \\\n",
    "    .rename(columns={'id':'num_active'}).round()\n",
    "\n",
    "arpu['arpu'] = round(arpu.rev / arpu.num_active,1)\n",
    "\n",
    "arpu"
   ]
  },
  {
   "cell_type": "code",
   "execution_count": 22,
   "id": "aab64b58",
   "metadata": {},
   "outputs": [
    {
     "data": {
      "text/html": [
       "<div>\n",
       "<style scoped>\n",
       "    .dataframe tbody tr th:only-of-type {\n",
       "        vertical-align: middle;\n",
       "    }\n",
       "\n",
       "    .dataframe tbody tr th {\n",
       "        vertical-align: top;\n",
       "    }\n",
       "\n",
       "    .dataframe thead th {\n",
       "        text-align: right;\n",
       "    }\n",
       "</style>\n",
       "<table border=\"1\" class=\"dataframe\">\n",
       "  <thead>\n",
       "    <tr style=\"text-align: right;\">\n",
       "      <th></th>\n",
       "      <th>id</th>\n",
       "      <th>grp</th>\n",
       "      <th>added</th>\n",
       "      <th>active</th>\n",
       "      <th>rev</th>\n",
       "      <th>paid</th>\n",
       "    </tr>\n",
       "  </thead>\n",
       "  <tbody>\n",
       "    <tr>\n",
       "      <th>1</th>\n",
       "      <td>1627</td>\n",
       "      <td>A</td>\n",
       "      <td>0</td>\n",
       "      <td>1.0</td>\n",
       "      <td>990.0</td>\n",
       "      <td>1.0</td>\n",
       "    </tr>\n",
       "    <tr>\n",
       "      <th>220</th>\n",
       "      <td>100300</td>\n",
       "      <td>B</td>\n",
       "      <td>0</td>\n",
       "      <td>1.0</td>\n",
       "      <td>990.0</td>\n",
       "      <td>1.0</td>\n",
       "    </tr>\n",
       "    <tr>\n",
       "      <th>320</th>\n",
       "      <td>108270</td>\n",
       "      <td>B</td>\n",
       "      <td>0</td>\n",
       "      <td>1.0</td>\n",
       "      <td>290.0</td>\n",
       "      <td>1.0</td>\n",
       "    </tr>\n",
       "    <tr>\n",
       "      <th>406</th>\n",
       "      <td>114366</td>\n",
       "      <td>A</td>\n",
       "      <td>0</td>\n",
       "      <td>0.0</td>\n",
       "      <td>690.0</td>\n",
       "      <td>1.0</td>\n",
       "    </tr>\n",
       "    <tr>\n",
       "      <th>2041</th>\n",
       "      <td>212994</td>\n",
       "      <td>A</td>\n",
       "      <td>0</td>\n",
       "      <td>0.0</td>\n",
       "      <td>690.0</td>\n",
       "      <td>1.0</td>\n",
       "    </tr>\n",
       "    <tr>\n",
       "      <th>...</th>\n",
       "      <td>...</td>\n",
       "      <td>...</td>\n",
       "      <td>...</td>\n",
       "      <td>...</td>\n",
       "      <td>...</td>\n",
       "      <td>...</td>\n",
       "    </tr>\n",
       "    <tr>\n",
       "      <th>74365</th>\n",
       "      <td>5645737</td>\n",
       "      <td>B</td>\n",
       "      <td>0</td>\n",
       "      <td>1.0</td>\n",
       "      <td>1900.0</td>\n",
       "      <td>1.0</td>\n",
       "    </tr>\n",
       "    <tr>\n",
       "      <th>74381</th>\n",
       "      <td>5651566</td>\n",
       "      <td>B</td>\n",
       "      <td>0</td>\n",
       "      <td>1.0</td>\n",
       "      <td>1900.0</td>\n",
       "      <td>1.0</td>\n",
       "    </tr>\n",
       "    <tr>\n",
       "      <th>74402</th>\n",
       "      <td>5662322</td>\n",
       "      <td>B</td>\n",
       "      <td>0</td>\n",
       "      <td>1.0</td>\n",
       "      <td>1900.0</td>\n",
       "      <td>1.0</td>\n",
       "    </tr>\n",
       "    <tr>\n",
       "      <th>74452</th>\n",
       "      <td>5681918</td>\n",
       "      <td>B</td>\n",
       "      <td>0</td>\n",
       "      <td>1.0</td>\n",
       "      <td>1900.0</td>\n",
       "      <td>1.0</td>\n",
       "    </tr>\n",
       "    <tr>\n",
       "      <th>74539</th>\n",
       "      <td>5740903</td>\n",
       "      <td>B</td>\n",
       "      <td>1</td>\n",
       "      <td>1.0</td>\n",
       "      <td>1900.0</td>\n",
       "      <td>1.0</td>\n",
       "    </tr>\n",
       "  </tbody>\n",
       "</table>\n",
       "<p>421 rows × 6 columns</p>\n",
       "</div>"
      ],
      "text/plain": [
       "            id grp  added  active     rev  paid\n",
       "1         1627   A      0     1.0   990.0   1.0\n",
       "220     100300   B      0     1.0   990.0   1.0\n",
       "320     108270   B      0     1.0   290.0   1.0\n",
       "406     114366   A      0     0.0   690.0   1.0\n",
       "2041    212994   A      0     0.0   690.0   1.0\n",
       "...        ...  ..    ...     ...     ...   ...\n",
       "74365  5645737   B      0     1.0  1900.0   1.0\n",
       "74381  5651566   B      0     1.0  1900.0   1.0\n",
       "74402  5662322   B      0     1.0  1900.0   1.0\n",
       "74452  5681918   B      0     1.0  1900.0   1.0\n",
       "74539  5740903   B      1     1.0  1900.0   1.0\n",
       "\n",
       "[421 rows x 6 columns]"
      ]
     },
     "execution_count": 22,
     "metadata": {},
     "output_type": "execute_result"
    }
   ],
   "source": [
    "full_data.loc[full_data.paid == 1]"
   ]
  },
  {
   "cell_type": "markdown",
   "id": "M3rp9-kRL4Uv",
   "metadata": {
    "id": "M3rp9-kRL4Uv"
   },
   "source": [
    "ARPU увеличилось"
   ]
  },
  {
   "cell_type": "markdown",
   "id": "d7c22f44",
   "metadata": {
    "id": "d7c22f44"
   },
   "source": [
    "####  ARPPU"
   ]
  },
  {
   "cell_type": "code",
   "execution_count": 23,
   "id": "54fb21a1",
   "metadata": {
    "colab": {
     "base_uri": "https://localhost:8080/",
     "height": 112
    },
    "id": "54fb21a1",
    "outputId": "8fbfe8bf-3722-4923-8b0a-c8ef7e0465f1",
    "scrolled": false
   },
   "outputs": [
    {
     "data": {
      "text/html": [
       "<div>\n",
       "<style scoped>\n",
       "    .dataframe tbody tr th:only-of-type {\n",
       "        vertical-align: middle;\n",
       "    }\n",
       "\n",
       "    .dataframe tbody tr th {\n",
       "        vertical-align: top;\n",
       "    }\n",
       "\n",
       "    .dataframe thead th {\n",
       "        text-align: right;\n",
       "    }\n",
       "</style>\n",
       "<table border=\"1\" class=\"dataframe\">\n",
       "  <thead>\n",
       "    <tr style=\"text-align: right;\">\n",
       "      <th></th>\n",
       "      <th>grp</th>\n",
       "      <th>num_active</th>\n",
       "      <th>rev</th>\n",
       "      <th>arppu</th>\n",
       "    </tr>\n",
       "  </thead>\n",
       "  <tbody>\n",
       "    <tr>\n",
       "      <th>0</th>\n",
       "      <td>A</td>\n",
       "      <td>107</td>\n",
       "      <td>92096.0</td>\n",
       "      <td>860.7</td>\n",
       "    </tr>\n",
       "    <tr>\n",
       "      <th>1</th>\n",
       "      <td>B</td>\n",
       "      <td>314</td>\n",
       "      <td>394974.0</td>\n",
       "      <td>1257.9</td>\n",
       "    </tr>\n",
       "  </tbody>\n",
       "</table>\n",
       "</div>"
      ],
      "text/plain": [
       "  grp  num_active       rev   arppu\n",
       "0   A         107   92096.0   860.7\n",
       "1   B         314  394974.0  1257.9"
      ]
     },
     "execution_count": 23,
     "metadata": {},
     "output_type": "execute_result"
    }
   ],
   "source": [
    "# ARPPU\n",
    "arppu = full_data.loc[full_data.paid == 1] \\\n",
    "    .groupby('grp', as_index=False).agg({'id':'count', 'rev':'sum'}) \\\n",
    "    .rename(columns={'id':'num_active'}).round()\n",
    "\n",
    "arppu['arppu'] = round(arppu.rev / arppu.num_active,1)\n",
    "arppu"
   ]
  },
  {
   "cell_type": "markdown",
   "id": "7bHm0isOMBcU",
   "metadata": {
    "id": "7bHm0isOMBcU"
   },
   "source": [
    "ARPPU увеличилось в 1.5 раза"
   ]
  },
  {
   "cell_type": "markdown",
   "id": "20462dc9",
   "metadata": {},
   "source": [
    "Проверим нормальность распределения revenu по активным и платящим пользователям.\\\n",
    "Сравним квантили с нормальным распределением. "
   ]
  },
  {
   "cell_type": "code",
   "execution_count": 24,
   "id": "25d1e27d",
   "metadata": {
    "scrolled": true
   },
   "outputs": [
    {
     "data": {
      "image/png": "[encoded data removed]",
      "text/plain": [
       "<Figure size 1000x500 with 2 Axes>"
      ]
     },
     "metadata": {},
     "output_type": "display_data"
    }
   ],
   "source": [
    "# Разделим на группы.\n",
    "data_group1 = full_data.loc[full_data.paid == 1].rev\n",
    "data_group2 = full_data.loc[full_data.active == 1].rev\n",
    "\n",
    "# Выводим QQ-графики для каждой группы.\n",
    "fig, axes = plt.subplots(1, 2, figsize=(10, 5))\n",
    "\n",
    "probplot(data_group1, plot=axes[0])\n",
    "axes[0].set_title('Оплаченные')\n",
    "\n",
    "probplot(data_group2, plot=axes[1])\n",
    "axes[1].set_title('Активные')\n",
    "plt.show()"
   ]
  },
  {
   "cell_type": "markdown",
   "id": "0e3e103f",
   "metadata": {},
   "source": [
    "Распределения нельзя назвать нормальными."
   ]
  },
  {
   "cell_type": "markdown",
   "id": "cEkCHcuIMTfB",
   "metadata": {
    "id": "cEkCHcuIMTfB"
   },
   "source": [
    "Проведём Бутстреп ARPU и ARPPU.\\\n",
    "Поскольку распределения не нормальные.\n",
    "\n",
    "\n",
    "Посмотрим на расспределения разности средних по случайным выборкам из распределений по группам.\\\n",
    "Будем оценивать входит ли нулевая разница в 95% доверительный интервал.\n",
    "\n",
    "Дополнительно проведём t-тест для независимых выборок.\\\n",
    "Для обоих тестов:\\\n",
    "H0 - выборки не имеют значимых различий,\\\n",
    "H1 - выборки значимо отличаются."
   ]
  },
  {
   "cell_type": "code",
   "execution_count": 25,
   "id": "118676f1",
   "metadata": {
    "colab": {
     "base_uri": "https://localhost:8080/",
     "height": 581
    },
    "id": "118676f1",
    "outputId": "67c6f67b-89a3-4025-f69a-a2a37abbd10d"
   },
   "outputs": [
    {
     "data": {
      "image/png": "[encoded data removed]",
      "text/plain": [
       "<Figure size 800x600 with 1 Axes>"
      ]
     },
     "metadata": {},
     "output_type": "display_data"
    },
    {
     "data": {
      "text/plain": [
       "{'ci': array([-26.08677993,   5.78849627]), 'p_value': 0.22048133326988378}"
      ]
     },
     "execution_count": 25,
     "metadata": {},
     "output_type": "execute_result"
    }
   ],
   "source": [
    "def get_bootstrap(df):\n",
    "    # Split the dataframe into two groups\n",
    "    group1 = df[df.grp == 'A'].rev\n",
    "    group2 = df[df.grp == 'B'].rev\n",
    "    bootstrap_differences = []\n",
    "    for _ in range(1000):  # number of bootstrap samples\n",
    "        sample_group1 = resample(group1)\n",
    "        sample_group2 = resample(group2)\n",
    "        difference = np.mean(sample_group1) - np.mean(sample_group2)\n",
    "        bootstrap_differences.append(difference)\n",
    "\n",
    "    confidence_interval = np.percentile(bootstrap_differences, [2.5, 97.5])\n",
    "    t_statistic, p_value = ttest_ind(group1, group2)\n",
    "\n",
    "    plt.figure(figsize=(8, 6))\n",
    "    sns.histplot(bootstrap_differences, kde=True)\n",
    "    plt.axvline(confidence_interval[0], color='red', linestyle='--', label='Confidence Interval (95%)')\n",
    "    plt.axvline(confidence_interval[1], color='red', linestyle='--')\n",
    "    plt.title('Bootstrap Distribution of Difference in Means')\n",
    "    plt.xlabel('Difference in Means')\n",
    "    plt.ylabel('Frequency')\n",
    "    plt.legend()\n",
    "    plt.show()\n",
    "    return {\"ci\": confidence_interval,\n",
    "            \"p_value\": p_value}\n",
    "\n",
    "bootstrap_results = get_bootstrap(full_data.loc[full_data.active == 1])\n",
    "bootstrap_results"
   ]
  },
  {
   "cell_type": "markdown",
   "id": "-4NYyl7JMsIo",
   "metadata": {
    "id": "-4NYyl7JMsIo"
   },
   "source": [
    "По бутстрепу:\\\n",
    "Нулевая разница входит в 95% доверительный интервал.\\\n",
    "разница стремиться к нулю, распределения совпадают.\n",
    "По тесту Студента:\\\n",
    "P-value большое, различия не значимы."
   ]
  },
  {
   "cell_type": "code",
   "execution_count": 26,
   "id": "a82dbb38",
   "metadata": {
    "colab": {
     "base_uri": "https://localhost:8080/",
     "height": 599
    },
    "id": "a82dbb38",
    "outputId": "ff2f950b-4218-4f5d-e5d7-b11d5d19f0d8",
    "scrolled": true
   },
   "outputs": [
    {
     "data": {
      "image/png": "[encoded data removed]",
      "text/plain": [
       "<Figure size 800x600 with 1 Axes>"
      ]
     },
     "metadata": {},
     "output_type": "display_data"
    },
    {
     "data": {
      "text/plain": [
       "{'ci': array([-568.40879379, -208.13907551]),\n",
       " 'p_value': 1.1008125851450672e-05}"
      ]
     },
     "execution_count": 26,
     "metadata": {},
     "output_type": "execute_result"
    }
   ],
   "source": [
    "bootstrap_results = get_bootstrap(full_data.loc[full_data.paid == 1])\n",
    "bootstrap_results"
   ]
  },
  {
   "cell_type": "markdown",
   "id": "ffa91930",
   "metadata": {
    "id": "ffa91930"
   },
   "source": [
    "По бутстрепу:\\\n",
    "Нулеввая разница не входит в 95% доверительный интервал.\\\n",
    "распределения смещены.\n",
    "По тесту Студента:\\\n",
    "P-value позволяет отклонить H0, изменения есть!"
   ]
  },
  {
   "cell_type": "markdown",
   "id": "eBItz7luNMN9",
   "metadata": {
    "id": "eBItz7luNMN9"
   },
   "source": [
    "Влияние изменений неоднозначно. ARPPU значимо выросло, остальные метрики не показывают значимых изменений. Лучшим вариантом будет продолжить наблюдения, для этого подготовим функции в задании 3 ))."
   ]
  },
  {
   "cell_type": "markdown",
   "id": "8ee489a1",
   "metadata": {
    "id": "8ee489a1"
   },
   "source": [
    "## Здание 2. SQL"
   ]
  },
  {
   "cell_type": "markdown",
   "id": "f4a5f0bc",
   "metadata": {
    "id": "f4a5f0bc"
   },
   "source": [
    "2.1.1 Условие\n",
    "\n",
    "Образовательные курсы состоят из различных уроков, каждый из которых состоит из нескольких маленьких заданий. Каждое такое маленькое задание называется \"горошиной\".\n",
    "\n",
    "Назовём очень усердным учеником того пользователя, который хотя бы раз за текущий месяц правильно решил 20 горошин.\n",
    "\n",
    "2.1.2 Задача\n",
    "\n",
    "Дана таблица default.peas:\n",
    "\n",
    "| Название атрибута | Тип атрибута | Смысловое значение    |\n",
    "|-------------------|--------------|-----------------------|\n",
    "| st_id\t            | int          |\tID ученика         |\n",
    "| timest \t        |timestamp     | Время решения карточки|\n",
    "| correct           |\tbool       |Правильно ли решена горошина?|\n",
    "| subject           |\ttext       |Дисциплина, в которой находится горошина|\n",
    "\n",
    "\n",
    "Необходимо написать оптимальный запрос, который даст информацию о количестве очень усердных студентов.NB! Под усердным студентом мы понимаем студента, который правильно решил 20 задач за текущий месяц."
   ]
  },
  {
   "cell_type": "code",
   "execution_count": 27,
   "id": "O3rmJtDx8MLF",
   "metadata": {
    "id": "O3rmJtDx8MLF"
   },
   "outputs": [],
   "source": [
    "!pip install -q pandahouse"
   ]
  },
  {
   "cell_type": "code",
   "execution_count": 28,
   "id": "0T2vFFLp75Ot",
   "metadata": {
    "id": "0T2vFFLp75Ot"
   },
   "outputs": [],
   "source": [
    "import pandahouse as ph"
   ]
  },
  {
   "cell_type": "code",
   "execution_count": 29,
   "id": "CN-qmd2W72YY",
   "metadata": {
    "id": "CN-qmd2W72YY"
   },
   "outputs": [],
   "source": [
    "connection_to_def = {'host': 'https://clickhouse.lab.karpov.courses',\n",
    "                      'database':'default',\n",
    "                      'user':'student',\n",
    "                      'password':'dpo_python_2020'\n",
    "                     }"
   ]
  },
  {
   "cell_type": "code",
   "execution_count": 30,
   "id": "1arx30l_CMFo",
   "metadata": {
    "colab": {
     "base_uri": "https://localhost:8080/",
     "height": 81
    },
    "id": "1arx30l_CMFo",
    "outputId": "45f782cb-f361-4a08-d755-166dfd1c5058"
   },
   "outputs": [
    {
     "data": {
      "text/html": [
       "<div>\n",
       "<style scoped>\n",
       "    .dataframe tbody tr th:only-of-type {\n",
       "        vertical-align: middle;\n",
       "    }\n",
       "\n",
       "    .dataframe tbody tr th {\n",
       "        vertical-align: top;\n",
       "    }\n",
       "\n",
       "    .dataframe thead th {\n",
       "        text-align: right;\n",
       "    }\n",
       "</style>\n",
       "<table border=\"1\" class=\"dataframe\">\n",
       "  <thead>\n",
       "    <tr style=\"text-align: right;\">\n",
       "      <th></th>\n",
       "      <th>count_of_diligent_students</th>\n",
       "    </tr>\n",
       "  </thead>\n",
       "  <tbody>\n",
       "    <tr>\n",
       "      <th>0</th>\n",
       "      <td>136</td>\n",
       "    </tr>\n",
       "  </tbody>\n",
       "</table>\n",
       "</div>"
      ],
      "text/plain": [
       "   count_of_diligent_students\n",
       "0                         136"
      ]
     },
     "execution_count": 30,
     "metadata": {},
     "output_type": "execute_result"
    }
   ],
   "source": [
    "query = '''\n",
    "SELECT COUNT(DISTINCT st_id) AS count_of_diligent_students\n",
    "FROM (\n",
    "    SELECT st_id\n",
    "    FROM default.peas\n",
    "    INNER JOIN (\n",
    "        SELECT toYear(max(timest)) AS max_year, toMonth(max(timest)) AS max_month\n",
    "        FROM default.peas\n",
    "    ) AS max_t\n",
    "    ON toYear(peas.timest) = max_t.max_year AND toMonth(peas.timest) = max_t.max_month\n",
    "    GROUP BY st_id\n",
    "    HAVING SUM(correct) >= 20\n",
    ") AS subquery;\n",
    "    '''\n",
    "\n",
    "df = ph.read_clickhouse(query=query, connection=connection_to_def)\n",
    "df"
   ]
  },
  {
   "cell_type": "markdown",
   "id": "020da904",
   "metadata": {
    "id": "020da904"
   },
   "source": [
    "2.2 Оптимизация воронки\n",
    "\n",
    "2.2.1 Условие\n",
    "\n",
    "Образовательная платформа предлагает пройти студентам курсы по модели trial: студент может решить бесплатно лишь 30 горошин в день. Для неограниченного количества заданий в определенной дисциплине студенту необходимо приобрести полный доступ. Команда провела эксперимент, где был протестирован новый экран оплаты.\n",
    "\n",
    "2.2.2 Задача\n",
    "\n",
    "Дана таблицы: default.peas (см. выше), default.studs:\n",
    "\n",
    "|Название атрибута|\tТип атрибута|\tСмысловое значение|\n",
    "|-----------------|-------------|---------------------|\n",
    "|st_id            |\tint         |\t ID ученика       |\n",
    "|test_grp         |\ttext        |\t Метка ученика в данном эксперименте|\n",
    "\n",
    "и default.final_project_check:\n",
    "\n",
    "|Название атрибута|\tТип атрибута|\tСмысловое значение|\n",
    "|-----------------|-------------|---------------------|\n",
    "|sale_time        |\ttimestamp   |\tВремя покупки     |\n",
    "|money            |\tint         |\tЦена, по которой приобрели данный курс|\n",
    "|subject          |\ttext \t|                         |\n",
    "Необходимо в одном запросе выгрузить следующую информацию о группах пользователей:\n",
    "\n",
    "- ARPU\n",
    "- ARPAU\n",
    "- CR в покупку\n",
    "- СR активного пользователя в покупку\n",
    "- CR пользователя из активности по математике (subject = ’math’) в покупку курса по математике\n",
    "\n",
    "ARPU считается относительно всех пользователей, попавших в группы.\n",
    "\n",
    "Активным считается пользователь, за все время решивший больше 10 задач правильно в любых дисциплинах.\n",
    "Активным по математике считается пользователь, за все время решивший 2 или больше задач правильно по математике."
   ]
  },
  {
   "cell_type": "code",
   "execution_count": 31,
   "id": "IdbPzcaTBTSn",
   "metadata": {
    "colab": {
     "base_uri": "https://localhost:8080/",
     "height": 112
    },
    "id": "IdbPzcaTBTSn",
    "outputId": "fb74978b-7b5f-4e1f-94ec-c5287d4d45c8"
   },
   "outputs": [
    {
     "data": {
      "text/html": [
       "<div>\n",
       "<style scoped>\n",
       "    .dataframe tbody tr th:only-of-type {\n",
       "        vertical-align: middle;\n",
       "    }\n",
       "\n",
       "    .dataframe tbody tr th {\n",
       "        vertical-align: top;\n",
       "    }\n",
       "\n",
       "    .dataframe thead th {\n",
       "        text-align: right;\n",
       "    }\n",
       "</style>\n",
       "<table border=\"1\" class=\"dataframe\">\n",
       "  <thead>\n",
       "    <tr style=\"text-align: right;\">\n",
       "      <th></th>\n",
       "      <th>group</th>\n",
       "      <th>count_all_students</th>\n",
       "      <th>ARPU</th>\n",
       "      <th>ARPAU</th>\n",
       "      <th>CR</th>\n",
       "      <th>CR_active</th>\n",
       "      <th>CR_active_math</th>\n",
       "    </tr>\n",
       "  </thead>\n",
       "  <tbody>\n",
       "    <tr>\n",
       "      <th>0</th>\n",
       "      <td>control</td>\n",
       "      <td>305</td>\n",
       "      <td>4540.98</td>\n",
       "      <td>8993.51</td>\n",
       "      <td>20.33</td>\n",
       "      <td>10.07</td>\n",
       "      <td>9.8</td>\n",
       "    </tr>\n",
       "    <tr>\n",
       "      <th>1</th>\n",
       "      <td>pilot</td>\n",
       "      <td>295</td>\n",
       "      <td>11508.47</td>\n",
       "      <td>23548.39</td>\n",
       "      <td>9.22</td>\n",
       "      <td>4.65</td>\n",
       "      <td>7.0</td>\n",
       "    </tr>\n",
       "  </tbody>\n",
       "</table>\n",
       "</div>"
      ],
      "text/plain": [
       "     group  count_all_students      ARPU     ARPAU     CR  CR_active  \\\n",
       "0  control                 305   4540.98   8993.51  20.33      10.07   \n",
       "1    pilot                 295  11508.47  23548.39   9.22       4.65   \n",
       "\n",
       "   CR_active_math  \n",
       "0             9.8  \n",
       "1             7.0  "
      ]
     },
     "execution_count": 31,
     "metadata": {},
     "output_type": "execute_result"
    }
   ],
   "source": [
    "query = '''\n",
    "SELECT\n",
    "    group,\n",
    "    COUNT(id) AS count_all_students,\n",
    "    ROUND(SUM(pay) / COUNT(id),2) AS ARPU,\n",
    "    ROUND(sumIf(pay, cor > 10 OR cor_math>1) / countIf(cor > 10 OR cor_math>1),2) AS ARPAU,\n",
    "    ROUND(COUNT(id) / countIf(pay > 0),2) AS CR,\n",
    "    ROUND(countIf(cor > 10) / countIf(pay > 0 AND cor > 10),2) AS CR_active,\n",
    "    ROUND(countIf(cor_math > 1) / countIf(pay > 0 AND cor_math > 1),2) AS CR_active_math\n",
    "FROM\n",
    "    (SELECT\n",
    "        studs.st_id AS id,\n",
    "        studs.test_grp AS group,\n",
    "        all_sel_tab.all_sel AS pay,\n",
    "        peas_m.count_correct AS cor,\n",
    "        peas_m.count_math AS cor_math\n",
    "    FROM\n",
    "        default.studs\n",
    "    LEFT JOIN\n",
    "        (\n",
    "        SELECT\n",
    "            st_id,\n",
    "            SUM(money) AS all_sel\n",
    "        FROM\n",
    "            default.final_project_check\n",
    "        GROUP BY\n",
    "            default.final_project_check.st_id\n",
    "        ) AS all_sel_tab\n",
    "    ON\n",
    "        studs.st_id = all_sel_tab.st_id\n",
    "    LEFT JOIN\n",
    "        (\n",
    "        SELECT\n",
    "            st_id,\n",
    "            COUNT(correct) AS count_correct,\n",
    "            countIf(correct = 1 and subject = 'Math') AS count_math\n",
    "        FROM\n",
    "            default.peas\n",
    "        GROUP BY\n",
    "            st_id\n",
    "        ) AS peas_m\n",
    "    ON\n",
    "        studs.st_id = peas_m.st_id)\n",
    "GROUP BY group\n",
    "'''\n",
    "\n",
    "df = ph.read_clickhouse(query=query, connection=connection_to_def)\n",
    "df"
   ]
  },
  {
   "cell_type": "markdown",
   "id": "a1e9051b",
   "metadata": {
    "id": "a1e9051b"
   },
   "source": [
    "## Задание 3. Python\n",
    "\n",
    "Реализуйте функцию, которая будет автоматически подгружать информацию из дополнительного файла groups_add.csv (заголовки могут отличаться) и на основании дополнительных параметров пересчитывать метрики.\n",
    "Реализуйте функцию, которая будет строить графики по получаемым метрикам."
   ]
  },
  {
   "cell_type": "markdown",
   "id": "a01a090e",
   "metadata": {
    "id": "a01a090e"
   },
   "source": [
    "Создадаим начальную таблицу только из файлов groups.csv, active_studs.csv и checks.csv"
   ]
  },
  {
   "cell_type": "code",
   "execution_count": 32,
   "id": "ff417a4c",
   "metadata": {
    "id": "ff417a4c"
   },
   "outputs": [],
   "source": [
    "data = groups.merge(active_studs, how = 'left', on = 'id')\n",
    "data = data.merge(checks, how = 'left', on = 'id')\n",
    "data.fillna(0, inplace = True)"
   ]
  },
  {
   "cell_type": "code",
   "execution_count": 33,
   "id": "701a3c5c",
   "metadata": {
    "colab": {
     "base_uri": "https://localhost:8080/",
     "height": 354
    },
    "id": "701a3c5c",
    "outputId": "fe9dced1-5644-413f-cd6a-e3e8d4261d93"
   },
   "outputs": [
    {
     "name": "stdout",
     "output_type": "stream",
     "text": [
      "Корверсия на покупку\n"
     ]
    },
    {
     "data": {
      "text/html": [
       "<div>\n",
       "<style scoped>\n",
       "    .dataframe tbody tr th:only-of-type {\n",
       "        vertical-align: middle;\n",
       "    }\n",
       "\n",
       "    .dataframe tbody tr th {\n",
       "        vertical-align: top;\n",
       "    }\n",
       "\n",
       "    .dataframe thead th {\n",
       "        text-align: right;\n",
       "    }\n",
       "</style>\n",
       "<table border=\"1\" class=\"dataframe\">\n",
       "  <thead>\n",
       "    <tr style=\"text-align: right;\">\n",
       "      <th></th>\n",
       "      <th>grp</th>\n",
       "      <th>active</th>\n",
       "      <th>paid</th>\n",
       "      <th>cr</th>\n",
       "    </tr>\n",
       "  </thead>\n",
       "  <tbody>\n",
       "    <tr>\n",
       "      <th>0</th>\n",
       "      <td>A</td>\n",
       "      <td>1537</td>\n",
       "      <td>107</td>\n",
       "      <td>6.96</td>\n",
       "    </tr>\n",
       "    <tr>\n",
       "      <th>1</th>\n",
       "      <td>B</td>\n",
       "      <td>6803</td>\n",
       "      <td>314</td>\n",
       "      <td>4.62</td>\n",
       "    </tr>\n",
       "  </tbody>\n",
       "</table>\n",
       "</div>"
      ],
      "text/plain": [
       "  grp  active  paid    cr\n",
       "0   A    1537   107  6.96\n",
       "1   B    6803   314  4.62"
      ]
     },
     "metadata": {},
     "output_type": "display_data"
    },
    {
     "name": "stdout",
     "output_type": "stream",
     "text": [
      "ARPU\n"
     ]
    },
    {
     "data": {
      "text/html": [
       "<div>\n",
       "<style scoped>\n",
       "    .dataframe tbody tr th:only-of-type {\n",
       "        vertical-align: middle;\n",
       "    }\n",
       "\n",
       "    .dataframe tbody tr th {\n",
       "        vertical-align: top;\n",
       "    }\n",
       "\n",
       "    .dataframe thead th {\n",
       "        text-align: right;\n",
       "    }\n",
       "</style>\n",
       "<table border=\"1\" class=\"dataframe\">\n",
       "  <thead>\n",
       "    <tr style=\"text-align: right;\">\n",
       "      <th></th>\n",
       "      <th>grp</th>\n",
       "      <th>num_active</th>\n",
       "      <th>rev</th>\n",
       "      <th>arpu</th>\n",
       "    </tr>\n",
       "  </thead>\n",
       "  <tbody>\n",
       "    <tr>\n",
       "      <th>0</th>\n",
       "      <td>A</td>\n",
       "      <td>1537</td>\n",
       "      <td>72820.0</td>\n",
       "      <td>47.4</td>\n",
       "    </tr>\n",
       "    <tr>\n",
       "      <th>1</th>\n",
       "      <td>B</td>\n",
       "      <td>6803</td>\n",
       "      <td>394974.0</td>\n",
       "      <td>58.1</td>\n",
       "    </tr>\n",
       "  </tbody>\n",
       "</table>\n",
       "</div>"
      ],
      "text/plain": [
       "  grp  num_active       rev  arpu\n",
       "0   A        1537   72820.0  47.4\n",
       "1   B        6803  394974.0  58.1"
      ]
     },
     "metadata": {},
     "output_type": "display_data"
    },
    {
     "name": "stdout",
     "output_type": "stream",
     "text": [
      "ARPPU\n"
     ]
    },
    {
     "data": {
      "text/html": [
       "<div>\n",
       "<style scoped>\n",
       "    .dataframe tbody tr th:only-of-type {\n",
       "        vertical-align: middle;\n",
       "    }\n",
       "\n",
       "    .dataframe tbody tr th {\n",
       "        vertical-align: top;\n",
       "    }\n",
       "\n",
       "    .dataframe thead th {\n",
       "        text-align: right;\n",
       "    }\n",
       "</style>\n",
       "<table border=\"1\" class=\"dataframe\">\n",
       "  <thead>\n",
       "    <tr style=\"text-align: right;\">\n",
       "      <th></th>\n",
       "      <th>grp</th>\n",
       "      <th>num_active</th>\n",
       "      <th>rev</th>\n",
       "      <th>arppu</th>\n",
       "    </tr>\n",
       "  </thead>\n",
       "  <tbody>\n",
       "    <tr>\n",
       "      <th>0</th>\n",
       "      <td>A</td>\n",
       "      <td>107</td>\n",
       "      <td>92096.0</td>\n",
       "      <td>860.7</td>\n",
       "    </tr>\n",
       "    <tr>\n",
       "      <th>1</th>\n",
       "      <td>B</td>\n",
       "      <td>314</td>\n",
       "      <td>394974.0</td>\n",
       "      <td>1257.9</td>\n",
       "    </tr>\n",
       "  </tbody>\n",
       "</table>\n",
       "</div>"
      ],
      "text/plain": [
       "  grp  num_active       rev   arppu\n",
       "0   A         107   92096.0   860.7\n",
       "1   B         314  394974.0  1257.9"
      ]
     },
     "metadata": {},
     "output_type": "display_data"
    }
   ],
   "source": [
    "def renew_metrix(data = data, path = './data/group_add.csv'):\n",
    "    '''\n",
    "    Функция принимает на вход таблицу по которой производился расчёт,\n",
    "    добавляет в неё новые данные по указанному пути,\n",
    "    расчитывает метрики с учётом новых данных\n",
    "    и возвращает новую таблицу с данными и таблицы метрик по группам.\n",
    "    '''\n",
    "    group_add = pd.read_csv(path)\n",
    "\n",
    "    group_add.rename(columns = {group_add.columns[0]:'id', group_add.columns[1]:'grp'},\n",
    "                                    inplace = True)\n",
    "    group_add['added'] = data.added.max() + 1\n",
    "    group_add = group_add.merge(active_studs, how = 'left', on = 'id')\n",
    "    group_add = group_add.merge(checks, how = 'left', on = 'id')\n",
    "    group_add.fillna(0, inplace = True)\n",
    "\n",
    "    full_data = pd.concat([data, group_add])\n",
    "    # Уберём атоматические оплаты.\n",
    "    paid_no_active = full_data.loc[(full_data.active == 0) & (full_data.paid == 1)]\n",
    "    full_data.drop(paid_no_active.loc[paid_no_active.grp == 'B'].index, axis = 0, inplace = True)\n",
    "    # Конверсия\n",
    "    cr = full_data.loc[full_data.active == 1] \\\n",
    "        .groupby('grp', as_index=False) \\\n",
    "        .agg({'active':'count'})\n",
    "\n",
    "    cr['paid'] = full_data.loc[full_data.paid == 1] \\\n",
    "                        .groupby('grp').agg({'active':'count'}) \\\n",
    "                        .active.to_list()\n",
    "\n",
    "    cr['cr'] = round((cr.paid / cr.active) * 100, 2)\n",
    "    print('Корверсия на покупку')\n",
    "    display(cr)\n",
    "\n",
    "    # ARPU\n",
    "    arpu = full_data.loc[full_data.active == 1] \\\n",
    "        .groupby('grp', as_index=False).agg({'id':'count', 'rev':'sum'}) \\\n",
    "        .rename(columns={'id':'num_active'}).round()\n",
    "\n",
    "    arpu['arpu'] = round(arpu.rev / arpu.num_active,1)\n",
    "\n",
    "    print('ARPU')\n",
    "    display(arpu)\n",
    "\n",
    "    # ARPPU\n",
    "    arppu = full_data.loc[full_data.paid == 1] \\\n",
    "        .groupby('grp', as_index=False).agg({'id':'count', 'rev':'sum'}) \\\n",
    "        .rename(columns={'id':'num_active'}).round()\n",
    "\n",
    "    arppu['arppu'] = round(arppu.rev / arppu.num_active,1)\n",
    "\n",
    "    print('ARPPU')\n",
    "    display(arppu)\n",
    "\n",
    "    return full_data, cr, arpu, arppu\n",
    "\n",
    "full_data, cr, arpu, arppu = renew_metrix()"
   ]
  },
  {
   "cell_type": "code",
   "execution_count": 34,
   "id": "52225c0d",
   "metadata": {
    "id": "52225c0d"
   },
   "outputs": [],
   "source": [
    "def metrix_plotter(cr = cr, arpu = arpu, arppu = arppu):\n",
    "    ''' Функция принимает Датафреймы метрик, возвращаемые функцией renew_metrix\n",
    "        и выводит диаграмы метрик по группам'''\n",
    "    metix_dict = [(\"CR\", cr), (\"ARPU\", arpu), (\"ARPPU\", arppu)]\n",
    "    for key, value in metix_dict:\n",
    "        sns.set(style=\"whitegrid\")\n",
    "        plt.title(f'Metrics {key}')\n",
    "        sns.barplot( x=value.grp, y= value[f'{key.lower()}'])\n",
    "        print(value[['grp',f'{key.lower()}']])\n",
    "        plt.show()\n"
   ]
  },
  {
   "cell_type": "code",
   "execution_count": 35,
   "id": "778b99a2",
   "metadata": {
    "colab": {
     "base_uri": "https://localhost:8080/",
     "height": 1000
    },
    "id": "778b99a2",
    "outputId": "d1c53bb0-0622-4e5e-cb00-0e7c2940b8c6"
   },
   "outputs": [
    {
     "name": "stdout",
     "output_type": "stream",
     "text": [
      "  grp    cr\n",
      "0   A  6.96\n",
      "1   B  4.62\n"
     ]
    },
    {
     "data": {
      "image/png": "[encoded data removed]",
      "text/plain": [
       "<Figure size 640x480 with 1 Axes>"
      ]
     },
     "metadata": {},
     "output_type": "display_data"
    },
    {
     "name": "stdout",
     "output_type": "stream",
     "text": [
      "  grp  arpu\n",
      "0   A  47.4\n",
      "1   B  58.1\n"
     ]
    },
    {
     "data": {
      "image/png": "[encoded data removed]",
      "text/plain": [
       "<Figure size 640x480 with 1 Axes>"
      ]
     },
     "metadata": {},
     "output_type": "display_data"
    },
    {
     "name": "stdout",
     "output_type": "stream",
     "text": [
      "  grp   arppu\n",
      "0   A   860.7\n",
      "1   B  1257.9\n"
     ]
    },
    {
     "data": {
      "image/png": "[encoded data removed]",
      "text/plain": [
       "<Figure size 640x480 with 1 Axes>"
      ]
     },
     "metadata": {},
     "output_type": "display_data"
    }
   ],
   "source": [
    "metrix_plotter(cr = cr, arpu = arpu, arppu = arppu)"
   ]
  },
  {
   "cell_type": "markdown",
   "id": "g5xpzSXKOFVb",
   "metadata": {
    "id": "g5xpzSXKOFVb"
   },
   "source": [
    "Функции готовы! Можно продолжать наблюдения за группами."
   ]
  }
 ],
 "metadata": {
  "colab": {
   "provenance": [],
   "toc_visible": true
  },
  "kernelspec": {
   "display_name": "Python 3 (ipykernel)",
   "language": "python",
   "name": "python3"
  },
  "language_info": {
   "codemirror_mode": {
    "name": "ipython",
    "version": 3
   },
   "file_extension": ".py",
   "mimetype": "text/x-python",
   "name": "python",
   "nbconvert_exporter": "python",
   "pygments_lexer": "ipython3",
   "version": "3.9.13"
  },
  "toc": {
   "base_numbering": 1,
   "nav_menu": {},
   "number_sections": true,
   "sideBar": true,
   "skip_h1_title": false,
   "title_cell": "Table of Contents",
   "title_sidebar": "Contents",
   "toc_cell": false,
   "toc_position": {},
   "toc_section_display": true,
   "toc_window_display": false
  }
 },
 "nbformat": 4,
 "nbformat_minor": 5
}
